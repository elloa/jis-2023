{
 "cells": [
  {
   "cell_type": "markdown",
   "id": "fef6cbb0-7f33-4dee-8d72-3d5c6a09813a",
   "metadata": {
    "tags": []
   },
   "source": [
    "# Images Preprocessing - Extended Validation"
   ]
  },
  {
   "cell_type": "code",
   "execution_count": 1,
   "id": "a08deda7-7d2e-4d24-9291-a2a28470bc94",
   "metadata": {},
   "outputs": [],
   "source": [
    "import os, cv2, random, shutil\n",
    "import numpy as np\n",
    "import matplotlib.pyplot as plt\n",
    "from PIL import Image\n",
    "from tqdm import tqdm\n",
    "from mpl_toolkits.axes_grid1 import ImageGrid"
   ]
  },
  {
   "cell_type": "code",
   "execution_count": 2,
   "id": "5c900ed9-bac1-46b7-9fb4-648b0504e66f",
   "metadata": {},
   "outputs": [],
   "source": [
    "DATASETS_FOLDER = \"./datasets\"\n",
    "\n",
    "PATH_BRACOL = DATASETS_FOLDER + \"/bracol/symptom\"\n",
    "PATH_BRACOL_ORIGINAL_SPLITTED = DATASETS_FOLDER + \"/bracol/original_splitted\"\n",
    "PATH_BRACOL_RESIZED_SPLITTED = DATASETS_FOLDER + \"/bracol/resized_splitted\"\n",
    "\n",
    "PATH_PLANT_PATOLOGIES = DATASETS_FOLDER + \"/plant_patologies\"\n",
    "PATH_PLANT_PATOLOGIES_ORIGINAL = PATH_PLANT_PATOLOGIES + \"/original\"\n",
    "PATH_PLANT_PATOLOGIES_RESIZED = PATH_PLANT_PATOLOGIES + \"/resized\"\n",
    "\n",
    "PATH_ROCOLE = DATASETS_FOLDER + \"/rocole/classes\"\n",
    "PATH_ROCOLE_ORIGINAL = DATASETS_FOLDER + \"/rocole/original\"\n",
    "PATH_ROCOLE_RESIZED = DATASETS_FOLDER + \"/rocole/resized\""
   ]
  },
  {
   "cell_type": "markdown",
   "id": "5523a116-75f6-478e-b162-cf16fa729956",
   "metadata": {},
   "source": [
    "## 1. Adjusting datasets folders"
   ]
  },
  {
   "cell_type": "markdown",
   "id": "2293a886-ade3-4f93-a236-6b2c4c5b0606",
   "metadata": {},
   "source": [
    "### 1.1. BRACOL"
   ]
  },
  {
   "cell_type": "code",
   "execution_count": 3,
   "id": "5517132d-54aa-4b77-b8b9-bc0341ddb4c4",
   "metadata": {},
   "outputs": [],
   "source": [
    "# Renaming 'symptom' folder to 'original_splitted'\n",
    "os.rename(PATH_BRACOL, PATH_BRACOL_ORIGINAL_SPLITTED)"
   ]
  },
  {
   "cell_type": "markdown",
   "id": "09175a41-8bd5-4a68-a671-fb102795912b",
   "metadata": {},
   "source": [
    "### 1.2. Plant Patologies"
   ]
  },
  {
   "cell_type": "code",
   "execution_count": 4,
   "id": "c528d3ea-efc7-4cc5-bf91-349307d5bb50",
   "metadata": {},
   "outputs": [],
   "source": [
    "# Moving classes folders to 'original' folder\n",
    "directories = os.listdir(PATH_PLANT_PATOLOGIES)\n",
    "\n",
    "if not os.path.exists(PATH_PLANT_PATOLOGIES_ORIGINAL):\n",
    "    os.mkdir(PATH_PLANT_PATOLOGIES_ORIGINAL)\n",
    "        \n",
    "for directory in directories:    \n",
    "    source = f\"{PATH_PLANT_PATOLOGIES}/{directory}\"\n",
    "    destination = f\"{PATH_PLANT_PATOLOGIES_ORIGINAL}/{directory.split('_')[0]}\"\n",
    "    shutil.move(source, destination)"
   ]
  },
  {
   "cell_type": "markdown",
   "id": "c12b3ee6-0f6a-478b-9410-8c2184bfcfeb",
   "metadata": {},
   "source": [
    "### 1.3. RoCoLe"
   ]
  },
  {
   "cell_type": "code",
   "execution_count": 5,
   "id": "0644c45e-f604-47e2-85c2-f51c16435fd2",
   "metadata": {},
   "outputs": [],
   "source": [
    "# Renaming 'classes' folder to 'original'\n",
    "os.rename(PATH_ROCOLE, PATH_ROCOLE_ORIGINAL)"
   ]
  },
  {
   "cell_type": "markdown",
   "id": "b6385c18-d98b-4bc9-8111-d716cfb88ea6",
   "metadata": {},
   "source": [
    "## 2. Resizing datasets images for 128x128"
   ]
  },
  {
   "cell_type": "markdown",
   "id": "41d887bb-6479-4184-90f2-5c91ccc9c004",
   "metadata": {},
   "source": [
    "### 2.1. BRACOL"
   ]
  },
  {
   "cell_type": "markdown",
   "id": "73e3bf5c-90b1-4805-8f3e-1abe2a948008",
   "metadata": {},
   "source": [
    "#### Listing directories"
   ]
  },
  {
   "cell_type": "code",
   "execution_count": 6,
   "id": "f34a3a76-bda9-4926-8741-fc1187979cab",
   "metadata": {
    "tags": []
   },
   "outputs": [
    {
     "data": {
      "text/plain": [
       "['val', 'test', 'train']"
      ]
     },
     "execution_count": 6,
     "metadata": {},
     "output_type": "execute_result"
    }
   ],
   "source": [
    "directories = os.listdir(PATH_BRACOL_ORIGINAL_SPLITTED)\n",
    "directories"
   ]
  },
  {
   "cell_type": "markdown",
   "id": "53b3c006-6c9f-472c-8190-a6d9bbb619d4",
   "metadata": {},
   "source": [
    "#### Resizing images"
   ]
  },
  {
   "cell_type": "code",
   "execution_count": 7,
   "id": "6466c4c0-1f60-40dc-abc2-2c84cd8448ce",
   "metadata": {},
   "outputs": [
    {
     "name": "stderr",
     "output_type": "stream",
     "text": [
      "Resizing images: 100%|█████████████████████████████████████████████████████████████████████████████████████████████| 93/93 [00:00<00:00, 807.19it/s]\n"
     ]
    },
    {
     "name": "stdout",
     "output_type": "stream",
     "text": [
      "Images from val/3_rust folder resized!\n"
     ]
    },
    {
     "name": "stderr",
     "output_type": "stream",
     "text": [
      "Resizing images: 100%|█████████████████████████████████████████████████████████████████████████████████████████████| 40/40 [00:00<00:00, 863.71it/s]\n"
     ]
    },
    {
     "name": "stdout",
     "output_type": "stream",
     "text": [
      "Images from val/1_health folder resized!\n"
     ]
    },
    {
     "name": "stderr",
     "output_type": "stream",
     "text": [
      "Resizing images: 100%|█████████████████████████████████████████████████████████████████████████████████████████████| 83/83 [00:00<00:00, 874.80it/s]\n"
     ]
    },
    {
     "name": "stdout",
     "output_type": "stream",
     "text": [
      "Images from val/2_miner folder resized!\n"
     ]
    },
    {
     "name": "stderr",
     "output_type": "stream",
     "text": [
      "Resizing images: 100%|█████████████████████████████████████████████████████████████████████████████████████████████| 49/49 [00:00<00:00, 893.64it/s]\n"
     ]
    },
    {
     "name": "stdout",
     "output_type": "stream",
     "text": [
      "Images from val/5_cercospora folder resized!\n"
     ]
    },
    {
     "name": "stderr",
     "output_type": "stream",
     "text": [
      "Resizing images: 100%|█████████████████████████████████████████████████████████████████████████████████████████████| 70/70 [00:00<00:00, 763.33it/s]\n"
     ]
    },
    {
     "name": "stdout",
     "output_type": "stream",
     "text": [
      "Images from val/4_phoma folder resized!\n"
     ]
    },
    {
     "name": "stderr",
     "output_type": "stream",
     "text": [
      "Resizing images: 100%|█████████████████████████████████████████████████████████████████████████████████████████████| 94/94 [00:00<00:00, 951.91it/s]\n"
     ]
    },
    {
     "name": "stdout",
     "output_type": "stream",
     "text": [
      "Images from test/3_rust folder resized!\n"
     ]
    },
    {
     "name": "stderr",
     "output_type": "stream",
     "text": [
      "Resizing images: 100%|█████████████████████████████████████████████████████████████████████████████████████████████| 39/39 [00:00<00:00, 942.57it/s]\n"
     ]
    },
    {
     "name": "stdout",
     "output_type": "stream",
     "text": [
      "Images from test/1_health folder resized!\n"
     ]
    },
    {
     "name": "stderr",
     "output_type": "stream",
     "text": [
      "Resizing images: 100%|█████████████████████████████████████████████████████████████████████████████████████████████| 83/83 [00:00<00:00, 840.07it/s]\n"
     ]
    },
    {
     "name": "stdout",
     "output_type": "stream",
     "text": [
      "Images from test/2_miner folder resized!\n"
     ]
    },
    {
     "name": "stderr",
     "output_type": "stream",
     "text": [
      "Resizing images: 100%|█████████████████████████████████████████████████████████████████████████████████████████████| 50/50 [00:00<00:00, 910.31it/s]\n"
     ]
    },
    {
     "name": "stdout",
     "output_type": "stream",
     "text": [
      "Images from test/5_cercospora folder resized!\n"
     ]
    },
    {
     "name": "stderr",
     "output_type": "stream",
     "text": [
      "Resizing images: 100%|█████████████████████████████████████████████████████████████████████████████████████████████| 69/69 [00:00<00:00, 820.43it/s]\n"
     ]
    },
    {
     "name": "stdout",
     "output_type": "stream",
     "text": [
      "Images from test/4_phoma folder resized!\n"
     ]
    },
    {
     "name": "stderr",
     "output_type": "stream",
     "text": [
      "Resizing images: 100%|███████████████████████████████████████████████████████████████████████████████████████████| 434/434 [00:00<00:00, 889.53it/s]\n"
     ]
    },
    {
     "name": "stdout",
     "output_type": "stream",
     "text": [
      "Images from train/3_rust folder resized!\n"
     ]
    },
    {
     "name": "stderr",
     "output_type": "stream",
     "text": [
      "Resizing images: 100%|███████████████████████████████████████████████████████████████████████████████████████████| 182/182 [00:00<00:00, 881.55it/s]\n"
     ]
    },
    {
     "name": "stdout",
     "output_type": "stream",
     "text": [
      "Images from train/1_health folder resized!\n"
     ]
    },
    {
     "name": "stderr",
     "output_type": "stream",
     "text": [
      "Resizing images: 100%|███████████████████████████████████████████████████████████████████████████████████████████| 374/374 [00:00<00:00, 878.62it/s]\n"
     ]
    },
    {
     "name": "stdout",
     "output_type": "stream",
     "text": [
      "Images from train/2_miner folder resized!\n"
     ]
    },
    {
     "name": "stderr",
     "output_type": "stream",
     "text": [
      "Resizing images: 100%|███████████████████████████████████████████████████████████████████████████████████████████| 224/224 [00:00<00:00, 870.99it/s]\n"
     ]
    },
    {
     "name": "stdout",
     "output_type": "stream",
     "text": [
      "Images from train/5_cercospora folder resized!\n"
     ]
    },
    {
     "name": "stderr",
     "output_type": "stream",
     "text": [
      "Resizing images: 100%|███████████████████████████████████████████████████████████████████████████████████████████| 325/325 [00:00<00:00, 819.37it/s]"
     ]
    },
    {
     "name": "stdout",
     "output_type": "stream",
     "text": [
      "Images from train/4_phoma folder resized!\n"
     ]
    },
    {
     "name": "stderr",
     "output_type": "stream",
     "text": [
      "\n"
     ]
    }
   ],
   "source": [
    "for directory in directories:\n",
    "    folders = os.listdir(f\"{PATH_BRACOL_ORIGINAL_SPLITTED}/{directory}\")\n",
    "    \n",
    "    for folder in folders:\n",
    "        root = f\"{PATH_BRACOL_ORIGINAL_SPLITTED}/{directory}/{folder}\"\n",
    "        files = next(os.walk(root))[2]\n",
    "\n",
    "        for file in tqdm(files, \"Resizing images\"):\n",
    "            filepath = os.path.join(root, file)\n",
    "            \n",
    "            try:\n",
    "                with Image.open(filepath) as i:\n",
    "                    image = cv2.imread(f\"{root}/{file}\")\n",
    "                    image_resized = cv2.resize(image, dsize=(128, 128), interpolation=cv2.INTER_CUBIC)\n",
    "\n",
    "                    images_resized_path = f\"{PATH_BRACOL_RESIZED_SPLITTED}/{directory}/{folder.split('_')[1]}\"\n",
    "\n",
    "                    if not os.path.exists(images_resized_path):\n",
    "                        os.makedirs(images_resized_path)\n",
    "\n",
    "                    cv2.imwrite(f\"{images_resized_path}/{file}\", image_resized)\n",
    "            except Exception as e:\n",
    "                pass\n",
    "\n",
    "        print(f\"Images from {directory}/{folder} folder resized!\")"
   ]
  },
  {
   "cell_type": "markdown",
   "id": "271fa1d2-1624-4dfe-94ab-177cd9bcb7ef",
   "metadata": {},
   "source": [
    "### 2.2. Plant Patologies"
   ]
  },
  {
   "cell_type": "markdown",
   "id": "41876528-5dc2-4d1b-a7bd-015f9d5ac754",
   "metadata": {},
   "source": [
    "#### Listing directories"
   ]
  },
  {
   "cell_type": "code",
   "execution_count": 8,
   "id": "b66a76c2-5184-4fe3-9b90-107027d8acf2",
   "metadata": {},
   "outputs": [
    {
     "data": {
      "text/plain": [
       "['miner', 'rust']"
      ]
     },
     "execution_count": 8,
     "metadata": {},
     "output_type": "execute_result"
    }
   ],
   "source": [
    "directories = os.listdir(PATH_PLANT_PATOLOGIES_ORIGINAL)\n",
    "directories"
   ]
  },
  {
   "cell_type": "markdown",
   "id": "8f399224-d3c9-4178-9fbc-44bd6f4f7b3d",
   "metadata": {},
   "source": [
    "#### Resizing images"
   ]
  },
  {
   "cell_type": "code",
   "execution_count": 9,
   "id": "d45862e7-4f40-46f9-92ff-7c3bd25bfadf",
   "metadata": {
    "tags": []
   },
   "outputs": [
    {
     "name": "stderr",
     "output_type": "stream",
     "text": [
      "Resizing images: 100%|████████████████████████████████████████████████████████████████████████████████████████████| 257/257 [00:31<00:00,  8.19it/s]\n"
     ]
    },
    {
     "name": "stdout",
     "output_type": "stream",
     "text": [
      "Images from miner folder resized!\n"
     ]
    },
    {
     "name": "stderr",
     "output_type": "stream",
     "text": [
      "Resizing images: 100%|████████████████████████████████████████████████████████████████████████████████████████████| 285/285 [00:34<00:00,  8.30it/s]"
     ]
    },
    {
     "name": "stdout",
     "output_type": "stream",
     "text": [
      "Images from rust folder resized!\n"
     ]
    },
    {
     "name": "stderr",
     "output_type": "stream",
     "text": [
      "\n"
     ]
    }
   ],
   "source": [
    "for directory in directories:\n",
    "    root = f\"{PATH_PLANT_PATOLOGIES_ORIGINAL}/{directory}\"\n",
    "    files = next(os.walk(root))[2]\n",
    "    files = [file for file in files if (\".jpg\" in file) or (\".png\" in file)]\n",
    "    \n",
    "    for file in tqdm(files, \"Resizing images\"):\n",
    "        image = cv2.imread(f\"{root}/{file}\")\n",
    "        image_resized = cv2.resize(image, dsize=(128, 128), interpolation=cv2.INTER_CUBIC)\n",
    "\n",
    "        images_resized_path = f\"{PATH_PLANT_PATOLOGIES_RESIZED}/{directory}\"\n",
    "\n",
    "        if not os.path.exists(images_resized_path):\n",
    "            os.makedirs(images_resized_path)\n",
    "\n",
    "        cv2.imwrite(f\"{images_resized_path}/{file}\", image_resized)\n",
    "        \n",
    "    print(f\"Images from {directory} folder resized!\")"
   ]
  },
  {
   "cell_type": "markdown",
   "id": "ed8292b7-790d-44e9-bb78-5bbb089f52d3",
   "metadata": {},
   "source": [
    "### 2.3. RoCoLe"
   ]
  },
  {
   "cell_type": "markdown",
   "id": "691b85f4-585c-41e2-b9c6-66be5446a7b0",
   "metadata": {},
   "source": [
    "#### Listing directories"
   ]
  },
  {
   "cell_type": "code",
   "execution_count": 10,
   "id": "50ffa091-0fc5-404a-812b-f24b8efb9233",
   "metadata": {},
   "outputs": [
    {
     "data": {
      "text/plain": [
       "['rust', 'healthy', 'red_spider_mite']"
      ]
     },
     "execution_count": 10,
     "metadata": {},
     "output_type": "execute_result"
    }
   ],
   "source": [
    "directories = os.listdir(PATH_ROCOLE_ORIGINAL)\n",
    "directories"
   ]
  },
  {
   "cell_type": "markdown",
   "id": "012b3d8d-9167-44a6-9504-1d20b1d4249a",
   "metadata": {},
   "source": [
    "#### Resizing images"
   ]
  },
  {
   "cell_type": "code",
   "execution_count": 11,
   "id": "603fba5b-f718-4b14-b1b9-e7a35be1ba48",
   "metadata": {
    "collapsed": true,
    "jupyter": {
     "outputs_hidden": true
    },
    "tags": []
   },
   "outputs": [
    {
     "name": "stderr",
     "output_type": "stream",
     "text": [
      "Resizing images:   0%|                                                                                                      | 0/602 [00:00<?, ?it/s]Invalid SOS parameters for sequential JPEG\n",
      "Resizing images:   1%|▌                                                                                             | 4/602 [00:00<00:17, 33.24it/s]Invalid SOS parameters for sequential JPEG\n",
      "Resizing images:   1%|█▏                                                                                            | 8/602 [00:00<00:17, 34.09it/s]Invalid SOS parameters for sequential JPEG\n",
      "Invalid SOS parameters for sequential JPEG\n",
      "Invalid SOS parameters for sequential JPEG\n",
      "Invalid SOS parameters for sequential JPEG\n",
      "Invalid SOS parameters for sequential JPEG\n",
      "Invalid SOS parameters for sequential JPEG\n",
      "Resizing images:   2%|██▎                                                                                          | 15/602 [00:00<00:12, 47.54it/s]Invalid SOS parameters for sequential JPEG\n",
      "Invalid SOS parameters for sequential JPEG\n",
      "Resizing images:   3%|███                                                                                          | 20/602 [00:00<00:18, 31.58it/s]Invalid SOS parameters for sequential JPEG\n",
      "Resizing images:   4%|███▋                                                                                         | 24/602 [00:00<00:22, 26.06it/s]Invalid SOS parameters for sequential JPEG\n",
      "Invalid SOS parameters for sequential JPEG\n",
      "Invalid SOS parameters for sequential JPEG\n",
      "Invalid SOS parameters for sequential JPEG\n",
      "Resizing images:   6%|█████▊                                                                                       | 38/602 [00:01<00:19, 28.21it/s]Invalid SOS parameters for sequential JPEG\n",
      "Resizing images:   7%|██████▍                                                                                      | 42/602 [00:01<00:21, 25.50it/s]Invalid SOS parameters for sequential JPEG\n",
      "Resizing images:   7%|██████▉                                                                                      | 45/602 [00:01<00:24, 23.08it/s]Invalid SOS parameters for sequential JPEG\n",
      "Invalid SOS parameters for sequential JPEG\n",
      "Invalid SOS parameters for sequential JPEG\n",
      "Resizing images:   8%|███████▌                                                                                     | 49/602 [00:01<00:23, 23.13it/s]Invalid SOS parameters for sequential JPEG\n",
      "Invalid SOS parameters for sequential JPEG\n",
      "Resizing images:   9%|████████▊                                                                                    | 57/602 [00:02<00:22, 24.62it/s]Invalid SOS parameters for sequential JPEG\n",
      "Resizing images:  10%|█████████▎                                                                                   | 60/602 [00:02<00:24, 22.51it/s]Invalid SOS parameters for sequential JPEG\n",
      "Invalid SOS parameters for sequential JPEG\n",
      "Resizing images:  10%|█████████▋                                                                                   | 63/602 [00:02<00:25, 21.36it/s]Invalid SOS parameters for sequential JPEG\n",
      "Resizing images:  11%|██████████▏                                                                                  | 66/602 [00:02<00:26, 19.94it/s]Invalid SOS parameters for sequential JPEG\n",
      "Invalid SOS parameters for sequential JPEG\n",
      "Resizing images:  12%|██████████▊                                                                                  | 70/602 [00:02<00:27, 19.70it/s]Invalid SOS parameters for sequential JPEG\n",
      "Resizing images:  12%|███████████▎                                                                                 | 73/602 [00:03<00:28, 18.69it/s]Invalid SOS parameters for sequential JPEG\n",
      "Resizing images:  13%|███████████▉                                                                                 | 77/602 [00:03<00:23, 22.04it/s]Invalid SOS parameters for sequential JPEG\n",
      "Resizing images:  14%|████████████▉                                                                                | 84/602 [00:03<00:27, 18.84it/s]Invalid SOS parameters for sequential JPEG\n",
      "Invalid SOS parameters for sequential JPEG\n",
      "Invalid SOS parameters for sequential JPEG\n",
      "Resizing images:  15%|█████████████▋                                                                               | 89/602 [00:03<00:21, 24.11it/s]Invalid SOS parameters for sequential JPEG\n",
      "Resizing images:  16%|██████████████▉                                                                              | 97/602 [00:03<00:20, 24.78it/s]Invalid SOS parameters for sequential JPEG\n",
      "Resizing images:  17%|███████████████▎                                                                            | 100/602 [00:04<00:22, 22.62it/s]Invalid SOS parameters for sequential JPEG\n",
      "Resizing images:  17%|███████████████▋                                                                            | 103/602 [00:04<00:23, 20.88it/s]Invalid SOS parameters for sequential JPEG\n",
      "Resizing images:  18%|████████████████▎                                                                           | 107/602 [00:04<00:20, 24.16it/s]Invalid SOS parameters for sequential JPEG\n",
      "Resizing images:  18%|████████████████▊                                                                           | 110/602 [00:04<00:23, 21.34it/s]Invalid SOS parameters for sequential JPEG\n",
      "Invalid SOS parameters for sequential JPEG\n",
      "Resizing images:  19%|█████████████████▎                                                                          | 113/602 [00:04<00:23, 20.62it/s]Invalid SOS parameters for sequential JPEG\n",
      "Resizing images:  19%|█████████████████▉                                                                          | 117/602 [00:04<00:20, 23.79it/s]Invalid SOS parameters for sequential JPEG\n",
      "Resizing images:  20%|██████████████████▎                                                                         | 120/602 [00:05<00:21, 21.91it/s]Invalid SOS parameters for sequential JPEG\n",
      "Invalid SOS parameters for sequential JPEG\n",
      "Resizing images:  21%|███████████████████                                                                         | 125/602 [00:05<00:17, 26.60it/s]Invalid SOS parameters for sequential JPEG\n",
      "Invalid SOS parameters for sequential JPEG\n",
      "Resizing images:  23%|████████████████████▊                                                                       | 136/602 [00:05<00:17, 27.15it/s]Invalid SOS parameters for sequential JPEG\n",
      "Invalid SOS parameters for sequential JPEG\n",
      "Resizing images:  23%|█████████████████████▏                                                                      | 139/602 [00:05<00:18, 24.92it/s]Invalid SOS parameters for sequential JPEG\n",
      "Invalid SOS parameters for sequential JPEG\n",
      "Resizing images:  24%|██████████████████████                                                                      | 144/602 [00:05<00:15, 29.53it/s]Invalid SOS parameters for sequential JPEG\n",
      "Resizing images:  25%|██████████████████████▌                                                                     | 148/602 [00:05<00:14, 31.60it/s]Invalid SOS parameters for sequential JPEG\n",
      "Invalid SOS parameters for sequential JPEG\n",
      "Resizing images:  25%|███████████████████████▍                                                                    | 153/602 [00:06<00:16, 27.01it/s]Invalid SOS parameters for sequential JPEG\n",
      "Invalid SOS parameters for sequential JPEG\n",
      "Invalid SOS parameters for sequential JPEG\n",
      "Resizing images:  26%|████████████████████████▏                                                                   | 158/602 [00:06<00:14, 31.33it/s]Invalid SOS parameters for sequential JPEG\n",
      "Invalid SOS parameters for sequential JPEG\n",
      "Invalid SOS parameters for sequential JPEG\n",
      "Resizing images:  27%|████████████████████████▉                                                                   | 163/602 [00:06<00:12, 35.39it/s]Invalid SOS parameters for sequential JPEG\n",
      "Resizing images:  28%|█████████████████████████▌                                                                  | 167/602 [00:06<00:15, 28.61it/s]Invalid SOS parameters for sequential JPEG\n",
      "Invalid SOS parameters for sequential JPEG\n",
      "Resizing images:  28%|██████████████████████████▏                                                                 | 171/602 [00:06<00:16, 26.30it/s]Invalid SOS parameters for sequential JPEG\n",
      "Resizing images:  29%|██████████████████████████▋                                                                 | 175/602 [00:06<00:14, 28.85it/s]Invalid SOS parameters for sequential JPEG\n",
      "Resizing images:  30%|███████████████████████████▎                                                                | 179/602 [00:07<00:16, 25.43it/s]Invalid SOS parameters for sequential JPEG\n",
      "Resizing images:  31%|████████████████████████████▌                                                               | 187/602 [00:07<00:17, 24.14it/s]Invalid SOS parameters for sequential JPEG\n",
      "Invalid SOS parameters for sequential JPEG\n",
      "Resizing images:  32%|█████████████████████████████▎                                                              | 192/602 [00:07<00:14, 28.09it/s]Invalid SOS parameters for sequential JPEG\n",
      "Invalid SOS parameters for sequential JPEG\n",
      "Resizing images:  33%|██████████████████████████████                                                              | 197/602 [00:07<00:13, 31.08it/s]Invalid SOS parameters for sequential JPEG\n",
      "Resizing images:  33%|██████████████████████████████▋                                                             | 201/602 [00:07<00:17, 22.86it/s]Invalid SOS parameters for sequential JPEG\n",
      "Resizing images:  34%|███████████████████████████████▋                                                            | 207/602 [00:08<00:19, 19.79it/s]Invalid SOS parameters for sequential JPEG\n",
      "Resizing images:  36%|████████████████████████████████▋                                                           | 214/602 [00:08<00:17, 21.59it/s]Invalid SOS parameters for sequential JPEG\n",
      "Invalid SOS parameters for sequential JPEG\n",
      "Resizing images:  36%|█████████████████████████████████▏                                                          | 217/602 [00:08<00:18, 21.23it/s]Invalid SOS parameters for sequential JPEG\n",
      "Invalid SOS parameters for sequential JPEG\n",
      "Resizing images:  37%|█████████████████████████████████▌                                                          | 220/602 [00:08<00:18, 20.69it/s]Invalid SOS parameters for sequential JPEG\n",
      "Resizing images:  38%|██████████████████████████████████▉                                                         | 229/602 [00:09<00:23, 16.21it/s]Invalid SOS parameters for sequential JPEG\n",
      "Resizing images:  39%|███████████████████████████████████▉                                                        | 235/602 [00:09<00:23, 15.85it/s]Invalid SOS parameters for sequential JPEG\n",
      "Invalid SOS parameters for sequential JPEG\n",
      "Resizing images:  40%|████████████████████████████████████▋                                                       | 240/602 [00:10<00:16, 21.55it/s]Invalid SOS parameters for sequential JPEG\n",
      "Resizing images:  41%|█████████████████████████████████████▉                                                      | 248/602 [00:10<00:13, 26.15it/s]Invalid SOS parameters for sequential JPEG\n",
      "Resizing images:  42%|██████████████████████████████████████▌                                                     | 252/602 [00:10<00:12, 28.64it/s]Invalid SOS parameters for sequential JPEG\n",
      "Invalid SOS parameters for sequential JPEG\n",
      "Resizing images:  43%|███████████████████████████████████████                                                     | 256/602 [00:10<00:12, 26.67it/s]Invalid SOS parameters for sequential JPEG\n",
      "Invalid SOS parameters for sequential JPEG\n",
      "Resizing images:  44%|████████████████████████████████████████▍                                                   | 265/602 [00:10<00:10, 30.72it/s]Invalid SOS parameters for sequential JPEG\n",
      "Invalid SOS parameters for sequential JPEG\n",
      "Resizing images:  45%|█████████████████████████████████████████                                                   | 269/602 [00:10<00:11, 27.79it/s]Invalid SOS parameters for sequential JPEG\n",
      "Resizing images:  45%|█████████████████████████████████████████▋                                                  | 273/602 [00:11<00:11, 29.70it/s]Invalid SOS parameters for sequential JPEG\n",
      "Invalid SOS parameters for sequential JPEG\n",
      "Resizing images:  46%|██████████████████████████████████████████▍                                                 | 278/602 [00:11<00:09, 33.15it/s]Invalid SOS parameters for sequential JPEG\n",
      "Resizing images:  47%|███████████████████████████████████████████                                                 | 282/602 [00:11<00:11, 27.54it/s]Invalid SOS parameters for sequential JPEG\n",
      "Invalid SOS parameters for sequential JPEG\n",
      "Resizing images:  48%|███████████████████████████████████████████▋                                                | 286/602 [00:11<00:12, 25.52it/s]Invalid SOS parameters for sequential JPEG\n",
      "Invalid SOS parameters for sequential JPEG\n",
      "Resizing images:  48%|████████████████████████████████████████████▏                                               | 289/602 [00:11<00:13, 22.70it/s]Invalid SOS parameters for sequential JPEG\n",
      "Resizing images:  49%|████████████████████████████████████████████▊                                               | 293/602 [00:11<00:12, 25.38it/s]Invalid SOS parameters for sequential JPEG\n",
      "Resizing images:  49%|█████████████████████████████████████████████▍                                              | 297/602 [00:12<00:12, 23.55it/s]Invalid SOS parameters for sequential JPEG\n",
      "Invalid SOS parameters for sequential JPEG\n",
      "Resizing images:  51%|██████████████████████████████████████████████▊                                             | 306/602 [00:12<00:10, 28.37it/s]Invalid SOS parameters for sequential JPEG\n",
      "Invalid SOS parameters for sequential JPEG\n",
      "Invalid SOS parameters for sequential JPEG\n",
      "Resizing images:  52%|███████████████████████████████████████████████▋                                            | 312/602 [00:12<00:08, 33.57it/s]Invalid SOS parameters for sequential JPEG\n",
      "Invalid SOS parameters for sequential JPEG\n",
      "Invalid SOS parameters for sequential JPEG\n",
      "Resizing images:  53%|████████████████████████████████████████████████▍                                           | 317/602 [00:12<00:09, 29.99it/s]Invalid SOS parameters for sequential JPEG\n",
      "Resizing images:  53%|█████████████████████████████████████████████████                                           | 321/602 [00:12<00:10, 26.95it/s]Invalid SOS parameters for sequential JPEG\n",
      "Resizing images:  54%|█████████████████████████████████████████████████▌                                          | 324/602 [00:13<00:11, 24.26it/s]Invalid SOS parameters for sequential JPEG\n",
      "Resizing images:  54%|██████████████████████████████████████████████████▏                                         | 328/602 [00:13<00:10, 26.68it/s]Invalid SOS parameters for sequential JPEG\n",
      "Resizing images:  55%|██████████████████████████████████████████████████▋                                         | 332/602 [00:13<00:09, 29.26it/s]Invalid SOS parameters for sequential JPEG\n",
      "Resizing images:  56%|███████████████████████████████████████████████████▎                                        | 336/602 [00:13<00:08, 31.71it/s]Invalid SOS parameters for sequential JPEG\n",
      "Invalid SOS parameters for sequential JPEG\n",
      "Invalid SOS parameters for sequential JPEG\n",
      "Resizing images:  57%|████████████████████████████████████████████████████▎                                       | 342/602 [00:13<00:08, 29.48it/s]Invalid SOS parameters for sequential JPEG\n",
      "Invalid SOS parameters for sequential JPEG\n",
      "Invalid SOS parameters for sequential JPEG\n",
      "Resizing images:  58%|█████████████████████████████████████████████████████                                       | 347/602 [00:13<00:07, 33.55it/s]Invalid SOS parameters for sequential JPEG\n",
      "Invalid SOS parameters for sequential JPEG\n",
      "Resizing images:  58%|█████████████████████████████████████████████████████▋                                      | 351/602 [00:13<00:08, 29.61it/s]Invalid SOS parameters for sequential JPEG\n",
      "Invalid SOS parameters for sequential JPEG\n",
      "Resizing images:  60%|███████████████████████████████████████████████████████▍                                    | 363/602 [00:14<00:10, 22.62it/s]Invalid SOS parameters for sequential JPEG\n",
      "Invalid SOS parameters for sequential JPEG\n",
      "Resizing images:  62%|████████████████████████████████████████████████████████▋                                   | 371/602 [00:14<00:10, 22.71it/s]Invalid SOS parameters for sequential JPEG\n",
      "Invalid SOS parameters for sequential JPEG\n",
      "Invalid SOS parameters for sequential JPEG\n",
      "Resizing images:  62%|█████████████████████████████████████████████████████████▍                                  | 376/602 [00:14<00:08, 27.75it/s]Invalid SOS parameters for sequential JPEG\n",
      "Resizing images:  63%|██████████████████████████████████████████████████████████                                  | 380/602 [00:15<00:08, 25.06it/s]Invalid SOS parameters for sequential JPEG\n",
      "Invalid SOS parameters for sequential JPEG\n",
      "Resizing images:  64%|██████████████████████████████████████████████████████████▊                                 | 385/602 [00:15<00:07, 28.45it/s]Invalid SOS parameters for sequential JPEG\n",
      "Resizing images:  66%|████████████████████████████████████████████████████████████▎                               | 395/602 [00:15<00:10, 19.75it/s]Invalid SOS parameters for sequential JPEG\n",
      "Resizing images:  66%|████████████████████████████████████████████████████████████▊                               | 398/602 [00:15<00:10, 19.26it/s]Invalid SOS parameters for sequential JPEG\n",
      "Resizing images:  67%|█████████████████████████████████████████████████████████████▍                              | 402/602 [00:16<00:08, 22.49it/s]Invalid SOS parameters for sequential JPEG\n",
      "Invalid SOS parameters for sequential JPEG\n",
      "Invalid SOS parameters for sequential JPEG\n",
      "Resizing images:  68%|██████████████████████████████████████████████████████████████▏                             | 407/602 [00:16<00:08, 23.74it/s]Invalid SOS parameters for sequential JPEG\n",
      "Resizing images:  68%|██████████████████████████████████████████████████████████████▊                             | 411/602 [00:16<00:07, 26.16it/s]Invalid SOS parameters for sequential JPEG\n",
      "Resizing images:  70%|████████████████████████████████████████████████████████████████                            | 419/602 [00:16<00:06, 29.58it/s]Invalid SOS parameters for sequential JPEG\n",
      "Invalid SOS parameters for sequential JPEG\n",
      "Resizing images:  70%|████████████████████████████████████████████████████████████████▊                           | 424/602 [00:16<00:06, 27.44it/s]Invalid SOS parameters for sequential JPEG\n",
      "Invalid SOS parameters for sequential JPEG\n",
      "Resizing images:  72%|██████████████████████████████████████████████████████████████████▋                         | 436/602 [00:17<00:07, 22.57it/s]Invalid SOS parameters for sequential JPEG\n",
      "Invalid SOS parameters for sequential JPEG\n",
      "Invalid SOS parameters for sequential JPEG\n",
      "Invalid SOS parameters for sequential JPEG\n",
      "Invalid SOS parameters for sequential JPEG\n",
      "Resizing images:  74%|███████████████████████████████████████████████████████████████████▋                        | 443/602 [00:17<00:06, 25.73it/s]Invalid SOS parameters for sequential JPEG\n",
      "Resizing images:  75%|████████████████████████████████████████████████████████████████████▊                       | 450/602 [00:17<00:07, 19.14it/s]Invalid SOS parameters for sequential JPEG\n",
      "Invalid SOS parameters for sequential JPEG\n",
      "Invalid SOS parameters for sequential JPEG\n",
      "Resizing images:  76%|█████████████████████████████████████████████████████████████████████▌                      | 455/602 [00:18<00:06, 24.24it/s]Invalid SOS parameters for sequential JPEG\n",
      "Invalid SOS parameters for sequential JPEG\n",
      "Invalid SOS parameters for sequential JPEG\n",
      "Invalid SOS parameters for sequential JPEG\n",
      "Resizing images:  77%|██████████████████████████████████████████████████████████████████████▍                     | 461/602 [00:18<00:04, 30.68it/s]Invalid SOS parameters for sequential JPEG\n",
      "Resizing images:  77%|███████████████████████████████████████████████████████████████████████                     | 465/602 [00:18<00:05, 26.69it/s]Invalid SOS parameters for sequential JPEG\n",
      "Resizing images:  79%|████████████████████████████████████████████████████████████████████████▎                   | 473/602 [00:18<00:05, 24.67it/s]Invalid SOS parameters for sequential JPEG\n",
      "Invalid SOS parameters for sequential JPEG\n",
      "Resizing images:  79%|████████████████████████████████████████████████████████████████████████▉                   | 477/602 [00:18<00:05, 24.33it/s]Invalid SOS parameters for sequential JPEG\n",
      "Invalid SOS parameters for sequential JPEG\n",
      "Invalid SOS parameters for sequential JPEG\n",
      "Resizing images:  80%|█████████████████████████████████████████████████████████████████████████▋                  | 482/602 [00:19<00:04, 28.92it/s]Invalid SOS parameters for sequential JPEG\n",
      "Resizing images:  81%|██████████████████████████████████████████████████████████████████████████▎                 | 486/602 [00:19<00:03, 30.38it/s]Invalid SOS parameters for sequential JPEG\n",
      "Invalid SOS parameters for sequential JPEG\n",
      "Invalid SOS parameters for sequential JPEG\n",
      "Invalid SOS parameters for sequential JPEG\n",
      "Invalid SOS parameters for sequential JPEG\n",
      "Resizing images:  82%|███████████████████████████████████████████████████████████████████████████▎                | 493/602 [00:19<00:02, 37.44it/s]Invalid SOS parameters for sequential JPEG\n",
      "Resizing images:  83%|████████████████████████████████████████████████████████████████████████████                | 498/602 [00:19<00:03, 30.46it/s]Invalid SOS parameters for sequential JPEG\n",
      "Invalid SOS parameters for sequential JPEG\n",
      "Resizing images:  84%|█████████████████████████████████████████████████████████████████████████████▎              | 506/602 [00:19<00:04, 21.16it/s]Invalid SOS parameters for sequential JPEG\n",
      "Invalid SOS parameters for sequential JPEG\n",
      "Resizing images:  85%|██████████████████████████████████████████████████████████████████████████████▏             | 512/602 [00:20<00:04, 18.79it/s]Invalid SOS parameters for sequential JPEG\n",
      "Resizing images:  87%|███████████████████████████████████████████████████████████████████████████████▊            | 522/602 [00:20<00:04, 18.90it/s]Invalid SOS parameters for sequential JPEG\n",
      "Resizing images:  87%|████████████████████████████████████████████████████████████████████████████████▏           | 525/602 [00:21<00:04, 18.54it/s]Invalid SOS parameters for sequential JPEG\n",
      "Resizing images:  88%|█████████████████████████████████████████████████████████████████████████████████▎          | 532/602 [00:21<00:03, 20.67it/s]Invalid SOS parameters for sequential JPEG\n",
      "Resizing images:  89%|█████████████████████████████████████████████████████████████████████████████████▉          | 536/602 [00:21<00:03, 20.52it/s]Invalid SOS parameters for sequential JPEG\n",
      "Invalid SOS parameters for sequential JPEG\n",
      "Invalid SOS parameters for sequential JPEG\n",
      "Resizing images:  90%|██████████████████████████████████████████████████████████████████████████████████▋         | 541/602 [00:21<00:02, 26.13it/s]Invalid SOS parameters for sequential JPEG\n",
      "Resizing images:  91%|███████████████████████████████████████████████████████████████████████████████████▋        | 548/602 [00:22<00:02, 21.46it/s]Invalid SOS parameters for sequential JPEG\n",
      "Invalid SOS parameters for sequential JPEG\n",
      "Invalid SOS parameters for sequential JPEG\n",
      "Invalid SOS parameters for sequential JPEG\n",
      "Resizing images:  93%|█████████████████████████████████████████████████████████████████████████████████████▋      | 561/602 [00:22<00:02, 18.81it/s]Invalid SOS parameters for sequential JPEG\n",
      "Invalid SOS parameters for sequential JPEG\n",
      "Invalid SOS parameters for sequential JPEG\n",
      "Resizing images:  94%|██████████████████████████████████████████████████████████████████████████████████████▍     | 566/602 [00:22<00:01, 23.78it/s]Invalid SOS parameters for sequential JPEG\n",
      "Invalid SOS parameters for sequential JPEG\n",
      "Invalid SOS parameters for sequential JPEG\n",
      "Invalid SOS parameters for sequential JPEG\n",
      "Invalid SOS parameters for sequential JPEG\n",
      "Resizing images:  95%|███████████████████████████████████████████████████████████████████████████████████████▌    | 573/602 [00:22<00:00, 30.78it/s]Invalid SOS parameters for sequential JPEG\n",
      "Invalid SOS parameters for sequential JPEG\n",
      "Resizing images:  96%|████████████████████████████████████████████████████████████████████████████████████████▎   | 578/602 [00:23<00:00, 33.66it/s]Invalid SOS parameters for sequential JPEG\n",
      "Resizing images:  97%|████████████████████████████████████████████████████████████████████████████████████████▉   | 582/602 [00:23<00:00, 27.67it/s]Invalid SOS parameters for sequential JPEG\n",
      "Resizing images:  97%|█████████████████████████████████████████████████████████████████████████████████████████▌  | 586/602 [00:23<00:00, 21.28it/s]Invalid SOS parameters for sequential JPEG\n",
      "Invalid SOS parameters for sequential JPEG\n",
      "Invalid SOS parameters for sequential JPEG\n",
      "Resizing images:  99%|██████████████████████████████████████████████████████████████████████████████████████████▉ | 595/602 [00:23<00:00, 27.08it/s]Invalid SOS parameters for sequential JPEG\n",
      "Resizing images: 100%|███████████████████████████████████████████████████████████████████████████████████████████▌| 599/602 [00:23<00:00, 24.54it/s]Invalid SOS parameters for sequential JPEG\n",
      "Invalid SOS parameters for sequential JPEG\n",
      "Resizing images: 100%|████████████████████████████████████████████████████████████████████████████████████████████| 602/602 [00:24<00:00, 25.03it/s]\n"
     ]
    },
    {
     "name": "stdout",
     "output_type": "stream",
     "text": [
      "Images from rust folder resized!\n"
     ]
    },
    {
     "name": "stderr",
     "output_type": "stream",
     "text": [
      "Resizing images:   0%|                                                                                                      | 0/791 [00:00<?, ?it/s]Invalid SOS parameters for sequential JPEG\n",
      "Resizing images:   0%|▎                                                                                             | 3/791 [00:00<00:48, 16.10it/s]Invalid SOS parameters for sequential JPEG\n",
      "Resizing images:   1%|▊                                                                                             | 7/791 [00:00<00:30, 25.56it/s]Invalid SOS parameters for sequential JPEG\n",
      "Invalid SOS parameters for sequential JPEG\n",
      "Resizing images:   2%|█▉                                                                                           | 16/791 [00:00<00:39, 19.43it/s]Invalid SOS parameters for sequential JPEG\n",
      "Invalid SOS parameters for sequential JPEG\n",
      "Invalid SOS parameters for sequential JPEG\n",
      "Resizing images:   3%|██▌                                                                                          | 22/791 [00:00<00:29, 26.37it/s]Invalid SOS parameters for sequential JPEG\n",
      "Invalid SOS parameters for sequential JPEG\n",
      "Invalid SOS parameters for sequential JPEG\n",
      "Invalid SOS parameters for sequential JPEG\n",
      "Invalid SOS parameters for sequential JPEG\n",
      "Resizing images:   4%|███▍                                                                                         | 29/791 [00:01<00:22, 33.94it/s]Invalid SOS parameters for sequential JPEG\n",
      "Invalid SOS parameters for sequential JPEG\n",
      "Invalid SOS parameters for sequential JPEG\n",
      "Invalid SOS parameters for sequential JPEG\n",
      "Resizing images:   4%|████                                                                                         | 35/791 [00:01<00:19, 39.22it/s]Invalid SOS parameters for sequential JPEG\n",
      "Resizing images:   6%|█████▌                                                                                       | 47/791 [00:01<00:39, 18.92it/s]Invalid SOS parameters for sequential JPEG\n",
      "Invalid SOS parameters for sequential JPEG\n",
      "Resizing images:   7%|██████                                                                                       | 52/791 [00:02<00:32, 23.03it/s]Invalid SOS parameters for sequential JPEG\n",
      "Resizing images:   7%|██████▍                                                                                      | 55/791 [00:02<00:34, 21.28it/s]Invalid SOS parameters for sequential JPEG\n",
      "Resizing images:   8%|███████▎                                                                                     | 62/791 [00:02<00:43, 16.59it/s]Invalid SOS parameters for sequential JPEG\n",
      "Invalid SOS parameters for sequential JPEG\n",
      "Resizing images:   8%|███████▉                                                                                     | 67/791 [00:02<00:33, 21.42it/s]Invalid SOS parameters for sequential JPEG\n",
      "Resizing images:   9%|████████▋                                                                                    | 74/791 [00:03<00:33, 21.68it/s]Invalid SOS parameters for sequential JPEG\n",
      "Resizing images:  10%|█████████                                                                                    | 77/791 [00:03<00:40, 17.76it/s]Invalid SOS parameters for sequential JPEG\n",
      "Invalid SOS parameters for sequential JPEG\n",
      "Resizing images:  10%|█████████▋                                                                                   | 82/791 [00:03<00:31, 22.57it/s]Invalid SOS parameters for sequential JPEG\n",
      "Resizing images:  11%|█████████▉                                                                                   | 85/791 [00:03<00:34, 20.52it/s]Invalid SOS parameters for sequential JPEG\n",
      "Resizing images:  11%|██████████▎                                                                                  | 88/791 [00:03<00:34, 20.42it/s]Invalid SOS parameters for sequential JPEG\n",
      "Resizing images:  12%|██████████▊                                                                                  | 92/791 [00:04<00:35, 19.73it/s]Invalid SOS parameters for sequential JPEG\n",
      "Invalid SOS parameters for sequential JPEG\n",
      "Invalid SOS parameters for sequential JPEG\n",
      "Resizing images:  13%|███████████▋                                                                                | 100/791 [00:04<00:26, 25.71it/s]Invalid SOS parameters for sequential JPEG\n",
      "Resizing images:  13%|████████████                                                                                | 104/791 [00:04<00:24, 28.29it/s]Invalid SOS parameters for sequential JPEG\n",
      "Resizing images:  14%|████████████▌                                                                               | 108/791 [00:04<00:32, 20.91it/s]Invalid SOS parameters for sequential JPEG\n",
      "Resizing images:  15%|█████████████▍                                                                              | 115/791 [00:05<00:32, 20.83it/s]Invalid SOS parameters for sequential JPEG\n",
      "Resizing images:  15%|██████████████▏                                                                             | 122/791 [00:05<00:30, 22.13it/s]Invalid SOS parameters for sequential JPEG\n",
      "Resizing images:  16%|██████████████▌                                                                             | 125/791 [00:05<00:32, 20.40it/s]Invalid SOS parameters for sequential JPEG\n",
      "Invalid SOS parameters for sequential JPEG\n",
      "Resizing images:  17%|████████████████                                                                            | 138/791 [00:06<00:48, 13.39it/s]Invalid SOS parameters for sequential JPEG\n",
      "Invalid SOS parameters for sequential JPEG\n",
      "Invalid SOS parameters for sequential JPEG\n",
      "Resizing images:  18%|████████████████▋                                                                           | 144/791 [00:06<00:32, 19.98it/s]Invalid SOS parameters for sequential JPEG\n",
      "Invalid SOS parameters for sequential JPEG\n",
      "Invalid SOS parameters for sequential JPEG\n",
      "Invalid SOS parameters for sequential JPEG\n",
      "Invalid SOS parameters for sequential JPEG\n",
      "Resizing images:  19%|█████████████████▌                                                                          | 151/791 [00:06<00:23, 27.71it/s]Invalid SOS parameters for sequential JPEG\n",
      "Resizing images:  20%|██████████████████                                                                          | 155/791 [00:06<00:25, 24.93it/s]Invalid SOS parameters for sequential JPEG\n",
      "Resizing images:  20%|██████████████████▍                                                                         | 159/791 [00:07<00:23, 27.32it/s]Invalid SOS parameters for sequential JPEG\n",
      "Invalid SOS parameters for sequential JPEG\n",
      "Resizing images:  21%|███████████████████▎                                                                        | 166/791 [00:07<00:24, 25.48it/s]Invalid SOS parameters for sequential JPEG\n",
      "Resizing images:  21%|███████████████████▊                                                                        | 170/791 [00:07<00:26, 23.54it/s]Invalid SOS parameters for sequential JPEG\n",
      "Invalid SOS parameters for sequential JPEG\n",
      "Resizing images:  22%|████████████████████▍                                                                       | 176/791 [00:08<00:37, 16.37it/s]Invalid SOS parameters for sequential JPEG\n",
      "Resizing images:  23%|████████████████████▋                                                                       | 178/791 [00:08<00:38, 15.74it/s]Invalid SOS parameters for sequential JPEG\n",
      "Resizing images:  23%|█████████████████████▏                                                                      | 182/791 [00:08<00:30, 19.90it/s]Invalid SOS parameters for sequential JPEG\n",
      "Invalid SOS parameters for sequential JPEG\n",
      "Resizing images:  24%|█████████████████████▋                                                                      | 187/791 [00:08<00:24, 25.15it/s]Invalid SOS parameters for sequential JPEG\n",
      "Resizing images:  24%|██████████████████████                                                                      | 190/791 [00:08<00:26, 22.96it/s]Invalid SOS parameters for sequential JPEG\n",
      "Resizing images:  25%|██████████████████████▌                                                                     | 194/791 [00:08<00:28, 20.73it/s]Invalid SOS parameters for sequential JPEG\n",
      "Invalid SOS parameters for sequential JPEG\n",
      "Resizing images:  25%|███████████████████████▍                                                                    | 201/791 [00:09<00:30, 19.08it/s]Invalid SOS parameters for sequential JPEG\n",
      "Invalid SOS parameters for sequential JPEG\n",
      "Invalid SOS parameters for sequential JPEG\n",
      "Resizing images:  26%|███████████████████████▉                                                                    | 206/791 [00:09<00:23, 24.41it/s]Invalid SOS parameters for sequential JPEG\n",
      "Invalid SOS parameters for sequential JPEG\n",
      "Resizing images:  26%|████████████████████████▎                                                                   | 209/791 [00:09<00:25, 22.50it/s]Invalid SOS parameters for sequential JPEG\n",
      "Invalid SOS parameters for sequential JPEG\n",
      "Invalid SOS parameters for sequential JPEG\n",
      "Resizing images:  27%|████████████████████████▉                                                                   | 214/791 [00:09<00:20, 28.16it/s]Invalid SOS parameters for sequential JPEG\n",
      "Resizing images:  28%|█████████████████████████▎                                                                  | 218/791 [00:09<00:23, 24.64it/s]Invalid SOS parameters for sequential JPEG\n",
      "Invalid SOS parameters for sequential JPEG\n",
      "Invalid SOS parameters for sequential JPEG\n",
      "Resizing images:  28%|█████████████████████████▉                                                                  | 223/791 [00:09<00:19, 29.37it/s]Invalid SOS parameters for sequential JPEG\n",
      "Resizing images:  29%|██████████████████████████▍                                                                 | 227/791 [00:10<00:30, 18.66it/s]Invalid SOS parameters for sequential JPEG\n",
      "Invalid SOS parameters for sequential JPEG\n",
      "Resizing images:  29%|██████████████████████████▉                                                                 | 232/791 [00:10<00:24, 22.83it/s]Invalid SOS parameters for sequential JPEG\n",
      "Resizing images:  30%|███████████████████████████▍                                                                | 236/791 [00:10<00:30, 18.34it/s]Invalid SOS parameters for sequential JPEG\n",
      "Invalid SOS parameters for sequential JPEG\n",
      "Resizing images:  30%|███████████████████████████▊                                                                | 239/791 [00:10<00:29, 18.63it/s]Invalid SOS parameters for sequential JPEG\n",
      "Resizing images:  31%|████████████████████████████▎                                                               | 243/791 [00:11<00:25, 21.70it/s]Invalid SOS parameters for sequential JPEG\n",
      "Resizing images:  31%|████████████████████████████▌                                                               | 246/791 [00:11<00:31, 17.08it/s]Invalid SOS parameters for sequential JPEG\n",
      "Resizing images:  31%|████████████████████████████▉                                                               | 249/791 [00:11<00:32, 16.54it/s]Invalid SOS parameters for sequential JPEG\n",
      "Invalid SOS parameters for sequential JPEG\n",
      "Invalid SOS parameters for sequential JPEG\n",
      "Invalid SOS parameters for sequential JPEG\n",
      "Resizing images:  33%|██████████████████████████████                                                              | 258/791 [00:11<00:25, 21.10it/s]Invalid SOS parameters for sequential JPEG\n",
      "Resizing images:  33%|██████████████████████████████▍                                                             | 262/791 [00:12<00:25, 20.39it/s]Invalid SOS parameters for sequential JPEG\n",
      "Invalid SOS parameters for sequential JPEG\n",
      "Invalid SOS parameters for sequential JPEG\n",
      "Resizing images:  34%|███████████████████████████████                                                             | 267/791 [00:12<00:20, 25.63it/s]Invalid SOS parameters for sequential JPEG\n",
      "Resizing images:  34%|███████████████████████████████▌                                                            | 271/791 [00:12<00:18, 28.31it/s]Invalid SOS parameters for sequential JPEG\n",
      "Resizing images:  35%|████████████████████████████████▍                                                           | 279/791 [00:12<00:19, 25.84it/s]Invalid SOS parameters for sequential JPEG\n",
      "Invalid SOS parameters for sequential JPEG\n",
      "Resizing images:  36%|█████████████████████████████████                                                           | 284/791 [00:12<00:17, 29.80it/s]Invalid SOS parameters for sequential JPEG\n",
      "Invalid SOS parameters for sequential JPEG\n",
      "Resizing images:  38%|██████████████████████████████████▌                                                         | 297/791 [00:13<00:19, 25.74it/s]Invalid SOS parameters for sequential JPEG\n",
      "Invalid SOS parameters for sequential JPEG\n",
      "Resizing images:  38%|███████████████████████████████████▏                                                        | 302/791 [00:13<00:16, 29.23it/s]Invalid SOS parameters for sequential JPEG\n",
      "Resizing images:  39%|███████████████████████████████████▉                                                        | 309/791 [00:13<00:20, 23.18it/s]Invalid SOS parameters for sequential JPEG\n",
      "Resizing images:  39%|████████████████████████████████████▎                                                       | 312/791 [00:13<00:24, 19.74it/s]Invalid SOS parameters for sequential JPEG\n",
      "Resizing images:  40%|████████████████████████████████████▊                                                       | 316/791 [00:14<00:20, 23.04it/s]Invalid SOS parameters for sequential JPEG\n",
      "Resizing images:  40%|█████████████████████████████████████                                                       | 319/791 [00:14<00:22, 20.60it/s]Invalid SOS parameters for sequential JPEG\n",
      "Invalid SOS parameters for sequential JPEG\n",
      "Resizing images:  41%|█████████████████████████████████████▍                                                      | 322/791 [00:14<00:24, 19.48it/s]Invalid SOS parameters for sequential JPEG\n",
      "Resizing images:  42%|██████████████████████████████████████▎                                                     | 329/791 [00:14<00:22, 20.64it/s]Invalid SOS parameters for sequential JPEG\n",
      "Resizing images:  42%|██████████████████████████████████████▋                                                     | 333/791 [00:14<00:18, 24.37it/s]Invalid SOS parameters for sequential JPEG\n",
      "Invalid SOS parameters for sequential JPEG\n",
      "Resizing images:  43%|███████████████████████████████████████▎                                                    | 338/791 [00:14<00:15, 29.25it/s]Invalid SOS parameters for sequential JPEG\n",
      "Resizing images:  43%|███████████████████████████████████████▊                                                    | 342/791 [00:15<00:14, 31.23it/s]Invalid SOS parameters for sequential JPEG\n",
      "Invalid SOS parameters for sequential JPEG\n",
      "Resizing images:  44%|████████████████████████████████████████▏                                                   | 346/791 [00:15<00:15, 28.21it/s]Invalid SOS parameters for sequential JPEG\n",
      "Invalid SOS parameters for sequential JPEG\n",
      "Resizing images:  44%|████████████████████████████████████████▋                                                   | 350/791 [00:15<00:18, 24.45it/s]Invalid SOS parameters for sequential JPEG\n",
      "Resizing images:  45%|█████████████████████████████████████████                                                   | 353/791 [00:15<00:19, 22.32it/s]Invalid SOS parameters for sequential JPEG\n",
      "Invalid SOS parameters for sequential JPEG\n",
      "Invalid SOS parameters for sequential JPEG\n",
      "Resizing images:  46%|██████████████████████████████████████████                                                  | 362/791 [00:16<00:22, 19.34it/s]Invalid SOS parameters for sequential JPEG\n",
      "Resizing images:  46%|██████████████████████████████████████████▍                                                 | 365/791 [00:16<00:22, 18.67it/s]Invalid SOS parameters for sequential JPEG\n",
      "Resizing images:  47%|███████████████████████████████████████████▎                                                | 372/791 [00:16<00:26, 16.00it/s]Invalid SOS parameters for sequential JPEG\n",
      "Resizing images:  47%|███████████████████████████████████████████▍                                                | 374/791 [00:16<00:27, 15.17it/s]Invalid SOS parameters for sequential JPEG\n",
      "Resizing images:  48%|███████████████████████████████████████████▉                                                | 378/791 [00:17<00:24, 16.72it/s]Invalid SOS parameters for sequential JPEG\n",
      "Resizing images:  48%|████████████████████████████████████████████▎                                               | 381/791 [00:17<00:25, 16.30it/s]Invalid SOS parameters for sequential JPEG\n",
      "Invalid SOS parameters for sequential JPEG\n",
      "Invalid SOS parameters for sequential JPEG\n",
      "Invalid SOS parameters for sequential JPEG\n",
      "Invalid SOS parameters for sequential JPEG\n",
      "Resizing images:  49%|█████████████████████████████████████████████                                               | 387/791 [00:17<00:20, 20.11it/s]Invalid SOS parameters for sequential JPEG\n",
      "Invalid SOS parameters for sequential JPEG\n",
      "Invalid SOS parameters for sequential JPEG\n",
      "Resizing images:  50%|██████████████████████████████████████████████▎                                             | 398/791 [00:18<00:18, 21.75it/s]Invalid SOS parameters for sequential JPEG\n",
      "Invalid SOS parameters for sequential JPEG\n",
      "Invalid SOS parameters for sequential JPEG\n",
      "Resizing images:  51%|██████████████████████████████████████████████▊                                             | 403/791 [00:18<00:14, 27.44it/s]Invalid SOS parameters for sequential JPEG\n",
      "Resizing images:  52%|███████████████████████████████████████████████▊                                            | 411/791 [00:18<00:14, 25.70it/s]Invalid SOS parameters for sequential JPEG\n",
      "Invalid SOS parameters for sequential JPEG\n",
      "Resizing images:  52%|████████████████████████████████████████████████▎                                           | 415/791 [00:18<00:13, 28.75it/s]Invalid SOS parameters for sequential JPEG\n",
      "Invalid SOS parameters for sequential JPEG\n",
      "Invalid SOS parameters for sequential JPEG\n",
      "Resizing images:  53%|████████████████████████████████████████████████▊                                           | 420/791 [00:18<00:11, 33.39it/s]Invalid SOS parameters for sequential JPEG\n",
      "Invalid SOS parameters for sequential JPEG\n",
      "Resizing images:  54%|█████████████████████████████████████████████████▊                                          | 428/791 [00:19<00:17, 20.54it/s]Invalid SOS parameters for sequential JPEG\n",
      "Resizing images:  54%|██████████████████████████████████████████████████▏                                         | 431/791 [00:19<00:21, 16.61it/s]Invalid SOS parameters for sequential JPEG\n",
      "Resizing images:  55%|██████████████████████████████████████████████████▌                                         | 435/791 [00:19<00:20, 17.61it/s]Invalid SOS parameters for sequential JPEG\n",
      "Resizing images:  55%|███████████████████████████████████████████████████                                         | 439/791 [00:19<00:16, 20.97it/s]Invalid SOS parameters for sequential JPEG\n",
      "Resizing images:  56%|███████████████████████████████████████████████████▌                                        | 443/791 [00:19<00:14, 24.15it/s]Invalid SOS parameters for sequential JPEG\n",
      "Resizing images:  57%|████████████████████████████████████████████████████▌                                       | 452/791 [00:20<00:20, 16.33it/s]Invalid SOS parameters for sequential JPEG\n",
      "Invalid SOS parameters for sequential JPEG\n",
      "Resizing images:  58%|█████████████████████████████████████████████████████▏                                      | 457/791 [00:20<00:15, 21.21it/s]Invalid SOS parameters for sequential JPEG\n",
      "Invalid SOS parameters for sequential JPEG\n",
      "Resizing images:  59%|██████████████████████████████████████████████████████▌                                     | 469/791 [00:21<00:18, 17.03it/s]Invalid SOS parameters for sequential JPEG\n",
      "Invalid SOS parameters for sequential JPEG\n",
      "Resizing images:  60%|██████████████████████████████████████████████████████▉                                     | 472/791 [00:21<00:18, 17.15it/s]Invalid SOS parameters for sequential JPEG\n",
      "Invalid SOS parameters for sequential JPEG\n",
      "Invalid SOS parameters for sequential JPEG\n",
      "Invalid SOS parameters for sequential JPEG\n",
      "Resizing images:  60%|███████████████████████████████████████████████████████▌                                    | 478/791 [00:21<00:13, 24.01it/s]Invalid SOS parameters for sequential JPEG\n",
      "Resizing images:  61%|████████████████████████████████████████████████████████                                    | 482/791 [00:21<00:11, 26.91it/s]Invalid SOS parameters for sequential JPEG\n",
      "Resizing images:  62%|████████████████████████████████████████████████████████▊                                   | 489/791 [00:22<00:16, 18.17it/s]Invalid SOS parameters for sequential JPEG\n",
      "Resizing images:  62%|█████████████████████████████████████████████████████████▏                                  | 492/791 [00:22<00:17, 17.58it/s]Invalid SOS parameters for sequential JPEG\n",
      "Resizing images:  63%|█████████████████████████████████████████████████████████▋                                  | 496/791 [00:22<00:13, 21.24it/s]Invalid SOS parameters for sequential JPEG\n",
      "Invalid SOS parameters for sequential JPEG\n",
      "Invalid SOS parameters for sequential JPEG\n",
      "Invalid SOS parameters for sequential JPEG\n",
      "Resizing images:  63%|██████████████████████████████████████████████████████████▍                                 | 502/791 [00:22<00:10, 28.48it/s]Invalid SOS parameters for sequential JPEG\n",
      "Resizing images:  64%|███████████████████████████████████████████████████████████▏                                | 509/791 [00:23<00:14, 19.11it/s]Invalid SOS parameters for sequential JPEG\n",
      "Resizing images:  65%|███████████████████████████████████████████████████████████▋                                | 513/791 [00:23<00:12, 22.37it/s]Invalid SOS parameters for sequential JPEG\n",
      "Invalid SOS parameters for sequential JPEG\n",
      "Invalid SOS parameters for sequential JPEG\n",
      "Resizing images:  66%|████████████████████████████████████████████████████████████▊                               | 523/791 [00:23<00:11, 23.38it/s]Invalid SOS parameters for sequential JPEG\n",
      "Resizing images:  68%|██████████████████████████████████████████████████████████████                              | 534/791 [00:24<00:17, 14.79it/s]Invalid SOS parameters for sequential JPEG\n",
      "Invalid SOS parameters for sequential JPEG\n",
      "Resizing images:  68%|██████████████████████████████████████████████████████████████▉                             | 541/791 [00:24<00:17, 14.43it/s]Invalid SOS parameters for sequential JPEG\n",
      "Invalid SOS parameters for sequential JPEG\n",
      "Invalid SOS parameters for sequential JPEG\n",
      "Invalid SOS parameters for sequential JPEG\n",
      "Resizing images:  69%|███████████████████████████████████████████████████████████████▌                            | 547/791 [00:25<00:13, 17.78it/s]Invalid SOS parameters for sequential JPEG\n",
      "Resizing images:  70%|████████████████████████████████████████████████████████████████▍                           | 554/791 [00:25<00:11, 20.70it/s]Invalid SOS parameters for sequential JPEG\n",
      "Resizing images:  71%|████████████████████████████████████████████████████████████████▉                           | 558/791 [00:25<00:09, 23.73it/s]Invalid SOS parameters for sequential JPEG\n",
      "Resizing images:  71%|█████████████████████████████████████████████████████████████████▏                          | 561/791 [00:25<00:10, 21.01it/s]Invalid SOS parameters for sequential JPEG\n",
      "Resizing images:  71%|█████████████████████████████████████████████████████████████████▌                          | 564/791 [00:25<00:11, 19.83it/s]Invalid SOS parameters for sequential JPEG\n",
      "Resizing images:  72%|██████████████████████████████████████████████████████████████████                          | 568/791 [00:25<00:09, 23.45it/s]Invalid SOS parameters for sequential JPEG\n",
      "Invalid SOS parameters for sequential JPEG\n",
      "Invalid SOS parameters for sequential JPEG\n",
      "Resizing images:  72%|██████████████████████████████████████████████████████████████████▋                         | 573/791 [00:26<00:07, 29.04it/s]Invalid SOS parameters for sequential JPEG\n",
      "Resizing images:  73%|███████████████████████████████████████████████████████████████████▍                        | 580/791 [00:26<00:10, 20.54it/s]Invalid SOS parameters for sequential JPEG\n",
      "Resizing images:  74%|███████████████████████████████████████████████████████████████████▊                        | 583/791 [00:26<00:12, 16.85it/s]Invalid SOS parameters for sequential JPEG\n",
      "Resizing images:  74%|████████████████████████████████████████████████████████████████████▏                       | 586/791 [00:26<00:12, 16.94it/s]Invalid SOS parameters for sequential JPEG\n",
      "Invalid SOS parameters for sequential JPEG\n",
      "Resizing images:  75%|█████████████████████████████████████████████████████████████████████▍                      | 597/791 [00:27<00:08, 23.81it/s]Invalid SOS parameters for sequential JPEG\n",
      "Resizing images:  76%|█████████████████████████████████████████████████████████████████████▊                      | 600/791 [00:27<00:08, 21.29it/s]Invalid SOS parameters for sequential JPEG\n",
      "Invalid SOS parameters for sequential JPEG\n",
      "Invalid SOS parameters for sequential JPEG\n",
      "Invalid SOS parameters for sequential JPEG\n",
      "Resizing images:  76%|██████████████████████████████████████████████████████████████████████▎                     | 605/791 [00:27<00:07, 23.77it/s]Invalid SOS parameters for sequential JPEG\n",
      "Resizing images:  77%|██████████████████████████████████████████████████████████████████████▋                     | 608/791 [00:27<00:08, 21.55it/s]Invalid SOS parameters for sequential JPEG\n",
      "Invalid SOS parameters for sequential JPEG\n",
      "Resizing images:  77%|███████████████████████████████████████████████████████████████████████                     | 611/791 [00:28<00:08, 20.50it/s]Invalid SOS parameters for sequential JPEG\n",
      "Invalid SOS parameters for sequential JPEG\n",
      "Resizing images:  78%|███████████████████████████████████████████████████████████████████████▋                    | 616/791 [00:28<00:06, 25.74it/s]Invalid SOS parameters for sequential JPEG\n",
      "Invalid SOS parameters for sequential JPEG\n",
      "Resizing images:  78%|███████████████████████████████████████████████████████████████████████▉                    | 619/791 [00:28<00:07, 23.33it/s]Invalid SOS parameters for sequential JPEG\n",
      "Resizing images:  79%|████████████████████████████████████████████████████████████████████████▎                   | 622/791 [00:28<00:07, 21.26it/s]Invalid SOS parameters for sequential JPEG\n",
      "Invalid SOS parameters for sequential JPEG\n",
      "Resizing images:  79%|████████████████████████████████████████████████████████████████████████▉                   | 627/791 [00:28<00:06, 25.53it/s]Invalid SOS parameters for sequential JPEG\n",
      "Resizing images:  80%|█████████████████████████████████████████████████████████████████████████▍                  | 631/791 [00:28<00:05, 28.45it/s]Invalid SOS parameters for sequential JPEG\n",
      "Resizing images:  80%|█████████████████████████████████████████████████████████████████████████▊                  | 635/791 [00:29<00:07, 21.05it/s]Invalid SOS parameters for sequential JPEG\n",
      "Invalid SOS parameters for sequential JPEG\n",
      "Resizing images:  81%|██████████████████████████████████████████████████████████████████████████▍                 | 640/791 [00:29<00:05, 25.41it/s]Invalid SOS parameters for sequential JPEG\n",
      "Invalid SOS parameters for sequential JPEG\n",
      "Invalid SOS parameters for sequential JPEG\n",
      "Resizing images:  82%|███████████████████████████████████████████████████████████████████████████▍                | 649/791 [00:29<00:05, 24.79it/s]Invalid SOS parameters for sequential JPEG\n",
      "Resizing images:  82%|███████████████████████████████████████████████████████████████████████████▊                | 652/791 [00:29<00:07, 18.55it/s]Invalid SOS parameters for sequential JPEG\n",
      "Resizing images:  85%|█████████████████████████████████████████████████████████████████████████████▉              | 670/791 [00:30<00:06, 18.67it/s]Invalid SOS parameters for sequential JPEG\n",
      "Invalid SOS parameters for sequential JPEG\n",
      "Resizing images:  85%|██████████████████████████████████████████████████████████████████████████████▌             | 675/791 [00:30<00:05, 23.19it/s]Invalid SOS parameters for sequential JPEG\n",
      "Invalid SOS parameters for sequential JPEG\n",
      "Resizing images:  87%|███████████████████████████████████████████████████████████████████████████████▉            | 687/791 [00:31<00:07, 13.58it/s]Invalid SOS parameters for sequential JPEG\n",
      "Resizing images:  87%|████████████████████████████████████████████████████████████████████████████████▎           | 690/791 [00:32<00:07, 14.17it/s]Invalid SOS parameters for sequential JPEG\n",
      "Resizing images:  88%|████████████████████████████████████████████████████████████████████████████████▌           | 693/791 [00:32<00:06, 14.84it/s]Invalid SOS parameters for sequential JPEG\n",
      "Invalid SOS parameters for sequential JPEG\n",
      "Resizing images:  88%|█████████████████████████████████████████████████████████████████████████████████▏          | 698/791 [00:32<00:04, 20.25it/s]Invalid SOS parameters for sequential JPEG\n",
      "Invalid SOS parameters for sequential JPEG\n",
      "Resizing images:  89%|█████████████████████████████████████████████████████████████████████████████████▌          | 701/791 [00:32<00:04, 19.36it/s]Invalid SOS parameters for sequential JPEG\n",
      "Resizing images:  89%|█████████████████████████████████████████████████████████████████████████████████▉          | 704/791 [00:32<00:04, 18.49it/s]Invalid SOS parameters for sequential JPEG\n",
      "Invalid SOS parameters for sequential JPEG\n",
      "Resizing images:  90%|██████████████████████████████████████████████████████████████████████████████████▍         | 709/791 [00:33<00:04, 19.12it/s]Invalid SOS parameters for sequential JPEG\n",
      "Resizing images:  90%|██████████████████████████████████████████████████████████████████████████████████▉         | 713/791 [00:33<00:03, 22.22it/s]Invalid SOS parameters for sequential JPEG\n",
      "Invalid SOS parameters for sequential JPEG\n",
      "Resizing images:  91%|███████████████████████████████████████████████████████████████████████████████████▍        | 717/791 [00:33<00:03, 21.46it/s]Invalid SOS parameters for sequential JPEG\n",
      "Invalid SOS parameters for sequential JPEG\n",
      "Invalid SOS parameters for sequential JPEG\n",
      "Invalid SOS parameters for sequential JPEG\n",
      "Resizing images:  92%|█████████████████████████████████████████████████████████████████████████████████████       | 731/791 [00:33<00:02, 22.47it/s]Invalid SOS parameters for sequential JPEG\n",
      "Resizing images:  93%|█████████████████████████████████████████████████████████████████████████████████████▍      | 735/791 [00:34<00:02, 21.33it/s]Invalid SOS parameters for sequential JPEG\n",
      "Resizing images:  93%|█████████████████████████████████████████████████████████████████████████████████████▊      | 738/791 [00:34<00:02, 20.33it/s]Invalid SOS parameters for sequential JPEG\n",
      "Resizing images:  95%|███████████████████████████████████████████████████████████████████████████████████████▏    | 750/791 [00:35<00:02, 14.52it/s]Invalid SOS parameters for sequential JPEG\n",
      "Invalid SOS parameters for sequential JPEG\n",
      "Resizing images:  95%|███████████████████████████████████████████████████████████████████████████████████████▊    | 755/791 [00:35<00:01, 19.61it/s]Invalid SOS parameters for sequential JPEG\n",
      "Resizing images:  96%|████████████████████████████████████████████████████████████████████████████████████████▏   | 758/791 [00:35<00:01, 19.04it/s]Invalid SOS parameters for sequential JPEG\n",
      "Resizing images:  97%|█████████████████████████████████████████████████████████████████████████████████████████▍  | 769/791 [00:35<00:01, 20.96it/s]Invalid SOS parameters for sequential JPEG\n",
      "Invalid SOS parameters for sequential JPEG\n",
      "Resizing images:  98%|█████████████████████████████████████████████████████████████████████████████████████████▉  | 773/791 [00:35<00:00, 24.82it/s]Invalid SOS parameters for sequential JPEG\n",
      "Resizing images:  99%|██████████████████████████████████████████████████████████████████████████████████████████▊ | 781/791 [00:36<00:00, 20.12it/s]Invalid SOS parameters for sequential JPEG\n",
      "Resizing images:  99%|███████████████████████████████████████████████████████████████████████████████████████████▎| 785/791 [00:36<00:00, 23.38it/s]Invalid SOS parameters for sequential JPEG\n",
      "Resizing images: 100%|███████████████████████████████████████████████████████████████████████████████████████████▋| 788/791 [00:36<00:00, 21.45it/s]Invalid SOS parameters for sequential JPEG\n",
      "Invalid SOS parameters for sequential JPEG\n",
      "Resizing images: 100%|████████████████████████████████████████████████████████████████████████████████████████████| 791/791 [00:36<00:00, 21.50it/s]\n"
     ]
    },
    {
     "name": "stdout",
     "output_type": "stream",
     "text": [
      "Images from healthy folder resized!\n"
     ]
    },
    {
     "name": "stderr",
     "output_type": "stream",
     "text": [
      "Resizing images:  13%|███████████▋                                                                                 | 21/167 [00:01<00:12, 11.64it/s]Invalid SOS parameters for sequential JPEG\n",
      "Resizing images:  22%|████████████████████                                                                         | 36/167 [00:02<00:10, 12.85it/s]Invalid SOS parameters for sequential JPEG\n",
      "Resizing images:  26%|████████████████████████▌                                                                    | 44/167 [00:03<00:06, 17.90it/s]Invalid SOS parameters for sequential JPEG\n",
      "Resizing images:  28%|█████████████████████████▌                                                                   | 46/167 [00:03<00:07, 16.85it/s]Invalid SOS parameters for sequential JPEG\n",
      "Resizing images:  29%|██████████████████████████▋                                                                  | 48/167 [00:03<00:07, 15.81it/s]Invalid SOS parameters for sequential JPEG\n",
      "Resizing images:  31%|████████████████████████████▉                                                                | 52/167 [00:03<00:05, 20.45it/s]Invalid SOS parameters for sequential JPEG\n",
      "Resizing images:  34%|███████████████████████████████▋                                                             | 57/167 [00:04<00:07, 15.27it/s]Invalid SOS parameters for sequential JPEG\n",
      "Resizing images:  40%|████████████████████████████████████▊                                                        | 66/167 [00:04<00:07, 12.77it/s]Invalid SOS parameters for sequential JPEG\n",
      "Resizing images:  41%|█████████████████████████████████████▊                                                       | 68/167 [00:04<00:07, 13.03it/s]Invalid SOS parameters for sequential JPEG\n",
      "Resizing images:  44%|█████████████████████████████████████████▏                                                   | 74/167 [00:05<00:09,  9.97it/s]Invalid SOS parameters for sequential JPEG\n",
      "Resizing images:  54%|██████████████████████████████████████████████████▋                                          | 91/167 [00:06<00:06, 12.02it/s]Invalid SOS parameters for sequential JPEG\n",
      "Resizing images:  58%|██████████████████████████████████████████████████████                                       | 97/167 [00:07<00:06, 10.91it/s]Invalid SOS parameters for sequential JPEG\n",
      "Resizing images:  62%|█████████████████████████████████████████████████████████▎                                  | 104/167 [00:07<00:03, 17.04it/s]Invalid SOS parameters for sequential JPEG\n",
      "Invalid SOS parameters for sequential JPEG\n",
      "Invalid SOS parameters for sequential JPEG\n",
      "Invalid SOS parameters for sequential JPEG\n",
      "Resizing images:  66%|████████████████████████████████████████████████████████████▌                               | 110/167 [00:07<00:02, 20.87it/s]Invalid SOS parameters for sequential JPEG\n",
      "Resizing images:  74%|████████████████████████████████████████████████████████████████████▎                       | 124/167 [00:09<00:03, 11.89it/s]Invalid SOS parameters for sequential JPEG\n",
      "Invalid SOS parameters for sequential JPEG\n",
      "Invalid SOS parameters for sequential JPEG\n",
      "Resizing images:  79%|████████████████████████████████████████████████████████████████████████▋                   | 132/167 [00:09<00:01, 17.78it/s]Invalid SOS parameters for sequential JPEG\n",
      "Invalid SOS parameters for sequential JPEG\n",
      "Resizing images:  81%|██████████████████████████████████████████████████████████████████████████▎                 | 135/167 [00:09<00:01, 18.10it/s]Invalid SOS parameters for sequential JPEG\n",
      "Resizing images:  83%|████████████████████████████████████████████████████████████████████████████                | 138/167 [00:09<00:01, 15.39it/s]Invalid SOS parameters for sequential JPEG\n",
      "Invalid SOS parameters for sequential JPEG\n",
      "Resizing images:  88%|████████████████████████████████████████████████████████████████████████████████▉           | 147/167 [00:10<00:01, 15.29it/s]Invalid SOS parameters for sequential JPEG\n",
      "Resizing images:  92%|████████████████████████████████████████████████████████████████████████████████████▊       | 154/167 [00:10<00:00, 18.59it/s]Invalid SOS parameters for sequential JPEG\n",
      "Resizing images: 100%|████████████████████████████████████████████████████████████████████████████████████████████| 167/167 [00:11<00:00, 14.28it/s]"
     ]
    },
    {
     "name": "stdout",
     "output_type": "stream",
     "text": [
      "Images from red_spider_mite folder resized!\n"
     ]
    },
    {
     "name": "stderr",
     "output_type": "stream",
     "text": [
      "\n"
     ]
    }
   ],
   "source": [
    "for directory in directories:\n",
    "    root = f\"{PATH_ROCOLE_ORIGINAL}/{directory}\"\n",
    "    files = next(os.walk(root))[2]\n",
    "    \n",
    "    for file in tqdm(files, \"Resizing images\"):\n",
    "        image = cv2.imread(f\"{root}/{file}\")\n",
    "        image_resized = cv2.resize(image, dsize=(128, 128), interpolation=cv2.INTER_CUBIC)\n",
    "        \n",
    "        images_resized_path = f\"{PATH_ROCOLE_RESIZED}/{directory}\"\n",
    "        \n",
    "        if not os.path.exists(images_resized_path):\n",
    "            os.makedirs(images_resized_path)\n",
    "            \n",
    "        cv2.imwrite(f\"{images_resized_path}/{file}\", image_resized)\n",
    "        \n",
    "    print(f\"Images from {directory} folder resized!\")"
   ]
  },
  {
   "cell_type": "markdown",
   "id": "8252ddde-e835-443c-ba0d-b11f662f6604",
   "metadata": {},
   "source": [
    "## 3. Verifying if all images was resized"
   ]
  },
  {
   "cell_type": "markdown",
   "id": "908b2677-3750-4f2c-a491-102bc0059239",
   "metadata": {},
   "source": [
    "### 3.1. BRACOL"
   ]
  },
  {
   "cell_type": "code",
   "execution_count": 12,
   "id": "69c15668-256f-44e8-86ef-ec29160c08a6",
   "metadata": {},
   "outputs": [],
   "source": [
    "dimentions = {}"
   ]
  },
  {
   "cell_type": "code",
   "execution_count": 13,
   "id": "59f75263-36b6-4774-8692-4df5f053afaf",
   "metadata": {},
   "outputs": [],
   "source": [
    "for root, _, files in os.walk(PATH_BRACOL_RESIZED_SPLITTED):\n",
    "    for file in files:\n",
    "        if \"ipynb_checkpoints\" == file.split('.')[-1]:\n",
    "            os.remove(f\"{root}/{file}\")\n",
    "        \n",
    "        try:\n",
    "            image = Image.open(f\"{root}/{file}\")\n",
    "            size = f\"{image.size[0]} x {image.size[1]}\"\n",
    "\n",
    "            if size not in dimentions:\n",
    "                dimentions[size] = 1\n",
    "            else:\n",
    "                dimentions[size] += 1\n",
    "        except Exception as e:\n",
    "            print(e)"
   ]
  },
  {
   "cell_type": "code",
   "execution_count": 14,
   "id": "9d6e1cfd-0e18-4059-953f-81c520e08db4",
   "metadata": {},
   "outputs": [
    {
     "name": "stdout",
     "output_type": "stream",
     "text": [
      "128 x 128 = 2209 images\n"
     ]
    }
   ],
   "source": [
    "for size in sorted(dimentions, key=dimentions.get, reverse=True):\n",
    "    print(f\"{size} = {dimentions[size]} images\")"
   ]
  },
  {
   "cell_type": "markdown",
   "id": "98029ad6-e2ca-4c91-b402-1063c8147076",
   "metadata": {},
   "source": [
    "### 3.2. Plant Patologies"
   ]
  },
  {
   "cell_type": "code",
   "execution_count": 15,
   "id": "b80dc257-ac8a-4a4b-9c16-acdb4b3f96d6",
   "metadata": {},
   "outputs": [],
   "source": [
    "dimentions = {}"
   ]
  },
  {
   "cell_type": "code",
   "execution_count": 16,
   "id": "0a647fa2-9715-4089-a9ad-9ff1f6144f6e",
   "metadata": {},
   "outputs": [],
   "source": [
    "for root, _, files in os.walk(PATH_PLANT_PATOLOGIES_RESIZED):\n",
    "    for file in files:\n",
    "        try:\n",
    "            image = Image.open(f\"{root}/{file}\")\n",
    "            size = f\"{image.size[0]} x {image.size[1]}\"\n",
    "\n",
    "            if size not in dimentions:\n",
    "                dimentions[size] = 1\n",
    "            else:\n",
    "                dimentions[size] += 1\n",
    "        except Exception as e:\n",
    "            print(e)"
   ]
  },
  {
   "cell_type": "code",
   "execution_count": 17,
   "id": "3fcb7cd0-9534-4334-8f25-d4ea53f55f61",
   "metadata": {},
   "outputs": [
    {
     "name": "stdout",
     "output_type": "stream",
     "text": [
      "128 x 128 = 542 images\n"
     ]
    }
   ],
   "source": [
    "for size in sorted(dimentions, key=dimentions.get, reverse=True):\n",
    "    print(f\"{size} = {dimentions[size]} images\")"
   ]
  },
  {
   "cell_type": "markdown",
   "id": "45b8959b-f1ee-42c5-b486-dc19ab822e56",
   "metadata": {},
   "source": [
    "### 3.3. RoCoLe"
   ]
  },
  {
   "cell_type": "code",
   "execution_count": 18,
   "id": "d52c4a28-c550-440a-aedf-437300d8c685",
   "metadata": {},
   "outputs": [],
   "source": [
    "dimentions = {}"
   ]
  },
  {
   "cell_type": "code",
   "execution_count": 19,
   "id": "717bfa5c-d71a-437c-9b2e-d267e75eedba",
   "metadata": {},
   "outputs": [],
   "source": [
    "for root, _, files in os.walk(PATH_ROCOLE_RESIZED):\n",
    "    for file in files:\n",
    "        try:\n",
    "            image = Image.open(f\"{root}/{file}\")\n",
    "            size = f\"{image.size[0]} x {image.size[1]}\"\n",
    "\n",
    "            if size not in dimentions:\n",
    "                dimentions[size] = 1\n",
    "            else:\n",
    "                dimentions[size] += 1\n",
    "        except Exception as e:\n",
    "            print(e)"
   ]
  },
  {
   "cell_type": "code",
   "execution_count": 20,
   "id": "72ea0030-06f6-439a-bb6c-650d081c35e3",
   "metadata": {},
   "outputs": [
    {
     "name": "stdout",
     "output_type": "stream",
     "text": [
      "128 x 128 = 1560 images\n"
     ]
    }
   ],
   "source": [
    "for size in sorted(dimentions, key=dimentions.get, reverse=True):\n",
    "    print(f\"{size} = {dimentions[size]} images\")"
   ]
  }
 ],
 "metadata": {
  "kernelspec": {
   "display_name": "Python 3 (ipykernel)",
   "language": "python",
   "name": "python3"
  },
  "language_info": {
   "codemirror_mode": {
    "name": "ipython",
    "version": 3
   },
   "file_extension": ".py",
   "mimetype": "text/x-python",
   "name": "python",
   "nbconvert_exporter": "python",
   "pygments_lexer": "ipython3",
   "version": "3.10.6"
  }
 },
 "nbformat": 4,
 "nbformat_minor": 5
}
