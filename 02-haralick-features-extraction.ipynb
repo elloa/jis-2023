{
 "cells": [
  {
   "cell_type": "markdown",
   "id": "48ba9d8e-72e5-4276-9b2e-7a5c423d1fe7",
   "metadata": {},
   "source": [
    "# Haralick Features Extraction - JMUBEN Dataset"
   ]
  },
  {
   "cell_type": "code",
   "execution_count": 1,
   "id": "f11b28dc-234d-4d7a-92d5-7cd922d8255a",
   "metadata": {},
   "outputs": [],
   "source": [
    "import os, cv2\n",
    "import numpy as np\n",
    "import pandas as pd\n",
    "import mahotas as mt\n",
    "import matplotlib as plt\n",
    "from tqdm import tqdm"
   ]
  },
  {
   "cell_type": "code",
   "execution_count": 2,
   "id": "9166ed5d-c75f-47fc-ad0e-df26418779a5",
   "metadata": {},
   "outputs": [],
   "source": [
    "import warnings\n",
    "warnings.filterwarnings(\"ignore\")"
   ]
  },
  {
   "cell_type": "code",
   "execution_count": 3,
   "id": "637b1ecb-d071-4eb7-bb02-39bc5936f797",
   "metadata": {},
   "outputs": [],
   "source": [
    "DATASETS_FOLDER = \"./datasets\"\n",
    "PATH_JMUBEN = DATASETS_FOLDER + \"/jmuben\"\n",
    "PATH_JMUBEN_GRAYSCALE = PATH_JMUBEN + \"/grayscale\""
   ]
  },
  {
   "cell_type": "markdown",
   "id": "0b92fa23-5105-4f63-9b60-aed0f4814a6e",
   "metadata": {},
   "source": [
    "## 1. Defining DataFrame to save features"
   ]
  },
  {
   "cell_type": "code",
   "execution_count": 4,
   "id": "7dc176cb-1ed3-4d4f-afb3-8dca99859280",
   "metadata": {},
   "outputs": [
    {
     "data": {
      "text/html": [
       "<div>\n",
       "<style scoped>\n",
       "    .dataframe tbody tr th:only-of-type {\n",
       "        vertical-align: middle;\n",
       "    }\n",
       "\n",
       "    .dataframe tbody tr th {\n",
       "        vertical-align: top;\n",
       "    }\n",
       "\n",
       "    .dataframe thead th {\n",
       "        text-align: right;\n",
       "    }\n",
       "</style>\n",
       "<table border=\"1\" class=\"dataframe\">\n",
       "  <thead>\n",
       "    <tr style=\"text-align: right;\">\n",
       "      <th></th>\n",
       "      <th>name</th>\n",
       "      <th>H1</th>\n",
       "      <th>H2</th>\n",
       "      <th>H3</th>\n",
       "      <th>H4</th>\n",
       "      <th>H5</th>\n",
       "      <th>H6</th>\n",
       "      <th>H7</th>\n",
       "      <th>H8</th>\n",
       "      <th>H9</th>\n",
       "      <th>H10</th>\n",
       "      <th>H11</th>\n",
       "      <th>H12</th>\n",
       "      <th>H13</th>\n",
       "      <th>target</th>\n",
       "    </tr>\n",
       "  </thead>\n",
       "  <tbody>\n",
       "  </tbody>\n",
       "</table>\n",
       "</div>"
      ],
      "text/plain": [
       "Empty DataFrame\n",
       "Columns: [name, H1, H2, H3, H4, H5, H6, H7, H8, H9, H10, H11, H12, H13, target]\n",
       "Index: []"
      ]
     },
     "execution_count": 4,
     "metadata": {},
     "output_type": "execute_result"
    }
   ],
   "source": [
    "columns = [\"name\"] + [\"H\" + str(i) for i in range(1,14)] + [\"target\"]\n",
    "df = pd.DataFrame(columns=columns)\n",
    "df.head()"
   ]
  },
  {
   "cell_type": "markdown",
   "id": "d52f8d84-2da4-4b68-a8a1-ae35c7b549a0",
   "metadata": {
    "tags": []
   },
   "source": [
    "## 2. Extracting Haralick Features from images"
   ]
  },
  {
   "cell_type": "markdown",
   "id": "5b2a7268-c4bb-476a-8c43-7d9e6f4b5ed4",
   "metadata": {},
   "source": [
    "### 2.1. Defining function to extract Haralick Features"
   ]
  },
  {
   "cell_type": "code",
   "execution_count": 5,
   "id": "4afb70a5-2716-4dbf-82bf-946abbae3d92",
   "metadata": {},
   "outputs": [],
   "source": [
    "def extract_haralick_features(image):\n",
    "    \"\"\"Extract Haralick Features from image.\"\"\"\n",
    "    \n",
    "    textures = mt.features.haralick(image)\n",
    "\n",
    "    ht_mean = textures.mean(axis=0)\n",
    "    return ht_mean"
   ]
  },
  {
   "cell_type": "markdown",
   "id": "ce9ca87c-6241-428e-97fa-95ad7d07996c",
   "metadata": {},
   "source": [
    "### 2.2. Extracting Haralick Features"
   ]
  },
  {
   "cell_type": "code",
   "execution_count": 6,
   "id": "3799fa90-9772-4df1-8a00-1268bea311af",
   "metadata": {},
   "outputs": [],
   "source": [
    "directories = os.listdir(PATH_JMUBEN_GRAYSCALE)"
   ]
  },
  {
   "cell_type": "code",
   "execution_count": 7,
   "id": "b00a593f-d87e-4788-972d-1235367d5081",
   "metadata": {
    "tags": []
   },
   "outputs": [
    {
     "name": "stderr",
     "output_type": "stream",
     "text": [
      "Extracting Haralick Features: 100%|███████████████████████████████████████████████| 16978/16978 [08:59<00:00, 31.49it/s]\n"
     ]
    },
    {
     "name": "stdout",
     "output_type": "stream",
     "text": [
      "Extracted Haralick Features from all images from Miner folder!\n"
     ]
    },
    {
     "name": "stderr",
     "output_type": "stream",
     "text": [
      "Extracting Haralick Features: 100%|█████████████████████████████████████████████████| 6571/6571 [03:31<00:00, 31.03it/s]\n"
     ]
    },
    {
     "name": "stdout",
     "output_type": "stream",
     "text": [
      "Extracted Haralick Features from all images from Phoma folder!\n"
     ]
    },
    {
     "name": "stderr",
     "output_type": "stream",
     "text": [
      "Extracting Haralick Features: 100%|███████████████████████████████████████████████| 18983/18983 [07:28<00:00, 42.34it/s]\n"
     ]
    },
    {
     "name": "stdout",
     "output_type": "stream",
     "text": [
      "Extracted Haralick Features from all images from Healthy folder!\n"
     ]
    },
    {
     "name": "stderr",
     "output_type": "stream",
     "text": [
      "Extracting Haralick Features: 100%|█████████████████████████████████████████████████| 8336/8336 [03:19<00:00, 41.69it/s]\n"
     ]
    },
    {
     "name": "stdout",
     "output_type": "stream",
     "text": [
      "Extracted Haralick Features from all images from Leaf rust folder!\n"
     ]
    },
    {
     "name": "stderr",
     "output_type": "stream",
     "text": [
      "Extracting Haralick Features: 100%|█████████████████████████████████████████████████| 7681/7681 [03:47<00:00, 33.71it/s]"
     ]
    },
    {
     "name": "stdout",
     "output_type": "stream",
     "text": [
      "Extracted Haralick Features from all images from Cerscospora folder!\n"
     ]
    },
    {
     "name": "stderr",
     "output_type": "stream",
     "text": [
      "\n"
     ]
    }
   ],
   "source": [
    "for directory in directories:\n",
    "    root = f\"{PATH_JMUBEN_GRAYSCALE}/{directory}\"\n",
    "    files = next(os.walk(root))[2]\n",
    "    files = sorted(files)\n",
    "    \n",
    "    for file in tqdm(files, \"Extracting Haralick Features\"):\n",
    "        file_info = []\n",
    "        file_info.append(file)\n",
    "        \n",
    "        image = cv2.imread(f\"{root}/{file}\")\n",
    "        hfeatures = extract_haralick_features(image)\n",
    "        file_info.extend(hfeatures)\n",
    "        \n",
    "        file_info.append(directory)\n",
    "        \n",
    "        df_new_line = pd.DataFrame([file_info], columns=columns)\n",
    "        df = df.append(df_new_line)\n",
    "    \n",
    "    print(f\"Extracted Haralick Features from all images from {directory} folder!\")"
   ]
  },
  {
   "cell_type": "code",
   "execution_count": 8,
   "id": "6ee070cd-83a3-4e32-9dae-5720ba78f049",
   "metadata": {},
   "outputs": [],
   "source": [
    "df.to_csv(f\"{PATH_JMUBEN}/haralick_features.csv\", header=True, index=False)"
   ]
  },
  {
   "cell_type": "markdown",
   "id": "bf2d124a-0dc5-4f33-9939-5f8e951597b6",
   "metadata": {},
   "source": [
    "### 2.3. Visualizing DataFrame"
   ]
  },
  {
   "cell_type": "code",
   "execution_count": 9,
   "id": "38cf9795-91b3-4f5c-898b-f0f4a18a8984",
   "metadata": {},
   "outputs": [
    {
     "data": {
      "text/html": [
       "<div>\n",
       "<style scoped>\n",
       "    .dataframe tbody tr th:only-of-type {\n",
       "        vertical-align: middle;\n",
       "    }\n",
       "\n",
       "    .dataframe tbody tr th {\n",
       "        vertical-align: top;\n",
       "    }\n",
       "\n",
       "    .dataframe thead th {\n",
       "        text-align: right;\n",
       "    }\n",
       "</style>\n",
       "<table border=\"1\" class=\"dataframe\">\n",
       "  <thead>\n",
       "    <tr style=\"text-align: right;\">\n",
       "      <th></th>\n",
       "      <th>name</th>\n",
       "      <th>H1</th>\n",
       "      <th>H2</th>\n",
       "      <th>H3</th>\n",
       "      <th>H4</th>\n",
       "      <th>H5</th>\n",
       "      <th>H6</th>\n",
       "      <th>H7</th>\n",
       "      <th>H8</th>\n",
       "      <th>H9</th>\n",
       "      <th>H10</th>\n",
       "      <th>H11</th>\n",
       "      <th>H12</th>\n",
       "      <th>H13</th>\n",
       "      <th>target</th>\n",
       "    </tr>\n",
       "  </thead>\n",
       "  <tbody>\n",
       "    <tr>\n",
       "      <th>0</th>\n",
       "      <td>1 (1).jpg</td>\n",
       "      <td>0.001586</td>\n",
       "      <td>93.192069</td>\n",
       "      <td>0.960450</td>\n",
       "      <td>1177.657526</td>\n",
       "      <td>0.291168</td>\n",
       "      <td>249.064033</td>\n",
       "      <td>4617.438034</td>\n",
       "      <td>7.718249</td>\n",
       "      <td>10.967639</td>\n",
       "      <td>0.000635</td>\n",
       "      <td>3.740615</td>\n",
       "      <td>-0.391000</td>\n",
       "      <td>0.995172</td>\n",
       "      <td>Miner</td>\n",
       "    </tr>\n",
       "    <tr>\n",
       "      <th>0</th>\n",
       "      <td>1 (10000).jpg</td>\n",
       "      <td>0.002062</td>\n",
       "      <td>97.008300</td>\n",
       "      <td>0.939763</td>\n",
       "      <td>805.227808</td>\n",
       "      <td>0.261650</td>\n",
       "      <td>211.017844</td>\n",
       "      <td>3123.902932</td>\n",
       "      <td>7.249024</td>\n",
       "      <td>10.589788</td>\n",
       "      <td>0.000597</td>\n",
       "      <td>3.729357</td>\n",
       "      <td>-0.336786</td>\n",
       "      <td>0.985960</td>\n",
       "      <td>Miner</td>\n",
       "    </tr>\n",
       "    <tr>\n",
       "      <th>0</th>\n",
       "      <td>1 (10001).jpg</td>\n",
       "      <td>0.000928</td>\n",
       "      <td>226.929118</td>\n",
       "      <td>0.967796</td>\n",
       "      <td>3523.245958</td>\n",
       "      <td>0.252188</td>\n",
       "      <td>295.117979</td>\n",
       "      <td>13866.054714</td>\n",
       "      <td>8.235735</td>\n",
       "      <td>11.816346</td>\n",
       "      <td>0.000534</td>\n",
       "      <td>4.198673</td>\n",
       "      <td>-0.393656</td>\n",
       "      <td>0.996458</td>\n",
       "      <td>Miner</td>\n",
       "    </tr>\n",
       "    <tr>\n",
       "      <th>0</th>\n",
       "      <td>1 (10002).jpg</td>\n",
       "      <td>0.002441</td>\n",
       "      <td>112.890236</td>\n",
       "      <td>0.986898</td>\n",
       "      <td>4306.632913</td>\n",
       "      <td>0.327462</td>\n",
       "      <td>302.522615</td>\n",
       "      <td>17113.641414</td>\n",
       "      <td>8.173147</td>\n",
       "      <td>11.235603</td>\n",
       "      <td>0.000619</td>\n",
       "      <td>3.749459</td>\n",
       "      <td>-0.458315</td>\n",
       "      <td>0.998801</td>\n",
       "      <td>Miner</td>\n",
       "    </tr>\n",
       "    <tr>\n",
       "      <th>0</th>\n",
       "      <td>1 (10003).jpg</td>\n",
       "      <td>0.000959</td>\n",
       "      <td>218.905658</td>\n",
       "      <td>0.965931</td>\n",
       "      <td>3213.701018</td>\n",
       "      <td>0.246127</td>\n",
       "      <td>281.627154</td>\n",
       "      <td>12635.898413</td>\n",
       "      <td>8.181094</td>\n",
       "      <td>11.783294</td>\n",
       "      <td>0.000530</td>\n",
       "      <td>4.202501</td>\n",
       "      <td>-0.385315</td>\n",
       "      <td>0.995845</td>\n",
       "      <td>Miner</td>\n",
       "    </tr>\n",
       "  </tbody>\n",
       "</table>\n",
       "</div>"
      ],
      "text/plain": [
       "            name        H1          H2        H3           H4        H5  \\\n",
       "0      1 (1).jpg  0.001586   93.192069  0.960450  1177.657526  0.291168   \n",
       "0  1 (10000).jpg  0.002062   97.008300  0.939763   805.227808  0.261650   \n",
       "0  1 (10001).jpg  0.000928  226.929118  0.967796  3523.245958  0.252188   \n",
       "0  1 (10002).jpg  0.002441  112.890236  0.986898  4306.632913  0.327462   \n",
       "0  1 (10003).jpg  0.000959  218.905658  0.965931  3213.701018  0.246127   \n",
       "\n",
       "           H6            H7        H8         H9       H10       H11  \\\n",
       "0  249.064033   4617.438034  7.718249  10.967639  0.000635  3.740615   \n",
       "0  211.017844   3123.902932  7.249024  10.589788  0.000597  3.729357   \n",
       "0  295.117979  13866.054714  8.235735  11.816346  0.000534  4.198673   \n",
       "0  302.522615  17113.641414  8.173147  11.235603  0.000619  3.749459   \n",
       "0  281.627154  12635.898413  8.181094  11.783294  0.000530  4.202501   \n",
       "\n",
       "        H12       H13 target  \n",
       "0 -0.391000  0.995172  Miner  \n",
       "0 -0.336786  0.985960  Miner  \n",
       "0 -0.393656  0.996458  Miner  \n",
       "0 -0.458315  0.998801  Miner  \n",
       "0 -0.385315  0.995845  Miner  "
      ]
     },
     "execution_count": 9,
     "metadata": {},
     "output_type": "execute_result"
    }
   ],
   "source": [
    "df.head()"
   ]
  }
 ],
 "metadata": {
  "kernelspec": {
   "display_name": "Python 3 (ipykernel)",
   "language": "python",
   "name": "python3"
  },
  "language_info": {
   "codemirror_mode": {
    "name": "ipython",
    "version": 3
   },
   "file_extension": ".py",
   "mimetype": "text/x-python",
   "name": "python",
   "nbconvert_exporter": "python",
   "pygments_lexer": "ipython3",
   "version": "3.10.6"
  }
 },
 "nbformat": 4,
 "nbformat_minor": 5
}
