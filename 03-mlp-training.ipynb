{
 "cells": [
  {
   "cell_type": "markdown",
   "id": "12756565-0503-4bb6-8bf2-05821592c625",
   "metadata": {},
   "source": [
    "# Multi-layer Perceptron Neural Network Training - JMUBEN Dataset"
   ]
  },
  {
   "cell_type": "code",
   "execution_count": 1,
   "id": "71f19cf0-c394-498c-b969-0067ca0b98de",
   "metadata": {},
   "outputs": [],
   "source": [
    "import pandas as pd\n",
    "import numpy as np\n",
    "import os, time, random\n",
    "from sklearn.neural_network import MLPClassifier\n",
    "from sklearn.model_selection import train_test_split\n",
    "from sklearn.metrics import accuracy_score, precision_score, recall_score, f1_score\n",
    "from tqdm import tqdm"
   ]
  },
  {
   "cell_type": "code",
   "execution_count": 2,
   "id": "9e56f79b-1d46-4a97-bb6a-a66c23deb426",
   "metadata": {},
   "outputs": [],
   "source": [
    "import warnings\n",
    "warnings.filterwarnings(\"ignore\")"
   ]
  },
  {
   "cell_type": "code",
   "execution_count": 3,
   "id": "4112a293-732b-4855-91bd-559ee7d74b87",
   "metadata": {},
   "outputs": [],
   "source": [
    "DATASETS_FOLDER = \"./datasets\"\n",
    "PATH_JMUBEN = DATASETS_FOLDER + \"/jmuben\"\n",
    "PATH_JMUBEN_GRAYSCALE = PATH_JMUBEN + \"/grayscale\"\n",
    "PATH_JMUBEN_HARALICK_FEATURES = PATH_JMUBEN + \"/haralick_features.csv\"\n",
    "PATH_EVALUATIONS = \"./evaluations\"\n",
    "PATH_EVALUATIONS_MLP = PATH_EVALUATIONS + \"/RNAs-MLP\""
   ]
  },
  {
   "cell_type": "markdown",
   "id": "82a7f934-a0ed-459d-a74b-e0541ddd4f27",
   "metadata": {
    "tags": []
   },
   "source": [
    "## 1. Preparing data"
   ]
  },
  {
   "cell_type": "markdown",
   "id": "697d7e81-044f-403c-a9d5-a22381d08d37",
   "metadata": {},
   "source": [
    "### 1.1. Openning dataframe"
   ]
  },
  {
   "cell_type": "code",
   "execution_count": 4,
   "id": "e46713f8-e588-4ed9-9fe9-7a7feca94e39",
   "metadata": {},
   "outputs": [
    {
     "data": {
      "text/html": [
       "<div>\n",
       "<style scoped>\n",
       "    .dataframe tbody tr th:only-of-type {\n",
       "        vertical-align: middle;\n",
       "    }\n",
       "\n",
       "    .dataframe tbody tr th {\n",
       "        vertical-align: top;\n",
       "    }\n",
       "\n",
       "    .dataframe thead th {\n",
       "        text-align: right;\n",
       "    }\n",
       "</style>\n",
       "<table border=\"1\" class=\"dataframe\">\n",
       "  <thead>\n",
       "    <tr style=\"text-align: right;\">\n",
       "      <th></th>\n",
       "      <th>name</th>\n",
       "      <th>H1</th>\n",
       "      <th>H2</th>\n",
       "      <th>H3</th>\n",
       "      <th>H4</th>\n",
       "      <th>H5</th>\n",
       "      <th>H6</th>\n",
       "      <th>H7</th>\n",
       "      <th>H8</th>\n",
       "      <th>H9</th>\n",
       "      <th>H10</th>\n",
       "      <th>H11</th>\n",
       "      <th>H12</th>\n",
       "      <th>H13</th>\n",
       "      <th>target</th>\n",
       "    </tr>\n",
       "  </thead>\n",
       "  <tbody>\n",
       "    <tr>\n",
       "      <th>0</th>\n",
       "      <td>1 (1).jpg</td>\n",
       "      <td>0.001586</td>\n",
       "      <td>93.192069</td>\n",
       "      <td>0.960450</td>\n",
       "      <td>1177.657526</td>\n",
       "      <td>0.291168</td>\n",
       "      <td>249.064033</td>\n",
       "      <td>4617.438034</td>\n",
       "      <td>7.718249</td>\n",
       "      <td>10.967639</td>\n",
       "      <td>0.000635</td>\n",
       "      <td>3.740615</td>\n",
       "      <td>-0.391000</td>\n",
       "      <td>0.995172</td>\n",
       "      <td>Miner</td>\n",
       "    </tr>\n",
       "    <tr>\n",
       "      <th>1</th>\n",
       "      <td>1 (10000).jpg</td>\n",
       "      <td>0.002062</td>\n",
       "      <td>97.008300</td>\n",
       "      <td>0.939763</td>\n",
       "      <td>805.227808</td>\n",
       "      <td>0.261650</td>\n",
       "      <td>211.017844</td>\n",
       "      <td>3123.902932</td>\n",
       "      <td>7.249024</td>\n",
       "      <td>10.589788</td>\n",
       "      <td>0.000597</td>\n",
       "      <td>3.729357</td>\n",
       "      <td>-0.336786</td>\n",
       "      <td>0.985960</td>\n",
       "      <td>Miner</td>\n",
       "    </tr>\n",
       "    <tr>\n",
       "      <th>2</th>\n",
       "      <td>1 (10001).jpg</td>\n",
       "      <td>0.000928</td>\n",
       "      <td>226.929118</td>\n",
       "      <td>0.967796</td>\n",
       "      <td>3523.245958</td>\n",
       "      <td>0.252188</td>\n",
       "      <td>295.117979</td>\n",
       "      <td>13866.054714</td>\n",
       "      <td>8.235735</td>\n",
       "      <td>11.816346</td>\n",
       "      <td>0.000534</td>\n",
       "      <td>4.198673</td>\n",
       "      <td>-0.393656</td>\n",
       "      <td>0.996458</td>\n",
       "      <td>Miner</td>\n",
       "    </tr>\n",
       "    <tr>\n",
       "      <th>3</th>\n",
       "      <td>1 (10002).jpg</td>\n",
       "      <td>0.002441</td>\n",
       "      <td>112.890236</td>\n",
       "      <td>0.986898</td>\n",
       "      <td>4306.632913</td>\n",
       "      <td>0.327462</td>\n",
       "      <td>302.522615</td>\n",
       "      <td>17113.641414</td>\n",
       "      <td>8.173147</td>\n",
       "      <td>11.235603</td>\n",
       "      <td>0.000619</td>\n",
       "      <td>3.749459</td>\n",
       "      <td>-0.458315</td>\n",
       "      <td>0.998801</td>\n",
       "      <td>Miner</td>\n",
       "    </tr>\n",
       "    <tr>\n",
       "      <th>4</th>\n",
       "      <td>1 (10003).jpg</td>\n",
       "      <td>0.000959</td>\n",
       "      <td>218.905658</td>\n",
       "      <td>0.965931</td>\n",
       "      <td>3213.701018</td>\n",
       "      <td>0.246127</td>\n",
       "      <td>281.627154</td>\n",
       "      <td>12635.898413</td>\n",
       "      <td>8.181094</td>\n",
       "      <td>11.783294</td>\n",
       "      <td>0.000530</td>\n",
       "      <td>4.202501</td>\n",
       "      <td>-0.385315</td>\n",
       "      <td>0.995845</td>\n",
       "      <td>Miner</td>\n",
       "    </tr>\n",
       "  </tbody>\n",
       "</table>\n",
       "</div>"
      ],
      "text/plain": [
       "            name        H1          H2        H3           H4        H5  \\\n",
       "0      1 (1).jpg  0.001586   93.192069  0.960450  1177.657526  0.291168   \n",
       "1  1 (10000).jpg  0.002062   97.008300  0.939763   805.227808  0.261650   \n",
       "2  1 (10001).jpg  0.000928  226.929118  0.967796  3523.245958  0.252188   \n",
       "3  1 (10002).jpg  0.002441  112.890236  0.986898  4306.632913  0.327462   \n",
       "4  1 (10003).jpg  0.000959  218.905658  0.965931  3213.701018  0.246127   \n",
       "\n",
       "           H6            H7        H8         H9       H10       H11  \\\n",
       "0  249.064033   4617.438034  7.718249  10.967639  0.000635  3.740615   \n",
       "1  211.017844   3123.902932  7.249024  10.589788  0.000597  3.729357   \n",
       "2  295.117979  13866.054714  8.235735  11.816346  0.000534  4.198673   \n",
       "3  302.522615  17113.641414  8.173147  11.235603  0.000619  3.749459   \n",
       "4  281.627154  12635.898413  8.181094  11.783294  0.000530  4.202501   \n",
       "\n",
       "        H12       H13 target  \n",
       "0 -0.391000  0.995172  Miner  \n",
       "1 -0.336786  0.985960  Miner  \n",
       "2 -0.393656  0.996458  Miner  \n",
       "3 -0.458315  0.998801  Miner  \n",
       "4 -0.385315  0.995845  Miner  "
      ]
     },
     "execution_count": 4,
     "metadata": {},
     "output_type": "execute_result"
    }
   ],
   "source": [
    "df_haralick_features = pd.read_csv(PATH_JMUBEN_HARALICK_FEATURES)\n",
    "df_haralick_features.head()"
   ]
  },
  {
   "cell_type": "markdown",
   "id": "fac9b20f-25bd-42f9-93e8-6429fbc2e270",
   "metadata": {},
   "source": [
    "### 1.2. Removing \"name\" column"
   ]
  },
  {
   "cell_type": "code",
   "execution_count": 5,
   "id": "914fad15-a707-4370-81e6-4bb80ea0122c",
   "metadata": {},
   "outputs": [
    {
     "data": {
      "text/html": [
       "<div>\n",
       "<style scoped>\n",
       "    .dataframe tbody tr th:only-of-type {\n",
       "        vertical-align: middle;\n",
       "    }\n",
       "\n",
       "    .dataframe tbody tr th {\n",
       "        vertical-align: top;\n",
       "    }\n",
       "\n",
       "    .dataframe thead th {\n",
       "        text-align: right;\n",
       "    }\n",
       "</style>\n",
       "<table border=\"1\" class=\"dataframe\">\n",
       "  <thead>\n",
       "    <tr style=\"text-align: right;\">\n",
       "      <th></th>\n",
       "      <th>H1</th>\n",
       "      <th>H2</th>\n",
       "      <th>H3</th>\n",
       "      <th>H4</th>\n",
       "      <th>H5</th>\n",
       "      <th>H6</th>\n",
       "      <th>H7</th>\n",
       "      <th>H8</th>\n",
       "      <th>H9</th>\n",
       "      <th>H10</th>\n",
       "      <th>H11</th>\n",
       "      <th>H12</th>\n",
       "      <th>H13</th>\n",
       "      <th>target</th>\n",
       "    </tr>\n",
       "  </thead>\n",
       "  <tbody>\n",
       "    <tr>\n",
       "      <th>0</th>\n",
       "      <td>0.001586</td>\n",
       "      <td>93.192069</td>\n",
       "      <td>0.960450</td>\n",
       "      <td>1177.657526</td>\n",
       "      <td>0.291168</td>\n",
       "      <td>249.064033</td>\n",
       "      <td>4617.438034</td>\n",
       "      <td>7.718249</td>\n",
       "      <td>10.967639</td>\n",
       "      <td>0.000635</td>\n",
       "      <td>3.740615</td>\n",
       "      <td>-0.391000</td>\n",
       "      <td>0.995172</td>\n",
       "      <td>Miner</td>\n",
       "    </tr>\n",
       "    <tr>\n",
       "      <th>1</th>\n",
       "      <td>0.002062</td>\n",
       "      <td>97.008300</td>\n",
       "      <td>0.939763</td>\n",
       "      <td>805.227808</td>\n",
       "      <td>0.261650</td>\n",
       "      <td>211.017844</td>\n",
       "      <td>3123.902932</td>\n",
       "      <td>7.249024</td>\n",
       "      <td>10.589788</td>\n",
       "      <td>0.000597</td>\n",
       "      <td>3.729357</td>\n",
       "      <td>-0.336786</td>\n",
       "      <td>0.985960</td>\n",
       "      <td>Miner</td>\n",
       "    </tr>\n",
       "    <tr>\n",
       "      <th>2</th>\n",
       "      <td>0.000928</td>\n",
       "      <td>226.929118</td>\n",
       "      <td>0.967796</td>\n",
       "      <td>3523.245958</td>\n",
       "      <td>0.252188</td>\n",
       "      <td>295.117979</td>\n",
       "      <td>13866.054714</td>\n",
       "      <td>8.235735</td>\n",
       "      <td>11.816346</td>\n",
       "      <td>0.000534</td>\n",
       "      <td>4.198673</td>\n",
       "      <td>-0.393656</td>\n",
       "      <td>0.996458</td>\n",
       "      <td>Miner</td>\n",
       "    </tr>\n",
       "    <tr>\n",
       "      <th>3</th>\n",
       "      <td>0.002441</td>\n",
       "      <td>112.890236</td>\n",
       "      <td>0.986898</td>\n",
       "      <td>4306.632913</td>\n",
       "      <td>0.327462</td>\n",
       "      <td>302.522615</td>\n",
       "      <td>17113.641414</td>\n",
       "      <td>8.173147</td>\n",
       "      <td>11.235603</td>\n",
       "      <td>0.000619</td>\n",
       "      <td>3.749459</td>\n",
       "      <td>-0.458315</td>\n",
       "      <td>0.998801</td>\n",
       "      <td>Miner</td>\n",
       "    </tr>\n",
       "    <tr>\n",
       "      <th>4</th>\n",
       "      <td>0.000959</td>\n",
       "      <td>218.905658</td>\n",
       "      <td>0.965931</td>\n",
       "      <td>3213.701018</td>\n",
       "      <td>0.246127</td>\n",
       "      <td>281.627154</td>\n",
       "      <td>12635.898413</td>\n",
       "      <td>8.181094</td>\n",
       "      <td>11.783294</td>\n",
       "      <td>0.000530</td>\n",
       "      <td>4.202501</td>\n",
       "      <td>-0.385315</td>\n",
       "      <td>0.995845</td>\n",
       "      <td>Miner</td>\n",
       "    </tr>\n",
       "  </tbody>\n",
       "</table>\n",
       "</div>"
      ],
      "text/plain": [
       "         H1          H2        H3           H4        H5          H6  \\\n",
       "0  0.001586   93.192069  0.960450  1177.657526  0.291168  249.064033   \n",
       "1  0.002062   97.008300  0.939763   805.227808  0.261650  211.017844   \n",
       "2  0.000928  226.929118  0.967796  3523.245958  0.252188  295.117979   \n",
       "3  0.002441  112.890236  0.986898  4306.632913  0.327462  302.522615   \n",
       "4  0.000959  218.905658  0.965931  3213.701018  0.246127  281.627154   \n",
       "\n",
       "             H7        H8         H9       H10       H11       H12       H13  \\\n",
       "0   4617.438034  7.718249  10.967639  0.000635  3.740615 -0.391000  0.995172   \n",
       "1   3123.902932  7.249024  10.589788  0.000597  3.729357 -0.336786  0.985960   \n",
       "2  13866.054714  8.235735  11.816346  0.000534  4.198673 -0.393656  0.996458   \n",
       "3  17113.641414  8.173147  11.235603  0.000619  3.749459 -0.458315  0.998801   \n",
       "4  12635.898413  8.181094  11.783294  0.000530  4.202501 -0.385315  0.995845   \n",
       "\n",
       "  target  \n",
       "0  Miner  \n",
       "1  Miner  \n",
       "2  Miner  \n",
       "3  Miner  \n",
       "4  Miner  "
      ]
     },
     "execution_count": 5,
     "metadata": {},
     "output_type": "execute_result"
    }
   ],
   "source": [
    "df_haralick_features.drop([\"name\"], axis=1, inplace=True)\n",
    "df_haralick_features.head()"
   ]
  },
  {
   "cell_type": "markdown",
   "id": "ca428d55-b8c9-4edc-b1b6-3c30d39d5f6a",
   "metadata": {},
   "source": [
    "### 1.3. Defining X and Y attributes"
   ]
  },
  {
   "cell_type": "code",
   "execution_count": 6,
   "id": "35f69927-8fb8-4031-8586-00c216a595c1",
   "metadata": {},
   "outputs": [],
   "source": [
    "# Y = predictor attribute\n",
    "# X = features\n",
    "\n",
    "Y = df_haralick_features[\"target\"]\n",
    "df_haralick_features.drop([\"target\"], axis=1, inplace=True)\n",
    "X = df_haralick_features"
   ]
  },
  {
   "cell_type": "markdown",
   "id": "d5219ff3-7d79-4473-a46b-0508dd21cd27",
   "metadata": {},
   "source": [
    "## 2. Defining Multi-layer Perceptron (MLP) architectures to train"
   ]
  },
  {
   "cell_type": "markdown",
   "id": "be4a6daf-176b-4f39-a2f0-3362d15292d1",
   "metadata": {},
   "source": [
    "### 2.1. MLP with one hidden layer"
   ]
  },
  {
   "cell_type": "code",
   "execution_count": 7,
   "id": "6f999ecf-031f-40ae-8f39-dc4b224f5ad0",
   "metadata": {},
   "outputs": [
    {
     "data": {
      "text/plain": [
       "[4, 5, 6, 7, 8, 9, 10, 11, 12, 13, 14, 15, 16]"
      ]
     },
     "execution_count": 7,
     "metadata": {},
     "output_type": "execute_result"
    }
   ],
   "source": [
    "one_layer_architectures = [i for i in range(4, 17)]\n",
    "one_layer_architectures"
   ]
  },
  {
   "cell_type": "markdown",
   "id": "96c1e92b-5823-416b-959c-474525731027",
   "metadata": {},
   "source": [
    "### 2.2. MLP with two hidden layers"
   ]
  },
  {
   "cell_type": "markdown",
   "id": "dfbe036e-58e1-49c8-8f78-446b8bef28c0",
   "metadata": {
    "tags": []
   },
   "source": [
    "#### Geometric Pyramid Rule\n",
    "Number of features = 13  \n",
    "Number of classes = 5  \n",
    "\n",
    "$N = \\alpha \\times \\sqrt{\\textrm{n. of features} \\times \\textrm{n. of classes}}$  \n",
    "$0.5 \\leq \\alpha \\leq 2$  \n",
    "$4 \\leq N \\leq 16$"
   ]
  },
  {
   "cell_type": "markdown",
   "id": "a0237807-db29-43c5-9756-08250924ab58",
   "metadata": {},
   "source": [
    "#### Defining number of architectures"
   ]
  },
  {
   "cell_type": "code",
   "execution_count": 8,
   "id": "4a94d6df-c40b-49fd-b467-fab3aa40a1a4",
   "metadata": {},
   "outputs": [],
   "source": [
    "count = 0\n",
    "number_of_neurons = []\n",
    "\n",
    "while count < 4:\n",
    "    neurons = random.randint(4, 16)\n",
    "    \n",
    "    if neurons not in number_of_neurons:\n",
    "        number_of_neurons.append(neurons)\n",
    "        count += 1"
   ]
  },
  {
   "cell_type": "code",
   "execution_count": 9,
   "id": "d7b19dbc-a311-4207-b19c-0f1845ec182e",
   "metadata": {},
   "outputs": [
    {
     "name": "stdout",
     "output_type": "stream",
     "text": [
      "Total of neurons: [15, 7, 13, 6]\n"
     ]
    }
   ],
   "source": [
    "print(f\"Total of neurons: {number_of_neurons}\")"
   ]
  },
  {
   "cell_type": "code",
   "execution_count": 10,
   "id": "3d5e87fd-32e5-4f7b-be33-544eccd40874",
   "metadata": {},
   "outputs": [],
   "source": [
    "two_layers_architectures = []\n",
    "\n",
    "for neuron in number_of_neurons:\n",
    "    for i in range(1, neuron):\n",
    "        if (i, neuron-i) not in two_layers_architectures:\n",
    "            two_layers_architectures.append((i, neuron-i))"
   ]
  },
  {
   "cell_type": "code",
   "execution_count": 11,
   "id": "c3424f34-10cf-481d-b4e2-e53c0da0c914",
   "metadata": {},
   "outputs": [
    {
     "name": "stdout",
     "output_type": "stream",
     "text": [
      "Number of architectures: 37\n",
      "Architectures: [(1, 14), (2, 13), (3, 12), (4, 11), (5, 10), (6, 9), (7, 8), (8, 7), (9, 6), (10, 5), (11, 4), (12, 3), (13, 2), (14, 1), (1, 6), (2, 5), (3, 4), (4, 3), (5, 2), (6, 1), (1, 12), (2, 11), (3, 10), (4, 9), (5, 8), (6, 7), (7, 6), (8, 5), (9, 4), (10, 3), (11, 2), (12, 1), (1, 5), (2, 4), (3, 3), (4, 2), (5, 1)]\n"
     ]
    }
   ],
   "source": [
    "print(f\"Number of architectures: {len(two_layers_architectures)}\")\n",
    "print(f\"Architectures: {two_layers_architectures}\")"
   ]
  },
  {
   "cell_type": "markdown",
   "id": "b9d81326-28c2-45ed-9622-4a012477109d",
   "metadata": {},
   "source": [
    "## 3. Training MLP architectures with Haralick Features"
   ]
  },
  {
   "cell_type": "markdown",
   "id": "1e489da0-3bc8-4434-b876-2e1fa5783c52",
   "metadata": {
    "tags": []
   },
   "source": [
    "### 3.1. Defining function to calculate model total number of params"
   ]
  },
  {
   "cell_type": "code",
   "execution_count": 12,
   "id": "848d952c-f28f-41a0-accd-2c25df08b0d0",
   "metadata": {},
   "outputs": [],
   "source": [
    "def calculate_total_params(model):    \n",
    "    params_number = 0\n",
    "    \n",
    "    for coef in model.coefs_:\n",
    "        params_number += coef.size\n",
    "\n",
    "    params_number += sum(coef.shape[1] for coef in model.coefs_)\n",
    "    return params_number"
   ]
  },
  {
   "cell_type": "markdown",
   "id": "5dcacc81-21f3-45c8-a479-222b71c16cd3",
   "metadata": {},
   "source": [
    "### 3.2. Defining function to calculate GFLOPS model consume"
   ]
  },
  {
   "cell_type": "code",
   "execution_count": 13,
   "id": "55982018-13e8-400c-9ad4-b4d71e32266c",
   "metadata": {},
   "outputs": [],
   "source": [
    "def calculate_gflops(model, training_time):    \n",
    "    layers_number = len(model.coefs_)\n",
    "    operations_number = 2 * sum(np.prod(coef.shape) for coef in model.coefs_)\n",
    "    \n",
    "    GFLOPS = (operations_number / training_time) * 1e-9\n",
    "    return GFLOPS"
   ]
  },
  {
   "cell_type": "markdown",
   "id": "419eecfd-6265-42a1-8822-47d69ad4c9d1",
   "metadata": {},
   "source": [
    "### 3.3. Defining function to evaluate models"
   ]
  },
  {
   "cell_type": "code",
   "execution_count": 14,
   "id": "c50236e7-6fe1-4336-8b4e-849031875571",
   "metadata": {},
   "outputs": [],
   "source": [
    "def evaluate_model(y_true, y_pred):    \n",
    "    accuracy = accuracy_score(y_true, y_pred)\n",
    "    f1 = f1_score(y_true, y_pred, average=\"weighted\")\n",
    "    precision = precision_score(y_true, y_pred, average=\"weighted\")\n",
    "    recall = recall_score(y_true, y_pred, average=\"weighted\")\n",
    "\n",
    "    return accuracy, f1, precision, recall"
   ]
  },
  {
   "cell_type": "markdown",
   "id": "656cd446-5337-40a6-989d-b16a10f79ed8",
   "metadata": {},
   "source": [
    "### 3.4. Defining function to save model metrics in a dataframe"
   ]
  },
  {
   "cell_type": "code",
   "execution_count": 15,
   "id": "0897cd6a-5d66-4e28-81dc-b2f15d9235a1",
   "metadata": {},
   "outputs": [],
   "source": [
    "def generate_dataframe(i, architecture, params, gflops, training_time, accuracy, f1, precision, recall, path, model_name):    \n",
    "    metrics = {\n",
    "        \"Experiment\": [str(i)],\n",
    "        \"Architectures\": str(architecture), \n",
    "        \"Total Params\": params, \n",
    "        \"GFLOPS\": gflops,\n",
    "        \"Training Time (sec)\": training_time, \n",
    "        \"Test Accuracy\": accuracy, \n",
    "        \"Test F1 Weightet\": f1, \n",
    "        \"Test Precision Weighted\": precision, \n",
    "        \"Test Recall Weighted\": recall}\n",
    "    \n",
    "    df_new = pd.DataFrame(data=metrics)\n",
    "    file_path = f\"{path}/metrics_{model_name}.csv\"\n",
    "    \n",
    "    if not os.path.exists(path):\n",
    "        os.makedirs(path)\n",
    "        \n",
    "    if os.path.exists(file_path):\n",
    "        df = pd.read_csv(file_path)\n",
    "        df = df.append(df_new)\n",
    "        df.to_csv(file_path, header=True, index=False)\n",
    "    else:\n",
    "        df_new.to_csv(file_path, header=True, index=False)"
   ]
  },
  {
   "cell_type": "markdown",
   "id": "3ffc2331-a9dc-4dfb-9bbc-ceff74cbc8e4",
   "metadata": {},
   "source": [
    "### 3.5. Training MLP models"
   ]
  },
  {
   "cell_type": "markdown",
   "id": "760362d6-15bd-461d-9d01-952dd8482b18",
   "metadata": {},
   "source": [
    "#### One hidden layer models"
   ]
  },
  {
   "cell_type": "code",
   "execution_count": 16,
   "id": "052c6766-37bd-4514-a6a1-995e9bf922dd",
   "metadata": {},
   "outputs": [
    {
     "name": "stderr",
     "output_type": "stream",
     "text": [
      "Round 1 - Training MLP models: 100%|████████████████████████████████████████████████████████████████████████████████| 13/13 [00:30<00:00,  2.37s/it]\n",
      "Round 2 - Training MLP models: 100%|████████████████████████████████████████████████████████████████████████████████| 13/13 [00:25<00:00,  1.97s/it]\n",
      "Round 3 - Training MLP models: 100%|████████████████████████████████████████████████████████████████████████████████| 13/13 [00:28<00:00,  2.21s/it]\n"
     ]
    }
   ],
   "source": [
    "for i in range(1, 4):\n",
    "    X_train, X_test, y_train, y_test = train_test_split(X, Y, test_size=0.3, random_state=42+i)\n",
    "    \n",
    "    for architecture in tqdm(one_layer_architectures, f\"Round {i} - Training MLP models\"):\n",
    "        mlp_classifier = MLPClassifier(hidden_layer_sizes=architecture, max_iter=300, early_stopping=True)\n",
    "        \n",
    "        beginning = time.time()\n",
    "        mlp_classifier.fit(X_train, y_train)\n",
    "        end = time.time()\n",
    "        \n",
    "        training_time = end - beginning\n",
    "        \n",
    "        params = calculate_total_params(mlp_classifier)\n",
    "        gflops = calculate_gflops(mlp_classifier, training_time)\n",
    "        \n",
    "        y_pred = mlp_classifier.predict(X_test)\n",
    "        \n",
    "        accuracy, f1, precision, recall = evaluate_model(y_test, y_pred)\n",
    "        generate_dataframe(i, architecture, params, gflops, training_time, accuracy, f1, precision, recall, PATH_EVALUATIONS_MLP, \"mlp_1hl_experiments\")"
   ]
  },
  {
   "cell_type": "markdown",
   "id": "2c1745e5-662b-49a9-ba23-25e359b85278",
   "metadata": {},
   "source": [
    "#### Two hidden layers models"
   ]
  },
  {
   "cell_type": "code",
   "execution_count": 17,
   "id": "32588035-c284-4bdc-b623-a1415df4b95d",
   "metadata": {},
   "outputs": [
    {
     "name": "stderr",
     "output_type": "stream",
     "text": [
      "Round 1 - Training MLP models: 100%|████████████████████████████████████████████████████████████████████████████████| 37/37 [01:47<00:00,  2.92s/it]\n",
      "Round 2 - Training MLP models: 100%|████████████████████████████████████████████████████████████████████████████████| 37/37 [01:33<00:00,  2.53s/it]\n",
      "Round 3 - Training MLP models: 100%|████████████████████████████████████████████████████████████████████████████████| 37/37 [01:44<00:00,  2.84s/it]\n"
     ]
    }
   ],
   "source": [
    "for i in range(1, 4):\n",
    "    X_train, X_test, y_train, y_test = train_test_split(X, Y, test_size=0.3, random_state=42+i)\n",
    "    \n",
    "    for architecture in tqdm(two_layers_architectures, f\"Round {i} - Training MLP models\"):\n",
    "        mlp_classifier = MLPClassifier(hidden_layer_sizes=architecture, max_iter=300, early_stopping=True)\n",
    "        \n",
    "        beginning = time.time()\n",
    "        mlp_classifier.fit(X_train, y_train)\n",
    "        end = time.time()\n",
    "        \n",
    "        training_time = end - beginning\n",
    "        \n",
    "        params = calculate_total_params(mlp_classifier)\n",
    "        gflops = calculate_gflops(mlp_classifier, training_time)\n",
    "        \n",
    "        y_pred = mlp_classifier.predict(X_test)\n",
    "        \n",
    "        accuracy, f1, precision, recall = evaluate_model(y_test, y_pred)\n",
    "        generate_dataframe(i, architecture, params, gflops, training_time, accuracy, f1, precision, recall, PATH_EVALUATIONS_MLP, \"mlp_2hl_experiments\")"
   ]
  }
 ],
 "metadata": {
  "kernelspec": {
   "display_name": "Python 3 (ipykernel)",
   "language": "python",
   "name": "python3"
  },
  "language_info": {
   "codemirror_mode": {
    "name": "ipython",
    "version": 3
   },
   "file_extension": ".py",
   "mimetype": "text/x-python",
   "name": "python",
   "nbconvert_exporter": "python",
   "pygments_lexer": "ipython3",
   "version": "3.10.6"
  }
 },
 "nbformat": 4,
 "nbformat_minor": 5
}
