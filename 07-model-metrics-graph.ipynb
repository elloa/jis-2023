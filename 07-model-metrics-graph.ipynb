{
 "cells": [
  {
   "cell_type": "markdown",
   "id": "2a74f75d-ebf7-43a5-8960-0b71b292ad61",
   "metadata": {},
   "source": [
    "# Generating Model Metrics Graph - JMUBEN Dataset"
   ]
  },
  {
   "cell_type": "code",
   "execution_count": 1,
   "id": "e8724473-a66a-4c33-9365-4575c2b6a478",
   "metadata": {},
   "outputs": [],
   "source": [
    "import os\n",
    "import matplotlib.pyplot as plt\n",
    "import numpy as np\n",
    "import pandas as pd"
   ]
  },
  {
   "cell_type": "code",
   "execution_count": 2,
   "id": "b3f448e0-5c46-4854-b3c9-bac6b1201224",
   "metadata": {},
   "outputs": [],
   "source": [
    "PATH_EVALUATIONS = \"./evaluations\"\n",
    "PATH_MLP_METRICS = PATH_EVALUATIONS + \"/RNAs-MLP\"\n",
    "PATH_CNN_METRICS = PATH_EVALUATIONS + \"/CNNs\"\n",
    "PATH_MLP_1HL = PATH_MLP_METRICS + \"/metrics_mlp_1hl_experiments.csv\"\n",
    "PATH_MLP_2HL = PATH_MLP_METRICS + \"/metrics_mlp_2hl_experiments.csv\""
   ]
  },
  {
   "cell_type": "markdown",
   "id": "1779c7b7-90f6-4274-9aa9-c8cebdc65bca",
   "metadata": {},
   "source": [
    "## 1. Selecting the five best model metrics"
   ]
  },
  {
   "cell_type": "code",
   "execution_count": 3,
   "id": "392a65e9-0630-43cc-a996-9232ca37d570",
   "metadata": {},
   "outputs": [],
   "source": [
    "metrics = {}"
   ]
  },
  {
   "cell_type": "markdown",
   "id": "058c9935-35ef-4a6b-a893-65bf15786958",
   "metadata": {},
   "source": [
    "### 1.1. RNAs MLP one hidden layer"
   ]
  },
  {
   "cell_type": "code",
   "execution_count": 4,
   "id": "061c205a-d96d-4d3c-8e04-8b1310919c9f",
   "metadata": {},
   "outputs": [
    {
     "data": {
      "text/html": [
       "<div>\n",
       "<style scoped>\n",
       "    .dataframe tbody tr th:only-of-type {\n",
       "        vertical-align: middle;\n",
       "    }\n",
       "\n",
       "    .dataframe tbody tr th {\n",
       "        vertical-align: top;\n",
       "    }\n",
       "\n",
       "    .dataframe thead th {\n",
       "        text-align: right;\n",
       "    }\n",
       "</style>\n",
       "<table border=\"1\" class=\"dataframe\">\n",
       "  <thead>\n",
       "    <tr style=\"text-align: right;\">\n",
       "      <th></th>\n",
       "      <th>Experiment</th>\n",
       "      <th>Architectures</th>\n",
       "      <th>Total Params</th>\n",
       "      <th>GFLOPS</th>\n",
       "      <th>Training Time (sec)</th>\n",
       "      <th>Test Accuracy</th>\n",
       "      <th>Test F1 Weightet</th>\n",
       "      <th>Test Precision Weighted</th>\n",
       "      <th>Test Recall Weighted</th>\n",
       "    </tr>\n",
       "  </thead>\n",
       "  <tbody>\n",
       "    <tr>\n",
       "      <th>0</th>\n",
       "      <td>1</td>\n",
       "      <td>4</td>\n",
       "      <td>81</td>\n",
       "      <td>8.002895e-08</td>\n",
       "      <td>1.799349</td>\n",
       "      <td>0.615485</td>\n",
       "      <td>0.525966</td>\n",
       "      <td>0.585156</td>\n",
       "      <td>0.615485</td>\n",
       "    </tr>\n",
       "    <tr>\n",
       "      <th>1</th>\n",
       "      <td>1</td>\n",
       "      <td>5</td>\n",
       "      <td>100</td>\n",
       "      <td>9.401882e-08</td>\n",
       "      <td>1.914510</td>\n",
       "      <td>0.667464</td>\n",
       "      <td>0.626959</td>\n",
       "      <td>0.619255</td>\n",
       "      <td>0.667464</td>\n",
       "    </tr>\n",
       "    <tr>\n",
       "      <th>2</th>\n",
       "      <td>1</td>\n",
       "      <td>6</td>\n",
       "      <td>119</td>\n",
       "      <td>2.995345e-07</td>\n",
       "      <td>0.721119</td>\n",
       "      <td>0.351039</td>\n",
       "      <td>0.314196</td>\n",
       "      <td>0.285170</td>\n",
       "      <td>0.351039</td>\n",
       "    </tr>\n",
       "    <tr>\n",
       "      <th>3</th>\n",
       "      <td>1</td>\n",
       "      <td>7</td>\n",
       "      <td>138</td>\n",
       "      <td>2.538573e-07</td>\n",
       "      <td>0.992684</td>\n",
       "      <td>0.595901</td>\n",
       "      <td>0.528823</td>\n",
       "      <td>0.506131</td>\n",
       "      <td>0.595901</td>\n",
       "    </tr>\n",
       "    <tr>\n",
       "      <th>4</th>\n",
       "      <td>1</td>\n",
       "      <td>8</td>\n",
       "      <td>157</td>\n",
       "      <td>7.266233e-08</td>\n",
       "      <td>3.963539</td>\n",
       "      <td>0.793567</td>\n",
       "      <td>0.777952</td>\n",
       "      <td>0.786391</td>\n",
       "      <td>0.793567</td>\n",
       "    </tr>\n",
       "  </tbody>\n",
       "</table>\n",
       "</div>"
      ],
      "text/plain": [
       "   Experiment  Architectures  Total Params        GFLOPS  Training Time (sec)  \\\n",
       "0           1              4            81  8.002895e-08             1.799349   \n",
       "1           1              5           100  9.401882e-08             1.914510   \n",
       "2           1              6           119  2.995345e-07             0.721119   \n",
       "3           1              7           138  2.538573e-07             0.992684   \n",
       "4           1              8           157  7.266233e-08             3.963539   \n",
       "\n",
       "   Test Accuracy  Test F1 Weightet  Test Precision Weighted  \\\n",
       "0       0.615485          0.525966                 0.585156   \n",
       "1       0.667464          0.626959                 0.619255   \n",
       "2       0.351039          0.314196                 0.285170   \n",
       "3       0.595901          0.528823                 0.506131   \n",
       "4       0.793567          0.777952                 0.786391   \n",
       "\n",
       "   Test Recall Weighted  \n",
       "0              0.615485  \n",
       "1              0.667464  \n",
       "2              0.351039  \n",
       "3              0.595901  \n",
       "4              0.793567  "
      ]
     },
     "execution_count": 4,
     "metadata": {},
     "output_type": "execute_result"
    }
   ],
   "source": [
    "df_mlp1 = pd.read_csv(PATH_MLP_1HL)\n",
    "df_mlp1.head()"
   ]
  },
  {
   "cell_type": "code",
   "execution_count": 5,
   "id": "615fdd68-0f5f-4bb4-8343-7f83047d7923",
   "metadata": {},
   "outputs": [],
   "source": [
    "mlp1 = [8, 14, 15, 16]"
   ]
  },
  {
   "cell_type": "code",
   "execution_count": 6,
   "id": "92c16cf7-91a8-4e72-a702-e904018a44f4",
   "metadata": {},
   "outputs": [
    {
     "data": {
      "text/plain": [
       "{'(8)': [0.777952138092672, 0.5994696365792517, 0.6242460855415174],\n",
       " '(14)': [0.7069571587301429, 0.6534246122067761, 0.6865488519223463],\n",
       " '(15)': [0.7367704351837503, 0.6634691010889859, 0.6950022997435773],\n",
       " '(16)': [0.6485927814411426, 0.6817882864083062, 0.6465368452712326]}"
      ]
     },
     "execution_count": 6,
     "metadata": {},
     "output_type": "execute_result"
    }
   ],
   "source": [
    "for architecture in mlp1:\n",
    "    f1_score = [f1 for f1 in df_mlp1[\"Test F1 Weightet\"].loc[df_mlp1[\"Architectures\"] == architecture]]\n",
    "    metrics[f\"({str(architecture)})\"] = f1_score\n",
    "\n",
    "metrics"
   ]
  },
  {
   "cell_type": "markdown",
   "id": "8ce4e6cc-d785-43c2-896a-a675b23966ea",
   "metadata": {},
   "source": [
    "### 1.2. RNAs MLP two hidden layers"
   ]
  },
  {
   "cell_type": "code",
   "execution_count": 7,
   "id": "67bb66fd-369d-47fb-ba62-c37fa0bcdc53",
   "metadata": {},
   "outputs": [
    {
     "data": {
      "text/html": [
       "<div>\n",
       "<style scoped>\n",
       "    .dataframe tbody tr th:only-of-type {\n",
       "        vertical-align: middle;\n",
       "    }\n",
       "\n",
       "    .dataframe tbody tr th {\n",
       "        vertical-align: top;\n",
       "    }\n",
       "\n",
       "    .dataframe thead th {\n",
       "        text-align: right;\n",
       "    }\n",
       "</style>\n",
       "<table border=\"1\" class=\"dataframe\">\n",
       "  <thead>\n",
       "    <tr style=\"text-align: right;\">\n",
       "      <th></th>\n",
       "      <th>Experiment</th>\n",
       "      <th>Architectures</th>\n",
       "      <th>Total Params</th>\n",
       "      <th>GFLOPS</th>\n",
       "      <th>Training Time (sec)</th>\n",
       "      <th>Test Accuracy</th>\n",
       "      <th>Test F1 Weightet</th>\n",
       "      <th>Test Precision Weighted</th>\n",
       "      <th>Test Recall Weighted</th>\n",
       "    </tr>\n",
       "  </thead>\n",
       "  <tbody>\n",
       "    <tr>\n",
       "      <th>0</th>\n",
       "      <td>1</td>\n",
       "      <td>(1, 14)</td>\n",
       "      <td>117</td>\n",
       "      <td>1.847504e-07</td>\n",
       "      <td>1.050065</td>\n",
       "      <td>0.320068</td>\n",
       "      <td>0.155210</td>\n",
       "      <td>0.102444</td>\n",
       "      <td>0.320068</td>\n",
       "    </tr>\n",
       "    <tr>\n",
       "      <th>1</th>\n",
       "      <td>1</td>\n",
       "      <td>(2, 13)</td>\n",
       "      <td>137</td>\n",
       "      <td>4.619214e-08</td>\n",
       "      <td>5.065797</td>\n",
       "      <td>0.659266</td>\n",
       "      <td>0.567173</td>\n",
       "      <td>0.544528</td>\n",
       "      <td>0.659266</td>\n",
       "    </tr>\n",
       "    <tr>\n",
       "      <th>2</th>\n",
       "      <td>1</td>\n",
       "      <td>(3, 12)</td>\n",
       "      <td>155</td>\n",
       "      <td>2.019025e-07</td>\n",
       "      <td>1.337279</td>\n",
       "      <td>0.573185</td>\n",
       "      <td>0.485153</td>\n",
       "      <td>0.455116</td>\n",
       "      <td>0.573185</td>\n",
       "    </tr>\n",
       "    <tr>\n",
       "      <th>3</th>\n",
       "      <td>1</td>\n",
       "      <td>(4, 11)</td>\n",
       "      <td>171</td>\n",
       "      <td>1.465804e-07</td>\n",
       "      <td>2.060303</td>\n",
       "      <td>0.640307</td>\n",
       "      <td>0.593800</td>\n",
       "      <td>0.555253</td>\n",
       "      <td>0.640307</td>\n",
       "    </tr>\n",
       "    <tr>\n",
       "      <th>4</th>\n",
       "      <td>1</td>\n",
       "      <td>(5, 10)</td>\n",
       "      <td>185</td>\n",
       "      <td>1.245983e-07</td>\n",
       "      <td>2.648510</td>\n",
       "      <td>0.614062</td>\n",
       "      <td>0.509854</td>\n",
       "      <td>0.632787</td>\n",
       "      <td>0.614062</td>\n",
       "    </tr>\n",
       "  </tbody>\n",
       "</table>\n",
       "</div>"
      ],
      "text/plain": [
       "   Experiment Architectures  Total Params        GFLOPS  Training Time (sec)  \\\n",
       "0           1       (1, 14)           117  1.847504e-07             1.050065   \n",
       "1           1       (2, 13)           137  4.619214e-08             5.065797   \n",
       "2           1       (3, 12)           155  2.019025e-07             1.337279   \n",
       "3           1       (4, 11)           171  1.465804e-07             2.060303   \n",
       "4           1       (5, 10)           185  1.245983e-07             2.648510   \n",
       "\n",
       "   Test Accuracy  Test F1 Weightet  Test Precision Weighted  \\\n",
       "0       0.320068          0.155210                 0.102444   \n",
       "1       0.659266          0.567173                 0.544528   \n",
       "2       0.573185          0.485153                 0.455116   \n",
       "3       0.640307          0.593800                 0.555253   \n",
       "4       0.614062          0.509854                 0.632787   \n",
       "\n",
       "   Test Recall Weighted  \n",
       "0              0.320068  \n",
       "1              0.659266  \n",
       "2              0.573185  \n",
       "3              0.640307  \n",
       "4              0.614062  "
      ]
     },
     "execution_count": 7,
     "metadata": {},
     "output_type": "execute_result"
    }
   ],
   "source": [
    "df_mlp2 = pd.read_csv(PATH_MLP_2HL)\n",
    "df_mlp2.head()"
   ]
  },
  {
   "cell_type": "code",
   "execution_count": 8,
   "id": "0ca5a459-ca1f-4768-b16f-11c66169699b",
   "metadata": {},
   "outputs": [],
   "source": [
    "mlp2 = \"(7, 8)\""
   ]
  },
  {
   "cell_type": "code",
   "execution_count": 9,
   "id": "8a708e3e-98e1-48e2-bf19-f8eeae26c6fb",
   "metadata": {},
   "outputs": [
    {
     "data": {
      "text/plain": [
       "{'(8)': [0.777952138092672, 0.5994696365792517, 0.6242460855415174],\n",
       " '(14)': [0.7069571587301429, 0.6534246122067761, 0.6865488519223463],\n",
       " '(15)': [0.7367704351837503, 0.6634691010889859, 0.6950022997435773],\n",
       " '(16)': [0.6485927814411426, 0.6817882864083062, 0.6465368452712326],\n",
       " '(7, 8)': [0.7094545664617159, 0.6233536718497168, 0.6773116700857484]}"
      ]
     },
     "execution_count": 9,
     "metadata": {},
     "output_type": "execute_result"
    }
   ],
   "source": [
    "f1_score = [f1 for f1 in df_mlp2[\"Test F1 Weightet\"].loc[df_mlp2[\"Architectures\"] == mlp2]]\n",
    "metrics[mlp2] = f1_score\n",
    "\n",
    "metrics"
   ]
  },
  {
   "cell_type": "markdown",
   "id": "2789fa57-9eed-49bd-8bf6-8a4bf353fde9",
   "metadata": {},
   "source": [
    "### 1.3. CNNs"
   ]
  },
  {
   "cell_type": "code",
   "execution_count": 10,
   "id": "e4978033-8d22-432e-ac5d-78cae0b45bc1",
   "metadata": {},
   "outputs": [],
   "source": [
    "df_cnns = pd.read_csv(f\"{PATH_CNN_METRICS}/metrics_experiments_CNNs.csv\")"
   ]
  },
  {
   "cell_type": "code",
   "execution_count": 11,
   "id": "a90ddc77-152e-42a4-831e-242b4dea5e0f",
   "metadata": {},
   "outputs": [],
   "source": [
    "cnns = [\"MobileNetV2\", \"ShuffleNet\", \"InceptionV3\", \"VGG-16\", \"EfficientNetV2S\"]"
   ]
  },
  {
   "cell_type": "code",
   "execution_count": 12,
   "id": "fb5e61e3-1640-479c-b44f-be8d13f701c9",
   "metadata": {},
   "outputs": [
    {
     "data": {
      "text/plain": [
       "{'(8)': [0.777952138092672, 0.5994696365792517, 0.6242460855415174],\n",
       " '(14)': [0.7069571587301429, 0.6534246122067761, 0.6865488519223463],\n",
       " '(15)': [0.7367704351837503, 0.6634691010889859, 0.6950022997435773],\n",
       " '(16)': [0.6485927814411426, 0.6817882864083062, 0.6465368452712326],\n",
       " '(7, 8)': [0.7094545664617159, 0.6233536718497168, 0.6773116700857484],\n",
       " 'MobileNetV2': [0.0355011316120248, 0.0355011316120248, 0.1587363798970223],\n",
       " 'ShuffleNet': [0.9997722683163636, 0.9996585922009062, 0.9991463383638444],\n",
       " 'InceptionV3': [0.9989751807530828, 0.9996013761898124, 0.99834804106077],\n",
       " 'VGG-16': [0.9984606334762623, 0.9976588961362228, 0.9999430832722312],\n",
       " 'EfficientNetV2S': [0.997493234030104, 0.999032382554556, 0.9997722928158996]}"
      ]
     },
     "execution_count": 12,
     "metadata": {},
     "output_type": "execute_result"
    }
   ],
   "source": [
    "for architecture in cnns:\n",
    "    f1_score = [f1 for f1 in df_cnns[\"Test F1 Weightet\"].loc[df_cnns[\"Architectures\"] == architecture]]\n",
    "    metrics[architecture] = f1_score\n",
    "\n",
    "metrics"
   ]
  },
  {
   "cell_type": "markdown",
   "id": "a1b7e09b-9e88-4ed7-ac2c-6c2ba486ef88",
   "metadata": {},
   "source": [
    "## 2. Plotting model metrics graph"
   ]
  },
  {
   "cell_type": "code",
   "execution_count": 13,
   "id": "bdf202d6-b63f-4af7-a381-19f050a254c9",
   "metadata": {},
   "outputs": [
    {
     "data": {
      "image/png": "[encoded data removed]",
      "text/plain": [
       "<Figure size 1800x500 with 1 Axes>"
      ]
     },
     "metadata": {},
     "output_type": "display_data"
    }
   ],
   "source": [
    "colors = {\"Traditional\": 'g', \"Contemporary\": 'b'}\n",
    "\n",
    "plt.figure(figsize=(18, 5))\n",
    "for i, (architecture, metric) in enumerate(metrics.items()):\n",
    "    color = list(colors.values())[i // 5]\n",
    "    plt.scatter([architecture] * 3, metric, marker='^', color=color, s=100)\n",
    "\n",
    "for key in colors.keys():\n",
    "    plt.scatter([], [], color=colors[key], label=key)\n",
    "\n",
    "f1_min = min(min(f1) for f1 in metrics.values())\n",
    "f1_max = max(max(f1) for f1 in metrics.values())\n",
    "yticks = np.linspace(f1_min, f1_max, 10)\n",
    "\n",
    "plt.yticks(yticks)\n",
    "plt.ylabel(\"F1 Score\") \n",
    "plt.legend(title=\"Approaches\")\n",
    "plt.tight_layout()\n",
    "plt.savefig(\"./graphics/model_metrics_graph.jpg\")\n",
    "\n",
    "plt.show()"
   ]
  }
 ],
 "metadata": {
  "kernelspec": {
   "display_name": "Python 3 (ipykernel)",
   "language": "python",
   "name": "python3"
  },
  "language_info": {
   "codemirror_mode": {
    "name": "ipython",
    "version": 3
   },
   "file_extension": ".py",
   "mimetype": "text/x-python",
   "name": "python",
   "nbconvert_exporter": "python",
   "pygments_lexer": "ipython3",
   "version": "3.10.6"
  }
 },
 "nbformat": 4,
 "nbformat_minor": 5
}
