{
 "cells": [
  {
   "cell_type": "markdown",
   "id": "a64cf3ca-9b08-4abe-bae1-02003cf4da7c",
   "metadata": {},
   "source": [
    "# DataFrames Formatting - JMUBEN Dataset"
   ]
  },
  {
   "cell_type": "code",
   "execution_count": 1,
   "id": "14c59b2e-25e8-421c-bc1e-2736201c1811",
   "metadata": {},
   "outputs": [],
   "source": [
    "import pandas as pd\n",
    "import numpy as np\n",
    "from datetime import datetime, timedelta"
   ]
  },
  {
   "cell_type": "code",
   "execution_count": 2,
   "id": "d2d6add3-6646-46e4-ad92-f936d8dfcad6",
   "metadata": {},
   "outputs": [],
   "source": [
    "import warnings\n",
    "warnings.filterwarnings(\"ignore\")"
   ]
  },
  {
   "cell_type": "code",
   "execution_count": 3,
   "id": "352bb347-19ba-4322-8aa0-1350b256a0d0",
   "metadata": {},
   "outputs": [],
   "source": [
    "PATH_EVALUATIONS = \"./evaluations\"\n",
    "PATH_MLP_METRICS = PATH_EVALUATIONS + \"/RNAs-MLP\"\n",
    "PATH_CNN_METRICS = PATH_EVALUATIONS + \"/CNNs\"\n",
    "PATH_MLP_1HL = PATH_MLP_METRICS + \"/metrics_mlp_1hl_experiments.csv\"\n",
    "PATH_MLP_2HL = PATH_MLP_METRICS + \"/metrics_mlp_2hl_experiments.csv\""
   ]
  },
  {
   "cell_type": "markdown",
   "id": "e34286e3-aa4d-4ed9-a0fc-991a8afc9382",
   "metadata": {},
   "source": [
    "## 1. RNAs MLP dataframes"
   ]
  },
  {
   "cell_type": "markdown",
   "id": "485a2e54-db0e-430b-829c-fb77021e9c37",
   "metadata": {},
   "source": [
    "### 1.1. Opening dataframes"
   ]
  },
  {
   "cell_type": "markdown",
   "id": "30633dfb-d1d9-4bf0-b9ca-7fc86634d47b",
   "metadata": {},
   "source": [
    "#### MLP One Hidden Layer"
   ]
  },
  {
   "cell_type": "code",
   "execution_count": 4,
   "id": "187c01aa-a250-440f-94c2-bf8485e8ec7c",
   "metadata": {},
   "outputs": [
    {
     "data": {
      "text/html": [
       "<div>\n",
       "<style scoped>\n",
       "    .dataframe tbody tr th:only-of-type {\n",
       "        vertical-align: middle;\n",
       "    }\n",
       "\n",
       "    .dataframe tbody tr th {\n",
       "        vertical-align: top;\n",
       "    }\n",
       "\n",
       "    .dataframe thead th {\n",
       "        text-align: right;\n",
       "    }\n",
       "</style>\n",
       "<table border=\"1\" class=\"dataframe\">\n",
       "  <thead>\n",
       "    <tr style=\"text-align: right;\">\n",
       "      <th></th>\n",
       "      <th>Experiment</th>\n",
       "      <th>Architectures</th>\n",
       "      <th>Total Params</th>\n",
       "      <th>GFLOPS</th>\n",
       "      <th>Training Time (sec)</th>\n",
       "      <th>Test Accuracy</th>\n",
       "      <th>Test F1 Weightet</th>\n",
       "      <th>Test Precision Weighted</th>\n",
       "      <th>Test Recall Weighted</th>\n",
       "    </tr>\n",
       "  </thead>\n",
       "  <tbody>\n",
       "    <tr>\n",
       "      <th>0</th>\n",
       "      <td>1</td>\n",
       "      <td>4</td>\n",
       "      <td>81</td>\n",
       "      <td>8.002895e-08</td>\n",
       "      <td>1.799349</td>\n",
       "      <td>0.615485</td>\n",
       "      <td>0.525966</td>\n",
       "      <td>0.585156</td>\n",
       "      <td>0.615485</td>\n",
       "    </tr>\n",
       "    <tr>\n",
       "      <th>1</th>\n",
       "      <td>1</td>\n",
       "      <td>5</td>\n",
       "      <td>100</td>\n",
       "      <td>9.401882e-08</td>\n",
       "      <td>1.914510</td>\n",
       "      <td>0.667464</td>\n",
       "      <td>0.626959</td>\n",
       "      <td>0.619255</td>\n",
       "      <td>0.667464</td>\n",
       "    </tr>\n",
       "    <tr>\n",
       "      <th>2</th>\n",
       "      <td>1</td>\n",
       "      <td>6</td>\n",
       "      <td>119</td>\n",
       "      <td>2.995345e-07</td>\n",
       "      <td>0.721119</td>\n",
       "      <td>0.351039</td>\n",
       "      <td>0.314196</td>\n",
       "      <td>0.285170</td>\n",
       "      <td>0.351039</td>\n",
       "    </tr>\n",
       "    <tr>\n",
       "      <th>3</th>\n",
       "      <td>1</td>\n",
       "      <td>7</td>\n",
       "      <td>138</td>\n",
       "      <td>2.538573e-07</td>\n",
       "      <td>0.992684</td>\n",
       "      <td>0.595901</td>\n",
       "      <td>0.528823</td>\n",
       "      <td>0.506131</td>\n",
       "      <td>0.595901</td>\n",
       "    </tr>\n",
       "    <tr>\n",
       "      <th>4</th>\n",
       "      <td>1</td>\n",
       "      <td>8</td>\n",
       "      <td>157</td>\n",
       "      <td>7.266233e-08</td>\n",
       "      <td>3.963539</td>\n",
       "      <td>0.793567</td>\n",
       "      <td>0.777952</td>\n",
       "      <td>0.786391</td>\n",
       "      <td>0.793567</td>\n",
       "    </tr>\n",
       "  </tbody>\n",
       "</table>\n",
       "</div>"
      ],
      "text/plain": [
       "   Experiment  Architectures  Total Params        GFLOPS  Training Time (sec)  \\\n",
       "0           1              4            81  8.002895e-08             1.799349   \n",
       "1           1              5           100  9.401882e-08             1.914510   \n",
       "2           1              6           119  2.995345e-07             0.721119   \n",
       "3           1              7           138  2.538573e-07             0.992684   \n",
       "4           1              8           157  7.266233e-08             3.963539   \n",
       "\n",
       "   Test Accuracy  Test F1 Weightet  Test Precision Weighted  \\\n",
       "0       0.615485          0.525966                 0.585156   \n",
       "1       0.667464          0.626959                 0.619255   \n",
       "2       0.351039          0.314196                 0.285170   \n",
       "3       0.595901          0.528823                 0.506131   \n",
       "4       0.793567          0.777952                 0.786391   \n",
       "\n",
       "   Test Recall Weighted  \n",
       "0              0.615485  \n",
       "1              0.667464  \n",
       "2              0.351039  \n",
       "3              0.595901  \n",
       "4              0.793567  "
      ]
     },
     "execution_count": 4,
     "metadata": {},
     "output_type": "execute_result"
    }
   ],
   "source": [
    "df_mlp_1hl = pd.read_csv(PATH_MLP_1HL)\n",
    "df_mlp_1hl.head()"
   ]
  },
  {
   "cell_type": "markdown",
   "id": "2d5d7b1b-54bf-46c3-bf43-86eb9c307849",
   "metadata": {},
   "source": [
    "#### MLP Two Hidden Layer"
   ]
  },
  {
   "cell_type": "code",
   "execution_count": 5,
   "id": "16113239-b763-42d4-bd37-7b621ce1e3df",
   "metadata": {},
   "outputs": [
    {
     "data": {
      "text/html": [
       "<div>\n",
       "<style scoped>\n",
       "    .dataframe tbody tr th:only-of-type {\n",
       "        vertical-align: middle;\n",
       "    }\n",
       "\n",
       "    .dataframe tbody tr th {\n",
       "        vertical-align: top;\n",
       "    }\n",
       "\n",
       "    .dataframe thead th {\n",
       "        text-align: right;\n",
       "    }\n",
       "</style>\n",
       "<table border=\"1\" class=\"dataframe\">\n",
       "  <thead>\n",
       "    <tr style=\"text-align: right;\">\n",
       "      <th></th>\n",
       "      <th>Experiment</th>\n",
       "      <th>Architectures</th>\n",
       "      <th>Total Params</th>\n",
       "      <th>GFLOPS</th>\n",
       "      <th>Training Time (sec)</th>\n",
       "      <th>Test Accuracy</th>\n",
       "      <th>Test F1 Weightet</th>\n",
       "      <th>Test Precision Weighted</th>\n",
       "      <th>Test Recall Weighted</th>\n",
       "    </tr>\n",
       "  </thead>\n",
       "  <tbody>\n",
       "    <tr>\n",
       "      <th>0</th>\n",
       "      <td>1</td>\n",
       "      <td>(1, 14)</td>\n",
       "      <td>117</td>\n",
       "      <td>1.847504e-07</td>\n",
       "      <td>1.050065</td>\n",
       "      <td>0.320068</td>\n",
       "      <td>0.155210</td>\n",
       "      <td>0.102444</td>\n",
       "      <td>0.320068</td>\n",
       "    </tr>\n",
       "    <tr>\n",
       "      <th>1</th>\n",
       "      <td>1</td>\n",
       "      <td>(2, 13)</td>\n",
       "      <td>137</td>\n",
       "      <td>4.619214e-08</td>\n",
       "      <td>5.065797</td>\n",
       "      <td>0.659266</td>\n",
       "      <td>0.567173</td>\n",
       "      <td>0.544528</td>\n",
       "      <td>0.659266</td>\n",
       "    </tr>\n",
       "    <tr>\n",
       "      <th>2</th>\n",
       "      <td>1</td>\n",
       "      <td>(3, 12)</td>\n",
       "      <td>155</td>\n",
       "      <td>2.019025e-07</td>\n",
       "      <td>1.337279</td>\n",
       "      <td>0.573185</td>\n",
       "      <td>0.485153</td>\n",
       "      <td>0.455116</td>\n",
       "      <td>0.573185</td>\n",
       "    </tr>\n",
       "    <tr>\n",
       "      <th>3</th>\n",
       "      <td>1</td>\n",
       "      <td>(4, 11)</td>\n",
       "      <td>171</td>\n",
       "      <td>1.465804e-07</td>\n",
       "      <td>2.060303</td>\n",
       "      <td>0.640307</td>\n",
       "      <td>0.593800</td>\n",
       "      <td>0.555253</td>\n",
       "      <td>0.640307</td>\n",
       "    </tr>\n",
       "    <tr>\n",
       "      <th>4</th>\n",
       "      <td>1</td>\n",
       "      <td>(5, 10)</td>\n",
       "      <td>185</td>\n",
       "      <td>1.245983e-07</td>\n",
       "      <td>2.648510</td>\n",
       "      <td>0.614062</td>\n",
       "      <td>0.509854</td>\n",
       "      <td>0.632787</td>\n",
       "      <td>0.614062</td>\n",
       "    </tr>\n",
       "  </tbody>\n",
       "</table>\n",
       "</div>"
      ],
      "text/plain": [
       "   Experiment Architectures  Total Params        GFLOPS  Training Time (sec)  \\\n",
       "0           1       (1, 14)           117  1.847504e-07             1.050065   \n",
       "1           1       (2, 13)           137  4.619214e-08             5.065797   \n",
       "2           1       (3, 12)           155  2.019025e-07             1.337279   \n",
       "3           1       (4, 11)           171  1.465804e-07             2.060303   \n",
       "4           1       (5, 10)           185  1.245983e-07             2.648510   \n",
       "\n",
       "   Test Accuracy  Test F1 Weightet  Test Precision Weighted  \\\n",
       "0       0.320068          0.155210                 0.102444   \n",
       "1       0.659266          0.567173                 0.544528   \n",
       "2       0.573185          0.485153                 0.455116   \n",
       "3       0.640307          0.593800                 0.555253   \n",
       "4       0.614062          0.509854                 0.632787   \n",
       "\n",
       "   Test Recall Weighted  \n",
       "0              0.320068  \n",
       "1              0.659266  \n",
       "2              0.573185  \n",
       "3              0.640307  \n",
       "4              0.614062  "
      ]
     },
     "execution_count": 5,
     "metadata": {},
     "output_type": "execute_result"
    }
   ],
   "source": [
    "df_mlp_2hl = pd.read_csv(PATH_MLP_2HL)\n",
    "df_mlp_2hl.head()"
   ]
  },
  {
   "cell_type": "markdown",
   "id": "dfd59898-577b-4ddd-89cb-813e9f22a4c6",
   "metadata": {},
   "source": [
    "### 1.2. Selecting unique architectures"
   ]
  },
  {
   "cell_type": "markdown",
   "id": "c2b079e2-b2a5-4f6c-a548-ae63aa0318da",
   "metadata": {},
   "source": [
    "#### Architectures from each dataframe"
   ]
  },
  {
   "cell_type": "code",
   "execution_count": 6,
   "id": "66f96a4d-152a-4e80-80f8-be79060f84ee",
   "metadata": {},
   "outputs": [],
   "source": [
    "mlp_1hl_architectures = [str(architecture) for architecture in df_mlp_1hl[\"Architectures\"].unique()]\n",
    "mlp_2hl_architectures = [architecture for architecture in df_mlp_2hl[\"Architectures\"].unique()]"
   ]
  },
  {
   "cell_type": "markdown",
   "id": "3e8d66c5-7c98-4976-9a94-92286c8cb165",
   "metadata": {},
   "source": [
    "#### All architectures ordered"
   ]
  },
  {
   "cell_type": "code",
   "execution_count": 7,
   "id": "fb74ce68-731d-4e70-aa68-ca8f80dd2f47",
   "metadata": {
    "collapsed": true,
    "jupyter": {
     "outputs_hidden": true
    },
    "tags": []
   },
   "outputs": [
    {
     "data": {
      "text/plain": [
       "['4',\n",
       " '5',\n",
       " '6',\n",
       " '7',\n",
       " '8',\n",
       " '9',\n",
       " '10',\n",
       " '11',\n",
       " '12',\n",
       " '13',\n",
       " '14',\n",
       " '15',\n",
       " '16',\n",
       " '(1, 5)',\n",
       " '(2, 4)',\n",
       " '(3, 3)',\n",
       " '(4, 2)',\n",
       " '(5, 1)',\n",
       " '(1, 6)',\n",
       " '(2, 5)',\n",
       " '(3, 4)',\n",
       " '(4, 3)',\n",
       " '(5, 2)',\n",
       " '(6, 1)',\n",
       " '(1, 12)',\n",
       " '(2, 11)',\n",
       " '(3, 10)',\n",
       " '(4, 9)',\n",
       " '(5, 8)',\n",
       " '(6, 7)',\n",
       " '(7, 6)',\n",
       " '(8, 5)',\n",
       " '(9, 4)',\n",
       " '(10, 3)',\n",
       " '(11, 2)',\n",
       " '(12, 1)',\n",
       " '(2, 13)',\n",
       " '(3, 12)',\n",
       " '(4, 11)',\n",
       " '(5, 10)',\n",
       " '(6, 9)',\n",
       " '(7, 8)',\n",
       " '(8, 7)',\n",
       " '(9, 6)',\n",
       " '(10, 5)',\n",
       " '(11, 4)',\n",
       " '(12, 3)',\n",
       " '(13, 2)',\n",
       " '(14, 1)']"
      ]
     },
     "execution_count": 7,
     "metadata": {},
     "output_type": "execute_result"
    }
   ],
   "source": [
    "architectures = mlp_1hl_architectures + mlp_2hl_architectures\n",
    "architectures = architectures[:13] + architectures[-5:] + architectures[27:-5] + architectures[14:27]\n",
    "architectures"
   ]
  },
  {
   "cell_type": "markdown",
   "id": "124b70d6-78f8-4f58-a17d-52d87f084e89",
   "metadata": {},
   "source": [
    "### 1.3. Define columns and index"
   ]
  },
  {
   "cell_type": "code",
   "execution_count": 8,
   "id": "2aa3ed32-1177-48b3-96c7-fe59374939ad",
   "metadata": {},
   "outputs": [
    {
     "data": {
      "text/plain": [
       "Index(['Architectures', 'Total Params', 'GFLOPS', 'Training Time (sec)',\n",
       "       'Test Accuracy', 'Test F1 Weightet', 'Test Precision Weighted',\n",
       "       'Test Recall Weighted'],\n",
       "      dtype='object')"
      ]
     },
     "execution_count": 8,
     "metadata": {},
     "output_type": "execute_result"
    }
   ],
   "source": [
    "columns = df_mlp_2hl.columns[1:]\n",
    "columns"
   ]
  },
  {
   "cell_type": "code",
   "execution_count": 9,
   "id": "77743f7a-bc7d-4629-b0f6-d451756d344e",
   "metadata": {},
   "outputs": [],
   "source": [
    "index = [i for i in range(1, len(architectures)+1)]"
   ]
  },
  {
   "cell_type": "markdown",
   "id": "f0d92cba-170f-4af5-97a9-2c49cd1e854f",
   "metadata": {},
   "source": [
    "### 1.4. Saving all metrics in a general dataframe"
   ]
  },
  {
   "cell_type": "code",
   "execution_count": 10,
   "id": "27861ec3-62e2-42cc-b3d8-3ed29e3c2a99",
   "metadata": {},
   "outputs": [],
   "source": [
    "df_mlp = pd.DataFrame(columns=columns, index=index)\n",
    "df_mlp[\"Architectures\"] = architectures"
   ]
  },
  {
   "cell_type": "code",
   "execution_count": 11,
   "id": "f2790f10-a10d-4edc-910b-6ff5a19dcbcc",
   "metadata": {},
   "outputs": [],
   "source": [
    "different_format_columns = [\"Total Params\", \"GFLOPS\", \"Training Time (sec)\"]"
   ]
  },
  {
   "cell_type": "code",
   "execution_count": 12,
   "id": "199ef610-7f5d-46ea-8c89-0d41e3349931",
   "metadata": {},
   "outputs": [],
   "source": [
    "for architecture in architectures:\n",
    "    data = pd.DataFrame()\n",
    "    \n",
    "    if '(' in architecture:\n",
    "        data = df_mlp_2hl.loc[df_mlp_2hl[\"Architectures\"] == architecture]\n",
    "    else:\n",
    "        data = df_mlp_1hl.loc[df_mlp_1hl[\"Architectures\"] == int(architecture)]\n",
    "    \n",
    "    for column in columns:\n",
    "        av_metric, std_metric = float(), float()\n",
    "        \n",
    "        if column in different_format_columns:\n",
    "            if column == \"Total Params\":\n",
    "                df_mlp[column].loc[df_mlp[\"Architectures\"] == architecture] = data[\"Total Params\"].unique()[0]\n",
    "            else:\n",
    "                if column == \"GFLOPS\":\n",
    "                    av_metric = data[column].mean()\n",
    "                    std_metric = data[column].std()\n",
    "                else:\n",
    "                    av_metric = int(round(data[\"Training Time (sec)\"].mean(), 0))\n",
    "                    std_metric = int(round(data[\"Training Time (sec)\"].std(), 0))\n",
    "                \n",
    "                df_mlp[column].loc[df_mlp[\"Architectures\"] == architecture] = f\"{av_metric} ± {std_metric}\"\n",
    "                \n",
    "        elif column != \"Architectures\":\n",
    "            av_metric = round(data[column].mean(), 6)\n",
    "            std_metric = round(data[column].std(), 6)\n",
    "            df_mlp[column].loc[df_mlp[\"Architectures\"] == architecture] = f\"{av_metric} ± {std_metric}\""
   ]
  },
  {
   "cell_type": "code",
   "execution_count": 13,
   "id": "0d1c33ab-d729-4256-8d00-2679b35c6f15",
   "metadata": {},
   "outputs": [],
   "source": [
    "df_mlp.to_csv(PATH_EVALUATIONS + \"/metrics_MLPs.csv\", header=True, index=False)"
   ]
  },
  {
   "cell_type": "markdown",
   "id": "10b523cd-1204-42c9-b129-b30507e006b6",
   "metadata": {},
   "source": [
    "### 1.5. Show the five best architectures"
   ]
  },
  {
   "cell_type": "code",
   "execution_count": 14,
   "id": "2fb4a809-5c16-4f49-a57f-36ec5cea5c9a",
   "metadata": {},
   "outputs": [
    {
     "data": {
      "text/html": [
       "<div>\n",
       "<style scoped>\n",
       "    .dataframe tbody tr th:only-of-type {\n",
       "        vertical-align: middle;\n",
       "    }\n",
       "\n",
       "    .dataframe tbody tr th {\n",
       "        vertical-align: top;\n",
       "    }\n",
       "\n",
       "    .dataframe thead th {\n",
       "        text-align: right;\n",
       "    }\n",
       "</style>\n",
       "<table border=\"1\" class=\"dataframe\">\n",
       "  <thead>\n",
       "    <tr style=\"text-align: right;\">\n",
       "      <th></th>\n",
       "      <th>Architectures</th>\n",
       "      <th>Total Params</th>\n",
       "      <th>GFLOPS</th>\n",
       "      <th>Training Time (sec)</th>\n",
       "      <th>Test Accuracy</th>\n",
       "      <th>Test F1 Weightet</th>\n",
       "      <th>Test Precision Weighted</th>\n",
       "      <th>Test Recall Weighted</th>\n",
       "    </tr>\n",
       "  </thead>\n",
       "  <tbody>\n",
       "    <tr>\n",
       "      <th>0</th>\n",
       "      <td>15</td>\n",
       "      <td>290</td>\n",
       "      <td>2.780355860883663e-07 ± 1.7413986951987645e-07</td>\n",
       "      <td>3 ± 2</td>\n",
       "      <td>0.728077 ± 0.025813</td>\n",
       "      <td>0.698414 ± 0.03677</td>\n",
       "      <td>0.692724 ± 0.04219</td>\n",
       "      <td>0.728077 ± 0.025813</td>\n",
       "    </tr>\n",
       "    <tr>\n",
       "      <th>1</th>\n",
       "      <td>14</td>\n",
       "      <td>271</td>\n",
       "      <td>2.910999226461182e-07 ± 6.834120478949927e-08</td>\n",
       "      <td>2 ± 0</td>\n",
       "      <td>0.732935 ± 0.02357</td>\n",
       "      <td>0.68231 ± 0.027017</td>\n",
       "      <td>0.712799 ± 0.075761</td>\n",
       "      <td>0.732935 ± 0.02357</td>\n",
       "    </tr>\n",
       "    <tr>\n",
       "      <th>2</th>\n",
       "      <td>(7, 8)</td>\n",
       "      <td>207</td>\n",
       "      <td>1.318518990171966e-07 ± 1.0148747854794735e-07</td>\n",
       "      <td>4 ± 3</td>\n",
       "      <td>0.716823 ± 0.040743</td>\n",
       "      <td>0.67004 ± 0.043509</td>\n",
       "      <td>0.675844 ± 0.079326</td>\n",
       "      <td>0.716823 ± 0.040743</td>\n",
       "    </tr>\n",
       "    <tr>\n",
       "      <th>3</th>\n",
       "      <td>8</td>\n",
       "      <td>157</td>\n",
       "      <td>1.3081954646788009e-07 ± 5.189400670601304e-08</td>\n",
       "      <td>3 ± 1</td>\n",
       "      <td>0.722384 ± 0.061917</td>\n",
       "      <td>0.667223 ± 0.096691</td>\n",
       "      <td>0.668651 ± 0.105625</td>\n",
       "      <td>0.722384 ± 0.061917</td>\n",
       "    </tr>\n",
       "    <tr>\n",
       "      <th>4</th>\n",
       "      <td>16</td>\n",
       "      <td>309</td>\n",
       "      <td>2.7509807505306383e-07 ± 1.9293745513091e-08</td>\n",
       "      <td>2 ± 0</td>\n",
       "      <td>0.723617 ± 0.014291</td>\n",
       "      <td>0.658973 ± 0.019786</td>\n",
       "      <td>0.682832 ± 0.037071</td>\n",
       "      <td>0.723617 ± 0.014291</td>\n",
       "    </tr>\n",
       "  </tbody>\n",
       "</table>\n",
       "</div>"
      ],
      "text/plain": [
       "  Architectures Total Params                                          GFLOPS  \\\n",
       "0            15          290  2.780355860883663e-07 ± 1.7413986951987645e-07   \n",
       "1            14          271   2.910999226461182e-07 ± 6.834120478949927e-08   \n",
       "2        (7, 8)          207  1.318518990171966e-07 ± 1.0148747854794735e-07   \n",
       "3             8          157  1.3081954646788009e-07 ± 5.189400670601304e-08   \n",
       "4            16          309    2.7509807505306383e-07 ± 1.9293745513091e-08   \n",
       "\n",
       "  Training Time (sec)        Test Accuracy     Test F1 Weightet  \\\n",
       "0               3 ± 2  0.728077 ± 0.025813   0.698414 ± 0.03677   \n",
       "1               2 ± 0   0.732935 ± 0.02357   0.68231 ± 0.027017   \n",
       "2               4 ± 3  0.716823 ± 0.040743   0.67004 ± 0.043509   \n",
       "3               3 ± 1  0.722384 ± 0.061917  0.667223 ± 0.096691   \n",
       "4               2 ± 0  0.723617 ± 0.014291  0.658973 ± 0.019786   \n",
       "\n",
       "  Test Precision Weighted Test Recall Weighted  \n",
       "0      0.692724 ± 0.04219  0.728077 ± 0.025813  \n",
       "1     0.712799 ± 0.075761   0.732935 ± 0.02357  \n",
       "2     0.675844 ± 0.079326  0.716823 ± 0.040743  \n",
       "3     0.668651 ± 0.105625  0.722384 ± 0.061917  \n",
       "4     0.682832 ± 0.037071  0.723617 ± 0.014291  "
      ]
     },
     "execution_count": 14,
     "metadata": {},
     "output_type": "execute_result"
    }
   ],
   "source": [
    "df_mlp = df_mlp.sort_values(\"Test F1 Weightet\", ascending=False, ignore_index=True)\n",
    "df_mlp.head()"
   ]
  },
  {
   "cell_type": "markdown",
   "id": "9eab177f-96a5-4da2-8eed-b95e3dc7da5e",
   "metadata": {
    "tags": []
   },
   "source": [
    "## 2. CNNs dataframes"
   ]
  },
  {
   "cell_type": "markdown",
   "id": "945bbcf3-0252-4307-be4a-6b3e72762a92",
   "metadata": {},
   "source": [
    "### 2.1. Define architectures"
   ]
  },
  {
   "cell_type": "code",
   "execution_count": 15,
   "id": "e1989b41-6ba5-4665-9a94-2e37062c1d91",
   "metadata": {},
   "outputs": [],
   "source": [
    "architectures = [\"MobileNetV2\", \"ShuffleNet\", \"VGG-16\", \"InceptionV3\", \"EfficientNetV2S\"]"
   ]
  },
  {
   "cell_type": "markdown",
   "id": "e5ef2641-6aa4-4afe-92c3-8c2b8f60b4b2",
   "metadata": {},
   "source": [
    "### 2.2. Saving all experiment metrics in one dataframe"
   ]
  },
  {
   "cell_type": "code",
   "execution_count": 16,
   "id": "8b7512a5-4920-4a4f-849d-3871466174cb",
   "metadata": {},
   "outputs": [],
   "source": [
    "df_cnn_experiments = pd.read_csv(f\"{PATH_CNN_METRICS}/{architectures[0]}/metrics_{architectures[0]}.csv\")\n",
    "df_cnn_experiments.insert(0, \"Architectures\", architectures[0])"
   ]
  },
  {
   "cell_type": "code",
   "execution_count": 17,
   "id": "1226b9a2-c7ef-452c-bd4b-1ca54cf97568",
   "metadata": {},
   "outputs": [],
   "source": [
    "for i in range(1, len(architectures)):\n",
    "    df_temp = pd.read_csv(f\"{PATH_CNN_METRICS}/{architectures[i]}/metrics_{architectures[i]}.csv\")\n",
    "    df_new = df_cnn_experiments.append(df_temp, ignore_index=True)\n",
    "    \n",
    "    for j in range(len(df_temp)):\n",
    "        df_new.loc[len(df_cnn_experiments)+j, \"Architectures\"] = architectures[i]\n",
    "    \n",
    "    df_cnn_experiments = df_new\n",
    "    \n",
    "df_cnn_experiments.to_csv(f\"{PATH_CNN_METRICS}/metrics_experiments_CNNs.csv\", index=False)"
   ]
  },
  {
   "cell_type": "code",
   "execution_count": 18,
   "id": "51b3e5fd-cc5e-42af-9bb1-da79fdfe1e49",
   "metadata": {},
   "outputs": [
    {
     "data": {
      "text/html": [
       "<div>\n",
       "<style scoped>\n",
       "    .dataframe tbody tr th:only-of-type {\n",
       "        vertical-align: middle;\n",
       "    }\n",
       "\n",
       "    .dataframe tbody tr th {\n",
       "        vertical-align: top;\n",
       "    }\n",
       "\n",
       "    .dataframe thead th {\n",
       "        text-align: right;\n",
       "    }\n",
       "</style>\n",
       "<table border=\"1\" class=\"dataframe\">\n",
       "  <thead>\n",
       "    <tr style=\"text-align: right;\">\n",
       "      <th></th>\n",
       "      <th>Architectures</th>\n",
       "      <th>Experiment</th>\n",
       "      <th>Total Params</th>\n",
       "      <th>GFLOPS</th>\n",
       "      <th>Epochs</th>\n",
       "      <th>Training Time (sec)</th>\n",
       "      <th>Test Accuracy</th>\n",
       "      <th>Test F1 Weightet</th>\n",
       "      <th>Test Precision Weighted</th>\n",
       "      <th>Test Recall Weighted</th>\n",
       "    </tr>\n",
       "  </thead>\n",
       "  <tbody>\n",
       "    <tr>\n",
       "      <th>0</th>\n",
       "      <td>MobileNetV2</td>\n",
       "      <td>1</td>\n",
       "      <td>2916421</td>\n",
       "      <td>0.002916</td>\n",
       "      <td>34</td>\n",
       "      <td>193.000553</td>\n",
       "      <td>0.142402</td>\n",
       "      <td>0.035501</td>\n",
       "      <td>0.020278</td>\n",
       "      <td>0.142402</td>\n",
       "    </tr>\n",
       "    <tr>\n",
       "      <th>1</th>\n",
       "      <td>MobileNetV2</td>\n",
       "      <td>2</td>\n",
       "      <td>2916421</td>\n",
       "      <td>0.120082</td>\n",
       "      <td>39</td>\n",
       "      <td>234.458109</td>\n",
       "      <td>0.142402</td>\n",
       "      <td>0.035501</td>\n",
       "      <td>0.020278</td>\n",
       "      <td>0.142402</td>\n",
       "    </tr>\n",
       "    <tr>\n",
       "      <th>2</th>\n",
       "      <td>MobileNetV2</td>\n",
       "      <td>3</td>\n",
       "      <td>2916421</td>\n",
       "      <td>0.237248</td>\n",
       "      <td>35</td>\n",
       "      <td>199.691904</td>\n",
       "      <td>0.324189</td>\n",
       "      <td>0.158736</td>\n",
       "      <td>0.105098</td>\n",
       "      <td>0.324189</td>\n",
       "    </tr>\n",
       "    <tr>\n",
       "      <th>3</th>\n",
       "      <td>ShuffleNet</td>\n",
       "      <td>1</td>\n",
       "      <td>1375525</td>\n",
       "      <td>0.004281</td>\n",
       "      <td>58</td>\n",
       "      <td>265.178504</td>\n",
       "      <td>0.999772</td>\n",
       "      <td>0.999772</td>\n",
       "      <td>0.999773</td>\n",
       "      <td>0.999772</td>\n",
       "    </tr>\n",
       "    <tr>\n",
       "      <th>4</th>\n",
       "      <td>ShuffleNet</td>\n",
       "      <td>2</td>\n",
       "      <td>1375525</td>\n",
       "      <td>0.121447</td>\n",
       "      <td>79</td>\n",
       "      <td>356.520217</td>\n",
       "      <td>0.999659</td>\n",
       "      <td>0.999659</td>\n",
       "      <td>0.999659</td>\n",
       "      <td>0.999659</td>\n",
       "    </tr>\n",
       "  </tbody>\n",
       "</table>\n",
       "</div>"
      ],
      "text/plain": [
       "  Architectures  Experiment  Total Params    GFLOPS  Epochs  \\\n",
       "0   MobileNetV2           1       2916421  0.002916      34   \n",
       "1   MobileNetV2           2       2916421  0.120082      39   \n",
       "2   MobileNetV2           3       2916421  0.237248      35   \n",
       "3    ShuffleNet           1       1375525  0.004281      58   \n",
       "4    ShuffleNet           2       1375525  0.121447      79   \n",
       "\n",
       "   Training Time (sec)  Test Accuracy  Test F1 Weightet  \\\n",
       "0           193.000553       0.142402          0.035501   \n",
       "1           234.458109       0.142402          0.035501   \n",
       "2           199.691904       0.324189          0.158736   \n",
       "3           265.178504       0.999772          0.999772   \n",
       "4           356.520217       0.999659          0.999659   \n",
       "\n",
       "   Test Precision Weighted  Test Recall Weighted  \n",
       "0                 0.020278              0.142402  \n",
       "1                 0.020278              0.142402  \n",
       "2                 0.105098              0.324189  \n",
       "3                 0.999773              0.999772  \n",
       "4                 0.999659              0.999659  "
      ]
     },
     "execution_count": 18,
     "metadata": {},
     "output_type": "execute_result"
    }
   ],
   "source": [
    "df_cnn_experiments.head()"
   ]
  },
  {
   "cell_type": "markdown",
   "id": "907e30b6-18bf-4e0d-82b6-189e0ec0258e",
   "metadata": {},
   "source": [
    "### 2.3. Define data to save in a general dataframe"
   ]
  },
  {
   "cell_type": "markdown",
   "id": "bdb0e7ab-5f80-4cfd-8f99-bfc2bc4069bd",
   "metadata": {},
   "source": [
    "#### Define columns and index"
   ]
  },
  {
   "cell_type": "code",
   "execution_count": 19,
   "id": "6997e0db-766f-4906-9a05-7d8af0f75914",
   "metadata": {},
   "outputs": [
    {
     "data": {
      "text/plain": [
       "['Architectures',\n",
       " 'Total Params',\n",
       " 'GFLOPS',\n",
       " 'Epochs',\n",
       " 'Training Time (sec)',\n",
       " 'Test Accuracy',\n",
       " 'Test F1 Weightet',\n",
       " 'Test Precision Weighted',\n",
       " 'Test Recall Weighted']"
      ]
     },
     "execution_count": 19,
     "metadata": {},
     "output_type": "execute_result"
    }
   ],
   "source": [
    "columns = list(df_cnn_experiments.columns)\n",
    "columns.remove(\"Experiment\")\n",
    "columns"
   ]
  },
  {
   "cell_type": "code",
   "execution_count": 20,
   "id": "23d53432-8068-410c-9ab8-122cf945f61e",
   "metadata": {},
   "outputs": [],
   "source": [
    "index = [i for i in range(1, 6)]"
   ]
  },
  {
   "cell_type": "markdown",
   "id": "c874a7cf-3ab6-422a-ab0d-2ce8103669c9",
   "metadata": {},
   "source": [
    "#### Saving all metrics"
   ]
  },
  {
   "cell_type": "code",
   "execution_count": 21,
   "id": "a8f07dbb-80b5-4e16-95c6-3640910b3999",
   "metadata": {},
   "outputs": [],
   "source": [
    "df_cnn = pd.DataFrame(columns=columns, index=index)\n",
    "df_cnn[\"Architectures\"] = architectures"
   ]
  },
  {
   "cell_type": "code",
   "execution_count": 22,
   "id": "b5cca668-2d74-4669-8fb4-4cee1ea0fb1d",
   "metadata": {},
   "outputs": [],
   "source": [
    "different_format_columns = [\"Total Params\", \"GFLOPS\", \"Epochs\", \"Training Time (sec)\"]"
   ]
  },
  {
   "cell_type": "code",
   "execution_count": 23,
   "id": "b003c384-4a15-4594-b2d5-dff441beb286",
   "metadata": {},
   "outputs": [],
   "source": [
    "for architecture in architectures:\n",
    "    data = df_cnn_experiments.loc[df_cnn_experiments[\"Architectures\"] == architecture] # pd.read_csv(f\"{PATH_CNN_METRICS}/{architecture}/metrics_{architecture}.csv\")\n",
    "    \n",
    "    for column in columns:\n",
    "        av_metric, std_metric = float(), float()\n",
    "        \n",
    "        if column in different_format_columns:\n",
    "            if column == \"Total Params\":\n",
    "                df_cnn[column].loc[df_cnn[\"Architectures\"] == architecture] = data[\"Total Params\"].unique()[0]\n",
    "            else:\n",
    "                if column == \"GFLOPS\":\n",
    "                    av_metric = data[column].mean()\n",
    "                    std_metric = data[column].std()\n",
    "                elif column == \"Epochs\":\n",
    "                    av_metric = int(data[column].mean())\n",
    "                    std_metric = int(data[column].std())\n",
    "                else:\n",
    "                    av_metric = int(round(data[\"Training Time (sec)\"].mean(), 0))\n",
    "                    std_metric = int(round(data[\"Training Time (sec)\"].std(), 0))\n",
    "                \n",
    "                df_cnn[column].loc[df_cnn[\"Architectures\"] == architecture] = f\"{av_metric} ± {std_metric}\"\n",
    "                \n",
    "        elif column != \"Architectures\":\n",
    "            av_metric = round(data[column].mean(), 6)\n",
    "            std_metric = round(data[column].std(), 6)\n",
    "            df_cnn[column].loc[df_cnn[\"Architectures\"] == architecture] = f\"{av_metric} ± {std_metric}\""
   ]
  },
  {
   "cell_type": "code",
   "execution_count": 24,
   "id": "a4395ae7-1065-4e32-876b-689d84400882",
   "metadata": {},
   "outputs": [],
   "source": [
    "df_cnn.to_csv(PATH_EVALUATIONS + \"/metrics_CNNs.csv\", header=True, index=False)"
   ]
  },
  {
   "cell_type": "markdown",
   "id": "1c4dd717-41cc-4742-9763-58d30dd44797",
   "metadata": {},
   "source": [
    "#### Show the best architectures"
   ]
  },
  {
   "cell_type": "code",
   "execution_count": 25,
   "id": "83596a94-9096-42ce-8988-b1e7cc361d43",
   "metadata": {},
   "outputs": [
    {
     "data": {
      "text/html": [
       "<div>\n",
       "<style scoped>\n",
       "    .dataframe tbody tr th:only-of-type {\n",
       "        vertical-align: middle;\n",
       "    }\n",
       "\n",
       "    .dataframe tbody tr th {\n",
       "        vertical-align: top;\n",
       "    }\n",
       "\n",
       "    .dataframe thead th {\n",
       "        text-align: right;\n",
       "    }\n",
       "</style>\n",
       "<table border=\"1\" class=\"dataframe\">\n",
       "  <thead>\n",
       "    <tr style=\"text-align: right;\">\n",
       "      <th></th>\n",
       "      <th>Architectures</th>\n",
       "      <th>Total Params</th>\n",
       "      <th>GFLOPS</th>\n",
       "      <th>Epochs</th>\n",
       "      <th>Training Time (sec)</th>\n",
       "      <th>Test Accuracy</th>\n",
       "      <th>Test F1 Weightet</th>\n",
       "      <th>Test Precision Weighted</th>\n",
       "      <th>Test Recall Weighted</th>\n",
       "    </tr>\n",
       "  </thead>\n",
       "  <tbody>\n",
       "    <tr>\n",
       "      <th>0</th>\n",
       "      <td>ShuffleNet</td>\n",
       "      <td>1375525</td>\n",
       "      <td>0.12144674699999998 ± 0.11716571999999999</td>\n",
       "      <td>69 ± 10</td>\n",
       "      <td>315 ± 46</td>\n",
       "      <td>0.999526 ± 0.000333</td>\n",
       "      <td>0.999526 ± 0.000333</td>\n",
       "      <td>0.999526 ± 0.000334</td>\n",
       "      <td>0.999526 ± 0.000333</td>\n",
       "    </tr>\n",
       "    <tr>\n",
       "      <th>1</th>\n",
       "      <td>InceptionV3</td>\n",
       "      <td>22854437</td>\n",
       "      <td>0.144318171 ± 0.11716572000000001</td>\n",
       "      <td>70 ± 14</td>\n",
       "      <td>512 ± 99</td>\n",
       "      <td>0.998976 ± 0.000626</td>\n",
       "      <td>0.998975 ± 0.000627</td>\n",
       "      <td>0.998975 ± 0.000627</td>\n",
       "      <td>0.998976 ± 0.000626</td>\n",
       "    </tr>\n",
       "    <tr>\n",
       "      <th>2</th>\n",
       "      <td>EfficientNetV2S</td>\n",
       "      <td>22854437</td>\n",
       "      <td>0.23433143999999997 ± 0.11716571999999999</td>\n",
       "      <td>74 ± 11</td>\n",
       "      <td>545 ± 88</td>\n",
       "      <td>0.998767 ± 0.001161</td>\n",
       "      <td>0.998766 ± 0.001163</td>\n",
       "      <td>0.998768 ± 0.001161</td>\n",
       "      <td>0.998767 ± 0.001161</td>\n",
       "    </tr>\n",
       "    <tr>\n",
       "      <th>3</th>\n",
       "      <td>VGG-16</td>\n",
       "      <td>67154757</td>\n",
       "      <td>0.211460016 ± 0.11716572</td>\n",
       "      <td>92 ± 8</td>\n",
       "      <td>1365 ± 120</td>\n",
       "      <td>0.998691 ± 0.001155</td>\n",
       "      <td>0.998688 ± 0.001159</td>\n",
       "      <td>0.998699 ± 0.001146</td>\n",
       "      <td>0.998691 ± 0.001155</td>\n",
       "    </tr>\n",
       "    <tr>\n",
       "      <th>4</th>\n",
       "      <td>MobileNetV2</td>\n",
       "      <td>2916421</td>\n",
       "      <td>0.12008178600000001 ± 0.11716572</td>\n",
       "      <td>36 ± 2</td>\n",
       "      <td>209 ± 22</td>\n",
       "      <td>0.202998 ± 0.104955</td>\n",
       "      <td>0.07658 ± 0.07115</td>\n",
       "      <td>0.048552 ± 0.048971</td>\n",
       "      <td>0.202998 ± 0.104955</td>\n",
       "    </tr>\n",
       "  </tbody>\n",
       "</table>\n",
       "</div>"
      ],
      "text/plain": [
       "     Architectures Total Params                                     GFLOPS  \\\n",
       "0       ShuffleNet      1375525  0.12144674699999998 ± 0.11716571999999999   \n",
       "1      InceptionV3     22854437          0.144318171 ± 0.11716572000000001   \n",
       "2  EfficientNetV2S     22854437  0.23433143999999997 ± 0.11716571999999999   \n",
       "3           VGG-16     67154757                   0.211460016 ± 0.11716572   \n",
       "4      MobileNetV2      2916421           0.12008178600000001 ± 0.11716572   \n",
       "\n",
       "    Epochs Training Time (sec)        Test Accuracy     Test F1 Weightet  \\\n",
       "0  69 ± 10            315 ± 46  0.999526 ± 0.000333  0.999526 ± 0.000333   \n",
       "1  70 ± 14            512 ± 99  0.998976 ± 0.000626  0.998975 ± 0.000627   \n",
       "2  74 ± 11            545 ± 88  0.998767 ± 0.001161  0.998766 ± 0.001163   \n",
       "3   92 ± 8          1365 ± 120  0.998691 ± 0.001155  0.998688 ± 0.001159   \n",
       "4   36 ± 2            209 ± 22  0.202998 ± 0.104955    0.07658 ± 0.07115   \n",
       "\n",
       "  Test Precision Weighted Test Recall Weighted  \n",
       "0     0.999526 ± 0.000334  0.999526 ± 0.000333  \n",
       "1     0.998975 ± 0.000627  0.998976 ± 0.000626  \n",
       "2     0.998768 ± 0.001161  0.998767 ± 0.001161  \n",
       "3     0.998699 ± 0.001146  0.998691 ± 0.001155  \n",
       "4     0.048552 ± 0.048971  0.202998 ± 0.104955  "
      ]
     },
     "execution_count": 25,
     "metadata": {},
     "output_type": "execute_result"
    }
   ],
   "source": [
    "df_cnn.sort_values(\"Test F1 Weightet\", ascending=False, ignore_index=True)"
   ]
  }
 ],
 "metadata": {
  "kernelspec": {
   "display_name": "Python 3 (ipykernel)",
   "language": "python",
   "name": "python3"
  },
  "language_info": {
   "codemirror_mode": {
    "name": "ipython",
    "version": 3
   },
   "file_extension": ".py",
   "mimetype": "text/x-python",
   "name": "python",
   "nbconvert_exporter": "python",
   "pygments_lexer": "ipython3",
   "version": "3.10.6"
  }
 },
 "nbformat": 4,
 "nbformat_minor": 5
}
