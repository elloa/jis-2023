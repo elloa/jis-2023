{
 "cells": [
  {
   "cell_type": "markdown",
   "id": "f81b27de-82f3-4b5a-8c9a-2ea947d179e1",
   "metadata": {},
   "source": [
    "# Splitting Datasets - Extended Validation"
   ]
  },
  {
   "cell_type": "code",
   "execution_count": 1,
   "id": "7d3d0d8a-b50e-4cb2-9d70-6cec8cc7591c",
   "metadata": {},
   "outputs": [],
   "source": [
    "import os, shutil\n",
    "import splitfolders"
   ]
  },
  {
   "cell_type": "code",
   "execution_count": 2,
   "id": "68fa1ff4-db22-4750-8b04-d68f14057499",
   "metadata": {},
   "outputs": [],
   "source": [
    "DATASETS_FOLDER = \"./datasets\"\n",
    "\n",
    "PATH_PLANT_PATOLOGIES = DATASETS_FOLDER + \"/plant_patologies\"\n",
    "PATH_PLANT_PATOLOGIES_RESIZED = PATH_PLANT_PATOLOGIES + \"/resized\"\n",
    "PATH_PLANT_PATOLOGIES_SPLITTED = PATH_PLANT_PATOLOGIES + \"/splitted\"\n",
    "\n",
    "PATH_ROCOLE = DATASETS_FOLDER + \"/rocole\"\n",
    "PATH_ROCOLE_RESIZED = PATH_ROCOLE + \"/resized\"\n",
    "PATH_ROCOLE_SPLITTED = PATH_ROCOLE + \"/splitted\""
   ]
  },
  {
   "cell_type": "markdown",
   "id": "b9a048d3-8b73-4b90-868a-32a951110382",
   "metadata": {},
   "source": [
    "## 1. Creating directories to save datasets splits"
   ]
  },
  {
   "cell_type": "markdown",
   "id": "7810765a-c6c2-4ceb-b387-c41ed8ff331f",
   "metadata": {},
   "source": [
    "### 1.1. Plant Patologies"
   ]
  },
  {
   "cell_type": "code",
   "execution_count": 3,
   "id": "1a197b68-729a-4e0d-a255-24eaa7fa667c",
   "metadata": {},
   "outputs": [],
   "source": [
    "if not os.path.exists(PATH_PLANT_PATOLOGIES_SPLITTED):\n",
    "    os.makedirs(PATH_PLANT_PATOLOGIES_SPLITTED)"
   ]
  },
  {
   "cell_type": "markdown",
   "id": "07461e86-086d-4292-b6e4-caeff562104c",
   "metadata": {},
   "source": [
    "### 1.2. RoCoLe"
   ]
  },
  {
   "cell_type": "code",
   "execution_count": 4,
   "id": "f1d920d9-e186-40e9-a0b3-4bc3b0464867",
   "metadata": {},
   "outputs": [],
   "source": [
    "if not os.path.exists(PATH_ROCOLE_SPLITTED):\n",
    "    os.makedirs(PATH_ROCOLE_SPLITTED)"
   ]
  },
  {
   "cell_type": "markdown",
   "id": "25eda341-0a32-48b8-8e21-694a7d15cda1",
   "metadata": {},
   "source": [
    "## 2. Splitting datasets"
   ]
  },
  {
   "cell_type": "markdown",
   "id": "7bc03758-bc9d-4c7b-bd9a-69e3130f054c",
   "metadata": {},
   "source": [
    "### 2.1. Plant Patologies"
   ]
  },
  {
   "cell_type": "code",
   "execution_count": 5,
   "id": "1068d5d6-2094-4a57-bdb6-0e3531646be6",
   "metadata": {},
   "outputs": [
    {
     "name": "stderr",
     "output_type": "stream",
     "text": [
      "Copying files: 542 files [00:00, 12427.91 files/s]\n"
     ]
    }
   ],
   "source": [
    "splitfolders.ratio(PATH_PLANT_PATOLOGIES_RESIZED, \n",
    "                   output=PATH_PLANT_PATOLOGIES_SPLITTED, \n",
    "                   ratio=(0.7, 0.1, 0.2)) "
   ]
  },
  {
   "cell_type": "markdown",
   "id": "88b797ed-9c24-47c2-89dd-2d6d9a23d2f1",
   "metadata": {},
   "source": [
    "### 2.2. RoCoLe"
   ]
  },
  {
   "cell_type": "code",
   "execution_count": 6,
   "id": "97e3dd83-c25a-4780-af6c-eea8069ec550",
   "metadata": {},
   "outputs": [
    {
     "name": "stderr",
     "output_type": "stream",
     "text": [
      "Copying files: 1560 files [00:00, 12043.88 files/s]\n"
     ]
    }
   ],
   "source": [
    "splitfolders.ratio(PATH_ROCOLE_RESIZED, \n",
    "                   output=PATH_ROCOLE_SPLITTED, \n",
    "                   ratio=(0.7, 0.1, 0.2)) "
   ]
  }
 ],
 "metadata": {
  "kernelspec": {
   "display_name": "Python 3 (ipykernel)",
   "language": "python",
   "name": "python3"
  },
  "language_info": {
   "codemirror_mode": {
    "name": "ipython",
    "version": 3
   },
   "file_extension": ".py",
   "mimetype": "text/x-python",
   "name": "python",
   "nbconvert_exporter": "python",
   "pygments_lexer": "ipython3",
   "version": "3.10.6"
  }
 },
 "nbformat": 4,
 "nbformat_minor": 5
}
