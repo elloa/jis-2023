{
 "cells": [
  {
   "cell_type": "markdown",
   "id": "17ca2384-bff5-4279-83ea-dc8d5d6ca7bb",
   "metadata": {},
   "source": [
    "# Splitting Dataset - JMUBEN Dataset"
   ]
  },
  {
   "cell_type": "code",
   "execution_count": 1,
   "id": "73d810df-8b49-4b22-a761-059554ffb89e",
   "metadata": {},
   "outputs": [],
   "source": [
    "import os, shutil\n",
    "import splitfolders"
   ]
  },
  {
   "cell_type": "code",
   "execution_count": 2,
   "id": "2960091f-6bff-4342-a41d-a0dedf598d21",
   "metadata": {},
   "outputs": [],
   "source": [
    "DATASETS_FOLDER = \"./datasets\"\n",
    "PATH_JMUBEN = DATASETS_FOLDER + \"/jmuben\"\n",
    "PATH_JMUBEN_RESIZED = PATH_JMUBEN + \"/resized\"\n",
    "PATH_JMUBEN_SPLITTED = PATH_JMUBEN + \"/splitted\""
   ]
  },
  {
   "cell_type": "markdown",
   "id": "8ae5b443-9b31-4e61-b736-5f07f5e1748d",
   "metadata": {},
   "source": [
    "## 1. Creating directories to save three dataset splits"
   ]
  },
  {
   "cell_type": "code",
   "execution_count": 3,
   "id": "8e3b4e7d-bedc-4441-be74-11f94d57e17e",
   "metadata": {},
   "outputs": [],
   "source": [
    "if os.path.exists(PATH_JMUBEN_SPLITTED):\n",
    "    shutil.rmtree(PATH_JMUBEN_SPLITTED)\n",
    "    \n",
    "for i in range(3):\n",
    "    os.makedirs(f\"{PATH_JMUBEN_SPLITTED}/experiment{i+1}\")"
   ]
  },
  {
   "cell_type": "markdown",
   "id": "e40ddbfa-f5d9-4f31-b881-48dd588e970a",
   "metadata": {},
   "source": [
    "## 2. Defining paths of splits"
   ]
  },
  {
   "cell_type": "code",
   "execution_count": 4,
   "id": "67d39e0d-94ab-4933-bd3e-5fe7d3995acc",
   "metadata": {},
   "outputs": [
    {
     "data": {
      "text/plain": [
       "['experiment2', 'experiment1', 'experiment3']"
      ]
     },
     "execution_count": 4,
     "metadata": {},
     "output_type": "execute_result"
    }
   ],
   "source": [
    "split_folders = os.listdir(PATH_JMUBEN_SPLITTED)\n",
    "split_folders"
   ]
  },
  {
   "cell_type": "markdown",
   "id": "acd2a50e-3aae-4035-a07a-4284c7d1caf1",
   "metadata": {},
   "source": [
    "## 3. Splitting dataset three times in different ways"
   ]
  },
  {
   "cell_type": "code",
   "execution_count": 5,
   "id": "a2ba7f57-8674-44a4-a11a-8213e6e07d43",
   "metadata": {},
   "outputs": [
    {
     "name": "stderr",
     "output_type": "stream",
     "text": [
      "Copying files: 58549 files [04:29, 217.10 files/s]\n",
      "Copying files: 58549 files [00:04, 12448.07 files/s]\n",
      "Copying files: 58549 files [00:04, 12601.83 files/s]\n"
     ]
    }
   ],
   "source": [
    "for i in range(3):\n",
    "    split_folder = f\"{PATH_JMUBEN_SPLITTED}/{split_folders[i]}\"\n",
    "    splitfolders.ratio(PATH_JMUBEN_RESIZED, output=split_folder, seed=1337+i, ratio=(0.6, 0.1, 0.3)) "
   ]
  }
 ],
 "metadata": {
  "kernelspec": {
   "display_name": "Python 3 (ipykernel)",
   "language": "python",
   "name": "python3"
  },
  "language_info": {
   "codemirror_mode": {
    "name": "ipython",
    "version": 3
   },
   "file_extension": ".py",
   "mimetype": "text/x-python",
   "name": "python",
   "nbconvert_exporter": "python",
   "pygments_lexer": "ipython3",
   "version": "3.10.6"
  }
 },
 "nbformat": 4,
 "nbformat_minor": 5
}
