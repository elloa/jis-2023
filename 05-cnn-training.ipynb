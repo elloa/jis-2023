{
 "cells": [
  {
   "cell_type": "markdown",
   "id": "70ca196d-d791-4991-9ec1-f6d71189d55a",
   "metadata": {
    "tags": []
   },
   "source": [
    "# Convolutional Neural Networks Training - JMUBEN Dataset"
   ]
  },
  {
   "cell_type": "code",
   "execution_count": null,
   "id": "f583a764-9b5c-4d97-a660-7d34f54c81fa",
   "metadata": {},
   "outputs": [],
   "source": [
    "import matplotlib.pyplot as plt\n",
    "import numpy as np\n",
    "import pandas as pd\n",
    "import tensorflow as tf\n",
    "import time, os\n",
    "from tensorflow.keras.preprocessing.image import ImageDataGenerator\n",
    "from sklearn.metrics import accuracy_score, precision_score, recall_score, f1_score, plot_confusion_matrix\n",
    "from tensorflow.keras import layers, models, optimizers, callbacks\n",
    "from tensorflow.keras.applications import MobileNetV2, InceptionV3, VGG16, EfficientNetV2S\n",
    "from tensorflow.keras.models import Model\n",
    "from tensorflow.keras.layers import Input, Add, AveragePooling2D, Dense, AvgPool2D,BatchNormalization, ReLU, DepthwiseConv2D, Reshape, Permute,Conv2D, MaxPool2D, GlobalAveragePooling2D, concatenate"
   ]
  },
  {
   "cell_type": "code",
   "execution_count": null,
   "id": "45e46f96-207c-44b9-af19-e40761c8a94c",
   "metadata": {},
   "outputs": [],
   "source": [
    "import warnings\n",
    "warnings.filterwarnings(\"ignore\")"
   ]
  },
  {
   "cell_type": "code",
   "execution_count": null,
   "id": "cae8df5a-6913-42f6-9d9a-b80367c91790",
   "metadata": {},
   "outputs": [],
   "source": [
    "import logging\n",
    "tf.get_logger().setLevel(logging.ERROR)"
   ]
  },
  {
   "cell_type": "code",
   "execution_count": null,
   "id": "77f374ee-3410-4ea5-b409-02f95d3358a9",
   "metadata": {},
   "outputs": [],
   "source": [
    "tf.debugging.set_log_device_placement(False)\n",
    "devices = tf.config.experimental.list_physical_devices('GPU')\n",
    "tf.config.experimental.set_memory_growth(devices[0], True)\n",
    "tf.config.experimental.set_memory_growth(devices[1], True)"
   ]
  },
  {
   "cell_type": "code",
   "execution_count": null,
   "id": "761fd833-862b-4a9c-9e17-e74fe57ccf03",
   "metadata": {},
   "outputs": [],
   "source": [
    "ROOT_FOLDER = \"/home/lais/jis-2023\"\n",
    "PATH_DATASETS = ROOT_FOLDER + \"/datasets\"\n",
    "PATH_JMUBEN = PATH_DATASETS + \"/jmuben\"\n",
    "PATH_JMUBEN_SPLITTED = PATH_JMUBEN + \"/splitted\"\n",
    "PATH_CNN_ARTIFACTS = ROOT_FOLDER + \"/cnn-artifacts\"\n",
    "PATH_EVALUATIONS = ROOT_FOLDER + \"/evaluations\"\n",
    "PATH_EVALUATIONS_CNNS = PATH_EVALUATIONS + \"/CNNs\""
   ]
  },
  {
   "cell_type": "markdown",
   "id": "bd62f623-861f-4361-bb71-97c533f22a2c",
   "metadata": {},
   "source": [
    "## 1. Defining hiperparams"
   ]
  },
  {
   "cell_type": "markdown",
   "id": "d60b7c78-4e26-4190-990e-9e8ffabe533c",
   "metadata": {},
   "source": [
    "### 1.1. Generators"
   ]
  },
  {
   "cell_type": "code",
   "execution_count": null,
   "id": "5af337f8-17c3-4e36-9ffa-36d3f27ebabb",
   "metadata": {},
   "outputs": [],
   "source": [
    "BATCH_SIZE = 32\n",
    "IMG_SIZE = (128, 128)\n",
    "NUM_LABELS = 5\n",
    "INPUT_SHAPE = (128, 128, 3)"
   ]
  },
  {
   "cell_type": "markdown",
   "id": "92dd7789-c408-4404-a2c9-1a9494fc8575",
   "metadata": {},
   "source": [
    "### 1.2. Model"
   ]
  },
  {
   "cell_type": "code",
   "execution_count": null,
   "id": "40d0dc76-c04d-415b-ad66-0adbabdd830f",
   "metadata": {},
   "outputs": [],
   "source": [
    "EPOCHS = 300\n",
    "patience = 30"
   ]
  },
  {
   "cell_type": "markdown",
   "id": "3cfec72f-1751-425f-af0c-5b757ca08496",
   "metadata": {},
   "source": [
    "## 2. Defining model evaluation functions "
   ]
  },
  {
   "cell_type": "code",
   "execution_count": null,
   "id": "7d49ba64-f484-48ba-891a-4d8f5aecea52",
   "metadata": {},
   "outputs": [],
   "source": [
    "def get_gflops(model_h5_path):\n",
    "    \"\"\"Calculate GFLOPS from model.\"\"\"\n",
    "    \n",
    "    session = tf.compat.v1.Session()\n",
    "    graph = tf.compat.v1.get_default_graph()\n",
    "        \n",
    "    with graph.as_default():\n",
    "        with session.as_default():\n",
    "            model = tf.keras.models.load_model(model_h5_path)\n",
    "\n",
    "            run_meta = tf.compat.v1.RunMetadata()\n",
    "            opts = tf.compat.v1.profiler.ProfileOptionBuilder.float_operation()\n",
    "        \n",
    "            flops = tf.compat.v1.profiler.profile(graph=graph, run_meta=run_meta, cmd='op', options=opts)\n",
    "            flops = flops.total_float_ops\n",
    "            \n",
    "            gflops = flops / 1e9\n",
    "            \n",
    "            return gflops"
   ]
  },
  {
   "cell_type": "code",
   "execution_count": null,
   "id": "b8572ada-1060-49d4-b04a-038df414330f",
   "metadata": {},
   "outputs": [],
   "source": [
    "def plot_graph(epochs, train_data, train_label, val_data, val_label, title, xlabel, ylabel, path, metric, i):\n",
    "    \"\"\"Plot line graph from model data.\"\"\"\n",
    "    \n",
    "    plt.plot(epochs, train_data, label=train_label, color=\"darkblue\")\n",
    "    plt.plot(epochs, val_data, label=val_label, color=\"cornflowerblue\")\n",
    "    plt.title(title)\n",
    "    plt.xlabel(xlabel)\n",
    "    plt.ylabel(ylabel)\n",
    "    plt.legend()\n",
    "    \n",
    "    if not os.path.exists(path):\n",
    "        os.makedirs(path)\n",
    "        \n",
    "    plt.savefig(f\"{path}/{i}-{metric}.jpg\", dpi=115, bbox_inches=\"tight\")\n",
    "    plt.close()\n",
    "    plt.clf()"
   ]
  },
  {
   "cell_type": "code",
   "execution_count": null,
   "id": "7f9695ff-919b-4a54-8324-a8a0fc720e83",
   "metadata": {},
   "outputs": [],
   "source": [
    "def model_training_progress(history, path, i):\n",
    "    \"\"\"Generate visual representation from model training progress and return total training epochs.\"\"\"\n",
    "    \n",
    "    acc = history.history[\"acc\"]\n",
    "    val_acc = history.history[\"val_acc\"]\n",
    "\n",
    "    loss = history.history[\"loss\"]\n",
    "    val_loss = history.history[\"val_loss\"]\n",
    "\n",
    "    epochs = range(1, len(acc) + 1)\n",
    "    \n",
    "    plot_graph(epochs, acc, \"Train\", val_acc, \"Validation\", \"Train and Validation Accuracy\", \"Epochs\", \"Accuracy\", path, \"Accuracy\", i)\n",
    "    plot_graph(epochs, loss, \"Train\", val_loss, \"Validation\", \"Train and Validation Loss\", \"Epochs\", \"Loss\", path, \"Loss\", i)\n",
    "    \n",
    "    return len(acc)"
   ]
  },
  {
   "cell_type": "code",
   "execution_count": null,
   "id": "7375dc5b-580e-4419-8f16-3ead15078c3a",
   "metadata": {},
   "outputs": [],
   "source": [
    "def evaluate_model(y_true, y_pred):\n",
    "    \"\"\"Calculate model metrics.\"\"\"\n",
    "    \n",
    "    accuracy = accuracy_score(y_true, y_pred)\n",
    "    f1 = f1_score(y_true, y_pred, average=\"weighted\")\n",
    "    precision = precision_score(y_true, y_pred, average=\"weighted\")\n",
    "    recall = recall_score(y_true, y_pred, average=\"weighted\")\n",
    "    \n",
    "    return accuracy, f1, precision, recall"
   ]
  },
  {
   "cell_type": "code",
   "execution_count": null,
   "id": "bd382920-cd2d-4289-92dd-02d904e74fd0",
   "metadata": {},
   "outputs": [],
   "source": [
    "def generate_dataframe(total_params, gflops, epochs, training_time, accuracy, f1, precision, recall, i, path, model_name):\n",
    "    \"\"\"Generate dataframe to save model metrics.\"\"\"\n",
    "    \n",
    "    metrics = {\n",
    "        \"Experiment\": str(i), \n",
    "        \"Total Params\": total_params,\n",
    "        \"GFLOPS\": gflops, \n",
    "        \"Epochs\": epochs, \n",
    "        \"Training Time (sec)\": training_time, \n",
    "        \"Test Accuracy\": accuracy, \n",
    "        \"Test F1 Weightet\": f1, \n",
    "        \"Test Precision Weighted\": precision, \n",
    "        \"Test Recall Weighted\": recall}\n",
    "    \n",
    "    df_new = pd.DataFrame(data=[metrics])\n",
    "    file_path = f\"{path}/metrics_{model_name}.csv\"\n",
    "    \n",
    "    if not os.path.exists(path):\n",
    "        os.makedirs(path)\n",
    "    \n",
    "    if os.path.exists(file_path):\n",
    "        df = pd.read_csv(file_path)\n",
    "        df = df.append(df_new)\n",
    "        df.to_csv(file_path, header=True, index=False)\n",
    "    else:\n",
    "        df_new.to_csv(file_path, header=True, index=False)"
   ]
  },
  {
   "cell_type": "code",
   "execution_count": null,
   "id": "37217393-62fb-40f2-b9f4-733e6b291aee",
   "metadata": {},
   "outputs": [],
   "source": [
    "def confusion_matrix_scorer(model, class_names, test_generator, y_true_test, path, model_name, i):\n",
    "    \"\"\"Generate confusion matrix from model predictions.\"\"\"\n",
    "    \n",
    "    class estimator:\n",
    "        _estimator_type = ''\n",
    "        classes_= []\n",
    "\n",
    "        def __init__(self, model, classes):\n",
    "            self.model = model\n",
    "            self._estimator_type = \"classifier\"\n",
    "            self.classes_ = classes\n",
    "\n",
    "        def predict(self, X):\n",
    "            y_prob= self.model.predict(X)\n",
    "            y_pred = y_prob.argmax(axis=1)\n",
    "            return y_pred\n",
    "\n",
    "\n",
    "    classifier = estimator(model, class_names)\n",
    "    \n",
    "    cm = plot_confusion_matrix(estimator=classifier, X=test_generator, y_true=y_true_test, xticks_rotation=45, cmap=\"Blues\")\n",
    "    cm.ax_.set_title(f\"Confusion Matrix - {model_name}\")\n",
    "    cm.ax_.set_xlabel(\"Predicted labels\")\n",
    "    cm.ax_.set_xticklabels(class_names)\n",
    "    cm.ax_.set_ylabel(\"True labels\")\n",
    "    cm.ax_.set_yticklabels(class_names)\n",
    "    \n",
    "    file_path = f\"{path}/{i}-ConfusionMatrix.jpg\"\n",
    "    \n",
    "    plt.savefig(file_path, dpi=115, bbox_inches=\"tight\")\n",
    "    plt.close()\n",
    "    plt.clf()"
   ]
  },
  {
   "cell_type": "markdown",
   "id": "0d5a9843-3725-49b1-a57e-00584e3b76a6",
   "metadata": {
    "tags": []
   },
   "source": [
    "## 3. Defining image generator function"
   ]
  },
  {
   "cell_type": "code",
   "execution_count": null,
   "id": "2407ffbb-2402-4354-8680-f6473b716e39",
   "metadata": {},
   "outputs": [],
   "source": [
    "def image_data_generator(train_dir, validation_dir, test_dir):\n",
    "    \"\"\"Construct image data generator.\"\"\"\n",
    "    \n",
    "    train_datagen = ImageDataGenerator(rescale=1./255)\n",
    "    validation_datagen = ImageDataGenerator(rescale=1./255)\n",
    "    test_datagen = ImageDataGenerator(rescale=1./255)\n",
    "\n",
    "    train_generator = train_datagen.flow_from_directory(\n",
    "        train_dir,\n",
    "        target_size=IMG_SIZE,\n",
    "        batch_size=BATCH_SIZE,\n",
    "        class_mode=\"categorical\")\n",
    "\n",
    "    validation_generator = validation_datagen.flow_from_directory(\n",
    "        validation_dir,\n",
    "        target_size=IMG_SIZE,\n",
    "        batch_size=BATCH_SIZE,\n",
    "        class_mode=\"categorical\")\n",
    "\n",
    "    test_generator = test_datagen.flow_from_directory(\n",
    "        test_dir,\n",
    "        target_size=IMG_SIZE,\n",
    "        batch_size=1,\n",
    "        class_mode=\"categorical\",\n",
    "        shuffle = False)\n",
    "    \n",
    "    return train_generator, validation_generator, test_generator"
   ]
  },
  {
   "cell_type": "markdown",
   "id": "8230a735-158e-4e38-96f8-3bd949d505f5",
   "metadata": {},
   "source": [
    "## 4. Training CNN models"
   ]
  },
  {
   "cell_type": "markdown",
   "id": "c7dcfc59-d3ee-4a79-b9d6-3ee6570122d5",
   "metadata": {
    "tags": []
   },
   "source": [
    "### 4.1. Defining functions to return the models to train with adjustments to output layers to match the problem"
   ]
  },
  {
   "cell_type": "markdown",
   "id": "fbe53012-a479-49f8-9dad-d74bf7e085c4",
   "metadata": {
    "jp-MarkdownHeadingCollapsed": true,
    "tags": []
   },
   "source": [
    "#### MobileNetV2"
   ]
  },
  {
   "cell_type": "code",
   "execution_count": null,
   "id": "cd282d1e-7345-4ce8-a5f8-f5ab0de5ccd9",
   "metadata": {
    "tags": []
   },
   "outputs": [],
   "source": [
    "def mobilenetv2():\n",
    "    mobilenetv2 = tf.keras.applications.MobileNetV2(\n",
    "        input_shape=INPUT_SHAPE, \n",
    "        alpha=1.0,\n",
    "        include_top=True,\n",
    "        weights=None,\n",
    "        input_tensor=None,\n",
    "        pooling=\"max\",\n",
    "        classes=NUM_LABELS,\n",
    "        classifier_activation=None)\n",
    "\n",
    "    last = mobilenetv2.layers[-2]\n",
    "    x = layers.Flatten()(last.output)\n",
    "    x = layers.Dense(512, activation=\"relu\")(x)\n",
    "    predictions = layers.Dense(NUM_LABELS, activation=\"sigmoid\")(x)\n",
    "    \n",
    "    mobilenetv2_architecture = models.Model(mobilenetv2.input, predictions)\n",
    "    return mobilenetv2_architecture"
   ]
  },
  {
   "cell_type": "markdown",
   "id": "c30749b5-eb4c-4422-9dd1-b60fab9945e4",
   "metadata": {
    "jp-MarkdownHeadingCollapsed": true,
    "tags": []
   },
   "source": [
    "#### ShuffleNet"
   ]
  },
  {
   "cell_type": "markdown",
   "id": "0177bf9b-729b-41c1-99ac-122608895ecb",
   "metadata": {},
   "source": [
    "- Defining architecture"
   ]
  },
  {
   "cell_type": "code",
   "execution_count": null,
   "id": "c6d3d999-37a4-44cf-a9ad-8375ce5d2827",
   "metadata": {},
   "outputs": [],
   "source": [
    "def channel_shuffle(x, groups):  \n",
    "    _, width, height, channels = x.get_shape().as_list()\n",
    "    group_ch = channels // groups\n",
    "\n",
    "    x = Reshape([width, height, group_ch, groups])(x)\n",
    "    x = Permute([1, 2, 4, 3])(x)\n",
    "    x = Reshape([width, height, channels])(x)\n",
    "    \n",
    "    return x"
   ]
  },
  {
   "cell_type": "code",
   "execution_count": null,
   "id": "e096879d-ee14-4c9e-b28c-0c6dc5ed6cfd",
   "metadata": {},
   "outputs": [],
   "source": [
    "def shuffle_unit(x, groups, channels,strides):\n",
    "    y = x\n",
    "    x = Conv2D(channels//4, kernel_size = 1, strides = (1,1),padding = 'same', groups=groups)(x)\n",
    "    x = BatchNormalization()(x)\n",
    "    x = ReLU()(x)\n",
    "\n",
    "    x = channel_shuffle(x, groups)\n",
    "    \n",
    "    x = DepthwiseConv2D(kernel_size = (3,3), strides = strides, padding = 'same')(x)\n",
    "    x = BatchNormalization()(x)\n",
    "\n",
    "    if strides == (2,2):\n",
    "        channels = channels - y.shape[-1]\n",
    "        \n",
    "    x = Conv2D(channels, kernel_size = 1, strides = (1,1),padding = 'same', groups=groups)(x)\n",
    "    x = BatchNormalization()(x)\n",
    "\n",
    "    if strides ==(1,1):\n",
    "        x =Add()([x,y])\n",
    "        \n",
    "    if strides == (2,2):\n",
    "        y = AvgPool2D((3,3), strides = (2,2), padding = 'same')(y)\n",
    "        x = concatenate([x,y])\n",
    "    \n",
    "    x = ReLU()(x)\n",
    "\n",
    "    return x"
   ]
  },
  {
   "cell_type": "code",
   "execution_count": null,
   "id": "aa1f38b9-ad4f-4505-b5a2-73ad19c12555",
   "metadata": {},
   "outputs": [],
   "source": [
    "def ShuffleNet(n_classes, start_channels, input_shape=(224, 224, 3)):\n",
    "    groups = 2\n",
    "    input = Input(input_shape)\n",
    "\n",
    "    x =  Conv2D (24,kernel_size=3,strides = (2,2), padding = 'same', use_bias = True)(input)\n",
    "    x =  BatchNormalization()(x)\n",
    "    x =  ReLU()(x)\n",
    "    \n",
    "    x = MaxPool2D (pool_size=(3,3), strides = 2, padding='same')(x)\n",
    "\n",
    "    repetitions = [3,7,3]\n",
    "\n",
    "    for i,repetition in enumerate(repetitions):\n",
    "        channels = start_channels * (2**i)\n",
    "\n",
    "        x  = shuffle_unit(x, groups, channels,strides = (2,2))\n",
    "\n",
    "        for i in range(repetition):\n",
    "            x = shuffle_unit(x, groups, channels,strides=(1,1))\n",
    "\n",
    "    x = GlobalAveragePooling2D()(x)\n",
    "\n",
    "    output = Dense(n_classes,activation='softmax')(x)\n",
    "\n",
    "    model = Model(input, output)\n",
    "    \n",
    "    return model"
   ]
  },
  {
   "cell_type": "markdown",
   "id": "5f11b855-2879-4eb7-81d6-56132e8d7d2c",
   "metadata": {},
   "source": [
    "- Model"
   ]
  },
  {
   "cell_type": "code",
   "execution_count": null,
   "id": "27b993c5-7820-4235-84bd-838b26fef532",
   "metadata": {},
   "outputs": [],
   "source": [
    "def shufllenet():\n",
    "    shufflenet = ShuffleNet(NUM_LABELS, 200, INPUT_SHAPE)\n",
    "\n",
    "    last = shufflenet.layers[-2]\n",
    "    x = layers.Flatten()(last.output)\n",
    "    x = layers.Dense(512, activation=\"relu\")(x)\n",
    "    predictions = layers.Dense(NUM_LABELS, activation=\"sigmoid\")(x)\n",
    "    \n",
    "    shufflenet_architecture = models.Model(shufflenet.input, predictions)\n",
    "    return shufflenet_architecture"
   ]
  },
  {
   "cell_type": "markdown",
   "id": "d262ce8e-f0ae-4eec-8b9d-cee69436013b",
   "metadata": {
    "jp-MarkdownHeadingCollapsed": true,
    "tags": []
   },
   "source": [
    "#### InceptionV3"
   ]
  },
  {
   "cell_type": "code",
   "execution_count": null,
   "id": "59a019c5-3957-4498-80c8-13a1b8546671",
   "metadata": {},
   "outputs": [],
   "source": [
    "def inceptionv3():\n",
    "    inceptionv3 = tf.keras.applications.InceptionV3(\n",
    "        include_top=True,\n",
    "        weights=None,\n",
    "        input_tensor=None,\n",
    "        input_shape=INPUT_SHAPE,\n",
    "        pooling=max,\n",
    "        classes=NUM_LABELS,\n",
    "        classifier_activation=None)\n",
    "\n",
    "    last = inceptionv3.layers[-2]\n",
    "    x = layers.Flatten()(last.output)\n",
    "    x = layers.Dense(512, activation=\"relu\")(x)\n",
    "    predictions = layers.Dense(NUM_LABELS, activation=\"sigmoid\")(x)\n",
    "    \n",
    "    inceptionv3_architecture = models.Model(inceptionv3.input, predictions)\n",
    "    return inceptionv3_architecture"
   ]
  },
  {
   "cell_type": "markdown",
   "id": "de4d8e6a-4307-47da-b935-d09ed83e356f",
   "metadata": {
    "jp-MarkdownHeadingCollapsed": true,
    "tags": []
   },
   "source": [
    "#### VGG-16"
   ]
  },
  {
   "cell_type": "code",
   "execution_count": null,
   "id": "20a06272-3a52-4aab-ad16-f3fce437ea47",
   "metadata": {},
   "outputs": [],
   "source": [
    "def vgg16():\n",
    "    vgg16 = tf.keras.applications.VGG16(\n",
    "        include_top=True,\n",
    "        weights=None,\n",
    "        input_tensor=None,\n",
    "        input_shape=INPUT_SHAPE,\n",
    "        pooling=max,\n",
    "        classes=NUM_LABELS,\n",
    "        classifier_activation=None)\n",
    "\n",
    "    last = vgg16.layers[-2]\n",
    "    x = layers.Flatten()(last.output)\n",
    "    x = layers.Dense(512, activation=\"relu\")(x)\n",
    "    predictions = layers.Dense(NUM_LABELS, activation=\"sigmoid\")(x)\n",
    "    \n",
    "    vgg16_architecture = models.Model(vgg16.input, predictions)\n",
    "    return vgg16_architecture"
   ]
  },
  {
   "cell_type": "markdown",
   "id": "1079182e-b3c9-4c2f-892f-0318fa7466ae",
   "metadata": {
    "jp-MarkdownHeadingCollapsed": true,
    "tags": []
   },
   "source": [
    "#### EfficientNetV2S"
   ]
  },
  {
   "cell_type": "code",
   "execution_count": null,
   "id": "a2aa649e-f472-4b03-bf39-0aef264641a9",
   "metadata": {},
   "outputs": [],
   "source": [
    "def efficientnet():\n",
    "    efficientnet = tf.keras.applications.InceptionV3(\n",
    "        include_top=True,\n",
    "        weights=None,\n",
    "        input_tensor=None,\n",
    "        input_shape=INPUT_SHAPE,\n",
    "        pooling=max,\n",
    "        classes=NUM_LABELS,\n",
    "        classifier_activation=None)\n",
    "\n",
    "    last = efficientnet.layers[-2]\n",
    "    x = layers.Flatten()(last.output)\n",
    "    x = layers.Dense(512, activation=\"relu\")(x)\n",
    "    predictions = layers.Dense(NUM_LABELS, activation=\"sigmoid\")(x)\n",
    "    \n",
    "    efficientnet_architecture = models.Model(efficientnet.input, predictions)\n",
    "    return efficientnet_architecture"
   ]
  },
  {
   "cell_type": "markdown",
   "id": "1bf7a48c-d27a-4a55-8ae5-4bcd9933be1c",
   "metadata": {
    "tags": []
   },
   "source": [
    "#### Saving model names"
   ]
  },
  {
   "cell_type": "code",
   "execution_count": null,
   "id": "4e166808-57f5-48a8-b825-1383e848bfd3",
   "metadata": {},
   "outputs": [],
   "source": [
    "model_names = [\"MobileNetV2\", \"ShuffleNet\", \"InceptionV3\", \"VGG-16\", \"EfficientNetV2S\"]"
   ]
  },
  {
   "cell_type": "markdown",
   "id": "53b39a0b-5948-43fa-9961-9c44840f9216",
   "metadata": {},
   "source": [
    "### 4.2. Making three experiments"
   ]
  },
  {
   "cell_type": "code",
   "execution_count": null,
   "id": "7b855a66-d22b-4467-9dc3-77e81cb3bf49",
   "metadata": {},
   "outputs": [],
   "source": [
    "for i in range(1, 4):\n",
    "    print(f\">> EXPERIMENT {i}\")\n",
    "    \n",
    "    for model_name in model_names:\n",
    "        # Experiment directory\n",
    "        experiment = f\"experiment{i}\"\n",
    "        train_dir = f\"{PATH_JMUBEN_SPLITTED}/{experiment}/train\"\n",
    "        validation_dir = f\"{PATH_JMUBEN_SPLITTED}/{experiment}/val\"\n",
    "        test_dir = f\"{PATH_JMUBEN_SPLITTED}/{experiment}/test\"\n",
    "\n",
    "        # Generators\n",
    "        train_generator, validation_generator, test_generator = image_data_generator(train_dir, validation_dir, test_dir)\n",
    "\n",
    "        # Verifying if artifacts directory exists\n",
    "        ARTIFACTS_PATH = f\"{PATH_CNN_ARTIFACTS}/{model_name}\"\n",
    "        logs_path = f\"{ARTIFACTS_PATH}/logs\"\n",
    "        checkpoints_path = f\"{ARTIFACTS_PATH}/checkpoints\"\n",
    "\n",
    "        if not os.path.isdir(ARTIFACTS_PATH):\n",
    "            os.makedirs(ARTIFACTS_PATH)\n",
    "\n",
    "        if not os.path.isdir(logs_path):\n",
    "            os.makedirs(logs_path)\n",
    "\n",
    "        if not os.path.isdir(checkpoints_path):\n",
    "            os.makedirs(checkpoints_path)\n",
    "\n",
    "        # Callbacks\n",
    "        csv_logger = callbacks.CSVLogger(f\"{logs_path}/training{i}.log\")\n",
    "        early_stopping = callbacks.EarlyStopping(monitor=\"val_acc\", patience=patience)\n",
    "        model_checkpoint = callbacks.ModelCheckpoint(\n",
    "            filepath=f\"{checkpoints_path}/checkpoint{i}\", \n",
    "            monitor=\"val_acc\", \n",
    "            save_best_only=True, \n",
    "            save_weights_only=True, \n",
    "            mode=\"max\")\n",
    "        \n",
    "        # Creating and compiling model\n",
    "        model_architecture = mobilenetv2()\n",
    "        \n",
    "        if \"Shuffle\" in model_name:\n",
    "            model_architecture = shufllenet()\n",
    "        elif \"VGG\" in model_name:\n",
    "            model_architecture = vgg16()\n",
    "        elif \"Inception\" in model_name:\n",
    "            model_architecture = inceptionv3()\n",
    "        elif \"Efficient\" in model_name:\n",
    "            model_architecture = efficientnet()\n",
    "            \n",
    "        model_architecture.compile(loss=\"categorical_crossentropy\", optimizer=optimizers.RMSprop(learning_rate=1e-4), metrics=[\"acc\"])\n",
    "        model_architecture.summary()\n",
    "\n",
    "        # Training model and verifying training time\n",
    "        print(f\"\\n>> Training {model_name} model...\")\n",
    "        beginning = time.time()\n",
    "\n",
    "        history = model_architecture.fit(\n",
    "            train_generator, \n",
    "            steps_per_epoch=100, \n",
    "            epochs=EPOCHS, \n",
    "            validation_data=validation_generator, \n",
    "            validation_steps=50, \n",
    "            callbacks=[csv_logger, early_stopping, model_checkpoint],\n",
    "            verbose=0)\n",
    "\n",
    "        end = time.time()\n",
    "        training_time = end - beginning\n",
    "        \n",
    "        # Saving the best model\n",
    "        model_architecture.save(f\"{ARTIFACTS_PATH}/{model_name}_exp{i}.h5\")\n",
    "        print(\"Best model saved.\")\n",
    "        \n",
    "        # Getting GFLOPS\n",
    "        gflops = get_gflops(f\"{ARTIFACTS_PATH}/{model_name}_exp{i}.h5\")\n",
    "\n",
    "        # Model progress\n",
    "        model_evaluation_path = f\"{PATH_EVALUATIONS_CNNS}/{model_name}\"\n",
    "        total_epochs = model_training_progress(history, model_evaluation_path, i)\n",
    "        print(\"Progress model saved.\")\n",
    "        \n",
    "        # Loading model architecture and weights\n",
    "        model_architecture_json = model_architecture.to_json()\n",
    "        model_architecture = tf.keras.models.model_from_json(model_architecture_json)\n",
    "        model_architecture.load_weights(f\"{checkpoints_path}/checkpoint{i}\")\n",
    "        \n",
    "        # Testing model\n",
    "        print(f\"\\nTesting {model_name} model...\")\n",
    "        STEP_SIZE_TEST = test_generator.n // test_generator.batch_size\n",
    "        test_generator.reset()\n",
    "        \n",
    "        y_pred = model_architecture.predict(test_generator, steps=STEP_SIZE_TEST, verbose=1)\n",
    "        y_pred = np.argmax(y_pred, axis=1)\n",
    "        \n",
    "        # Mapping predicted integers to labels \n",
    "        labels = (train_generator.class_indices)\n",
    "        labels = dict((value, key) for key, value in labels.items())\n",
    "\n",
    "        y_pred = [labels[element] for element in y_pred]\n",
    "\n",
    "        y_true = test_generator.filenames\n",
    "        y_true = [element[:element.find('/')] for element in y_true]\n",
    "        \n",
    "        total_params = model_architecture.count_params()\n",
    "        \n",
    "        # Evaluating model and saving metrics\n",
    "        accuracy, f1, precision, recall = evaluate_model(y_true, y_pred)\n",
    "        generate_dataframe(total_params, gflops, total_epochs, training_time, accuracy, f1, precision, recall, i, model_evaluation_path, model_name)\n",
    "        print(\"Model evaluated.\")\n",
    "\n",
    "        # Plotting confusion matrix\n",
    "        class_names = os.listdir(test_dir)\n",
    "\n",
    "        true_labels = []\n",
    "\n",
    "        for filename in y_true:\n",
    "            for key, value in labels.items():\n",
    "                if filename == value:\n",
    "                    true_labels.append(key)\n",
    "\n",
    "        confusion_matrix_scorer(model_architecture, class_names, test_generator, true_labels, model_evaluation_path, model_name, i)\n",
    "        print(\"Confusion Matrix saved.\")\n",
    "        print(\"\\n\\n\\n\")"
   ]
  }
 ],
 "metadata": {
  "kernelspec": {
   "display_name": "Python 3 (ipykernel)",
   "language": "python",
   "name": "python3"
  },
  "language_info": {
   "codemirror_mode": {
    "name": "ipython",
    "version": 3
   },
   "file_extension": ".py",
   "mimetype": "text/x-python",
   "name": "python",
   "nbconvert_exporter": "python",
   "pygments_lexer": "ipython3",
   "version": "3.10.6"
  }
 },
 "nbformat": 4,
 "nbformat_minor": 5
}
