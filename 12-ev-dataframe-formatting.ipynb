{
 "cells": [
  {
   "cell_type": "markdown",
   "id": "a64cf3ca-9b08-4abe-bae1-02003cf4da7c",
   "metadata": {},
   "source": [
    "# DataFrames Formatting - Extended Validation"
   ]
  },
  {
   "cell_type": "code",
   "execution_count": 1,
   "id": "14c59b2e-25e8-421c-bc1e-2736201c1811",
   "metadata": {},
   "outputs": [],
   "source": [
    "import pandas as pd\n",
    "import numpy as np\n",
    "from datetime import datetime, timedelta"
   ]
  },
  {
   "cell_type": "code",
   "execution_count": 2,
   "id": "d2d6add3-6646-46e4-ad92-f936d8dfcad6",
   "metadata": {},
   "outputs": [],
   "source": [
    "import warnings\n",
    "warnings.filterwarnings(\"ignore\")"
   ]
  },
  {
   "cell_type": "code",
   "execution_count": 3,
   "id": "352bb347-19ba-4322-8aa0-1350b256a0d0",
   "metadata": {},
   "outputs": [],
   "source": [
    "PATH_EVALUATIONS = \"./evaluations\"\n",
    "PATH_EV_METRICS = PATH_EVALUATIONS + \"/extended-validation\"\n",
    "METRICS_BRACOL = PATH_EV_METRICS + \"/bracol/metrics_bracol.csv\"\n",
    "METRICS_PLANT_PATOLOGIES = PATH_EV_METRICS + \"/plant_patologies/metrics_plant_patologies.csv\"\n",
    "METRICS_ROCOLE = PATH_EV_METRICS + \"/rocole/metrics_rocole.csv\""
   ]
  },
  {
   "cell_type": "markdown",
   "id": "e34286e3-aa4d-4ed9-a0fc-991a8afc9382",
   "metadata": {},
   "source": [
    "## 1. Opening dataframes"
   ]
  },
  {
   "cell_type": "markdown",
   "id": "485a2e54-db0e-430b-829c-fb77021e9c37",
   "metadata": {},
   "source": [
    "### 1.1. BRACOL"
   ]
  },
  {
   "cell_type": "code",
   "execution_count": 4,
   "id": "187c01aa-a250-440f-94c2-bf8485e8ec7c",
   "metadata": {},
   "outputs": [
    {
     "data": {
      "text/html": [
       "<div>\n",
       "<style scoped>\n",
       "    .dataframe tbody tr th:only-of-type {\n",
       "        vertical-align: middle;\n",
       "    }\n",
       "\n",
       "    .dataframe tbody tr th {\n",
       "        vertical-align: top;\n",
       "    }\n",
       "\n",
       "    .dataframe thead th {\n",
       "        text-align: right;\n",
       "    }\n",
       "</style>\n",
       "<table border=\"1\" class=\"dataframe\">\n",
       "  <thead>\n",
       "    <tr style=\"text-align: right;\">\n",
       "      <th></th>\n",
       "      <th>Early Stopping</th>\n",
       "      <th>Epochs</th>\n",
       "      <th>Test Accuracy</th>\n",
       "      <th>Test F1 Weightet</th>\n",
       "      <th>Test Precision Weighted</th>\n",
       "      <th>Test Recall Weighted</th>\n",
       "    </tr>\n",
       "  </thead>\n",
       "  <tbody>\n",
       "    <tr>\n",
       "      <th>0</th>\n",
       "      <td>True</td>\n",
       "      <td>96</td>\n",
       "      <td>0.826866</td>\n",
       "      <td>0.824443</td>\n",
       "      <td>0.830976</td>\n",
       "      <td>0.826866</td>\n",
       "    </tr>\n",
       "    <tr>\n",
       "      <th>1</th>\n",
       "      <td>False</td>\n",
       "      <td>300</td>\n",
       "      <td>0.862687</td>\n",
       "      <td>0.860581</td>\n",
       "      <td>0.863572</td>\n",
       "      <td>0.862687</td>\n",
       "    </tr>\n",
       "  </tbody>\n",
       "</table>\n",
       "</div>"
      ],
      "text/plain": [
       "   Early Stopping  Epochs  Test Accuracy  Test F1 Weightet  \\\n",
       "0            True      96       0.826866          0.824443   \n",
       "1           False     300       0.862687          0.860581   \n",
       "\n",
       "   Test Precision Weighted  Test Recall Weighted  \n",
       "0                 0.830976              0.826866  \n",
       "1                 0.863572              0.862687  "
      ]
     },
     "execution_count": 4,
     "metadata": {},
     "output_type": "execute_result"
    }
   ],
   "source": [
    "df_bracol = pd.read_csv(METRICS_BRACOL)\n",
    "df_bracol.head()"
   ]
  },
  {
   "cell_type": "markdown",
   "id": "70aa1976-0831-45d7-817c-e945e6fa3365",
   "metadata": {},
   "source": [
    "### 1.2. Plant Patologies"
   ]
  },
  {
   "cell_type": "code",
   "execution_count": 5,
   "id": "7be11e15-cb31-486a-8156-4ce6c7a366f3",
   "metadata": {},
   "outputs": [
    {
     "data": {
      "text/html": [
       "<div>\n",
       "<style scoped>\n",
       "    .dataframe tbody tr th:only-of-type {\n",
       "        vertical-align: middle;\n",
       "    }\n",
       "\n",
       "    .dataframe tbody tr th {\n",
       "        vertical-align: top;\n",
       "    }\n",
       "\n",
       "    .dataframe thead th {\n",
       "        text-align: right;\n",
       "    }\n",
       "</style>\n",
       "<table border=\"1\" class=\"dataframe\">\n",
       "  <thead>\n",
       "    <tr style=\"text-align: right;\">\n",
       "      <th></th>\n",
       "      <th>Early Stopping</th>\n",
       "      <th>Epochs</th>\n",
       "      <th>Test Accuracy</th>\n",
       "      <th>Test F1 Weightet</th>\n",
       "      <th>Test Precision Weighted</th>\n",
       "      <th>Test Recall Weighted</th>\n",
       "    </tr>\n",
       "  </thead>\n",
       "  <tbody>\n",
       "    <tr>\n",
       "      <th>0</th>\n",
       "      <td>True</td>\n",
       "      <td>31</td>\n",
       "      <td>0.522523</td>\n",
       "      <td>0.358655</td>\n",
       "      <td>0.27303</td>\n",
       "      <td>0.522523</td>\n",
       "    </tr>\n",
       "    <tr>\n",
       "      <th>1</th>\n",
       "      <td>False</td>\n",
       "      <td>300</td>\n",
       "      <td>0.936937</td>\n",
       "      <td>0.936957</td>\n",
       "      <td>0.93713</td>\n",
       "      <td>0.936937</td>\n",
       "    </tr>\n",
       "  </tbody>\n",
       "</table>\n",
       "</div>"
      ],
      "text/plain": [
       "   Early Stopping  Epochs  Test Accuracy  Test F1 Weightet  \\\n",
       "0            True      31       0.522523          0.358655   \n",
       "1           False     300       0.936937          0.936957   \n",
       "\n",
       "   Test Precision Weighted  Test Recall Weighted  \n",
       "0                  0.27303              0.522523  \n",
       "1                  0.93713              0.936937  "
      ]
     },
     "execution_count": 5,
     "metadata": {},
     "output_type": "execute_result"
    }
   ],
   "source": [
    "df_plant_patologies = pd.read_csv(METRICS_PLANT_PATOLOGIES)\n",
    "df_plant_patologies.head()"
   ]
  },
  {
   "cell_type": "markdown",
   "id": "59106ef9-2f95-4ba8-9d4e-3220eb058a12",
   "metadata": {},
   "source": [
    "### 1.3. RoCoLe"
   ]
  },
  {
   "cell_type": "code",
   "execution_count": 6,
   "id": "c9f2269c-489a-4ab7-875a-0907512efa51",
   "metadata": {},
   "outputs": [
    {
     "data": {
      "text/html": [
       "<div>\n",
       "<style scoped>\n",
       "    .dataframe tbody tr th:only-of-type {\n",
       "        vertical-align: middle;\n",
       "    }\n",
       "\n",
       "    .dataframe tbody tr th {\n",
       "        vertical-align: top;\n",
       "    }\n",
       "\n",
       "    .dataframe thead th {\n",
       "        text-align: right;\n",
       "    }\n",
       "</style>\n",
       "<table border=\"1\" class=\"dataframe\">\n",
       "  <thead>\n",
       "    <tr style=\"text-align: right;\">\n",
       "      <th></th>\n",
       "      <th>Early Stopping</th>\n",
       "      <th>Epochs</th>\n",
       "      <th>Test Accuracy</th>\n",
       "      <th>Test F1 Weightet</th>\n",
       "      <th>Test Precision Weighted</th>\n",
       "      <th>Test Recall Weighted</th>\n",
       "    </tr>\n",
       "  </thead>\n",
       "  <tbody>\n",
       "    <tr>\n",
       "      <th>0</th>\n",
       "      <td>True</td>\n",
       "      <td>59</td>\n",
       "      <td>0.584127</td>\n",
       "      <td>0.548807</td>\n",
       "      <td>0.546922</td>\n",
       "      <td>0.584127</td>\n",
       "    </tr>\n",
       "    <tr>\n",
       "      <th>1</th>\n",
       "      <td>False</td>\n",
       "      <td>300</td>\n",
       "      <td>0.587302</td>\n",
       "      <td>0.580185</td>\n",
       "      <td>0.577721</td>\n",
       "      <td>0.587302</td>\n",
       "    </tr>\n",
       "  </tbody>\n",
       "</table>\n",
       "</div>"
      ],
      "text/plain": [
       "   Early Stopping  Epochs  Test Accuracy  Test F1 Weightet  \\\n",
       "0            True      59       0.584127          0.548807   \n",
       "1           False     300       0.587302          0.580185   \n",
       "\n",
       "   Test Precision Weighted  Test Recall Weighted  \n",
       "0                 0.546922              0.584127  \n",
       "1                 0.577721              0.587302  "
      ]
     },
     "execution_count": 6,
     "metadata": {},
     "output_type": "execute_result"
    }
   ],
   "source": [
    "df_rocole = pd.read_csv(METRICS_ROCOLE)\n",
    "df_rocole.head()"
   ]
  },
  {
   "cell_type": "markdown",
   "id": "dfd59898-577b-4ddd-89cb-813e9f22a4c6",
   "metadata": {},
   "source": [
    "## 2. Selecting datasets"
   ]
  },
  {
   "cell_type": "code",
   "execution_count": 7,
   "id": "5c53fc78-9979-4c80-81bf-6978de51bbb6",
   "metadata": {},
   "outputs": [
    {
     "data": {
      "text/plain": [
       "['BRACOL', 'Plant Patologies', 'RoCoLe']"
      ]
     },
     "execution_count": 7,
     "metadata": {},
     "output_type": "execute_result"
    }
   ],
   "source": [
    "datasets = [\"BRACOL\", \"Plant Patologies\", \"RoCoLe\"]\n",
    "datasets"
   ]
  },
  {
   "cell_type": "markdown",
   "id": "124b70d6-78f8-4f58-a17d-52d87f084e89",
   "metadata": {},
   "source": [
    "## 3. Defining columns and index"
   ]
  },
  {
   "cell_type": "code",
   "execution_count": 8,
   "id": "2aa3ed32-1177-48b3-96c7-fe59374939ad",
   "metadata": {},
   "outputs": [
    {
     "data": {
      "text/plain": [
       "['Datasets',\n",
       " 'Samples',\n",
       " 'Early Stopping',\n",
       " 'Epochs',\n",
       " 'Test Accuracy',\n",
       " 'Test F1 Weightet',\n",
       " 'Test Precision Weighted',\n",
       " 'Test Recall Weighted']"
      ]
     },
     "execution_count": 8,
     "metadata": {},
     "output_type": "execute_result"
    }
   ],
   "source": [
    "columns = [\"Datasets\", \"Samples\"]\n",
    "\n",
    "for column in df_bracol.columns:\n",
    "    columns.append(column)\n",
    "\n",
    "columns"
   ]
  },
  {
   "cell_type": "code",
   "execution_count": 9,
   "id": "77743f7a-bc7d-4629-b0f6-d451756d344e",
   "metadata": {},
   "outputs": [],
   "source": [
    "index = [i for i in range(1, 7)]"
   ]
  },
  {
   "cell_type": "markdown",
   "id": "f0d92cba-170f-4af5-97a9-2c49cd1e854f",
   "metadata": {},
   "source": [
    "## 4. Saving all metrics in a general dataframe"
   ]
  },
  {
   "cell_type": "code",
   "execution_count": 10,
   "id": "27861ec3-62e2-42cc-b3d8-3ed29e3c2a99",
   "metadata": {},
   "outputs": [
    {
     "data": {
      "text/html": [
       "<div>\n",
       "<style scoped>\n",
       "    .dataframe tbody tr th:only-of-type {\n",
       "        vertical-align: middle;\n",
       "    }\n",
       "\n",
       "    .dataframe tbody tr th {\n",
       "        vertical-align: top;\n",
       "    }\n",
       "\n",
       "    .dataframe thead th {\n",
       "        text-align: right;\n",
       "    }\n",
       "</style>\n",
       "<table border=\"1\" class=\"dataframe\">\n",
       "  <thead>\n",
       "    <tr style=\"text-align: right;\">\n",
       "      <th></th>\n",
       "      <th>Datasets</th>\n",
       "      <th>Samples</th>\n",
       "      <th>Early Stopping</th>\n",
       "      <th>Epochs</th>\n",
       "      <th>Test Accuracy</th>\n",
       "      <th>Test F1 Weightet</th>\n",
       "      <th>Test Precision Weighted</th>\n",
       "      <th>Test Recall Weighted</th>\n",
       "    </tr>\n",
       "  </thead>\n",
       "  <tbody>\n",
       "    <tr>\n",
       "      <th>0</th>\n",
       "      <td>BRACOL</td>\n",
       "      <td>2209</td>\n",
       "      <td>NaN</td>\n",
       "      <td>NaN</td>\n",
       "      <td>NaN</td>\n",
       "      <td>NaN</td>\n",
       "      <td>NaN</td>\n",
       "      <td>NaN</td>\n",
       "    </tr>\n",
       "    <tr>\n",
       "      <th>1</th>\n",
       "      <td>BRACOL</td>\n",
       "      <td>2209</td>\n",
       "      <td>NaN</td>\n",
       "      <td>NaN</td>\n",
       "      <td>NaN</td>\n",
       "      <td>NaN</td>\n",
       "      <td>NaN</td>\n",
       "      <td>NaN</td>\n",
       "    </tr>\n",
       "    <tr>\n",
       "      <th>2</th>\n",
       "      <td>Plant Patologies</td>\n",
       "      <td>542</td>\n",
       "      <td>NaN</td>\n",
       "      <td>NaN</td>\n",
       "      <td>NaN</td>\n",
       "      <td>NaN</td>\n",
       "      <td>NaN</td>\n",
       "      <td>NaN</td>\n",
       "    </tr>\n",
       "    <tr>\n",
       "      <th>3</th>\n",
       "      <td>Plant Patologies</td>\n",
       "      <td>542</td>\n",
       "      <td>NaN</td>\n",
       "      <td>NaN</td>\n",
       "      <td>NaN</td>\n",
       "      <td>NaN</td>\n",
       "      <td>NaN</td>\n",
       "      <td>NaN</td>\n",
       "    </tr>\n",
       "    <tr>\n",
       "      <th>4</th>\n",
       "      <td>RoCoLe</td>\n",
       "      <td>1560</td>\n",
       "      <td>NaN</td>\n",
       "      <td>NaN</td>\n",
       "      <td>NaN</td>\n",
       "      <td>NaN</td>\n",
       "      <td>NaN</td>\n",
       "      <td>NaN</td>\n",
       "    </tr>\n",
       "    <tr>\n",
       "      <th>5</th>\n",
       "      <td>RoCoLe</td>\n",
       "      <td>1560</td>\n",
       "      <td>NaN</td>\n",
       "      <td>NaN</td>\n",
       "      <td>NaN</td>\n",
       "      <td>NaN</td>\n",
       "      <td>NaN</td>\n",
       "      <td>NaN</td>\n",
       "    </tr>\n",
       "  </tbody>\n",
       "</table>\n",
       "</div>"
      ],
      "text/plain": [
       "           Datasets  Samples Early Stopping Epochs Test Accuracy  \\\n",
       "0            BRACOL     2209            NaN    NaN           NaN   \n",
       "1            BRACOL     2209            NaN    NaN           NaN   \n",
       "2  Plant Patologies      542            NaN    NaN           NaN   \n",
       "3  Plant Patologies      542            NaN    NaN           NaN   \n",
       "4            RoCoLe     1560            NaN    NaN           NaN   \n",
       "5            RoCoLe     1560            NaN    NaN           NaN   \n",
       "\n",
       "  Test F1 Weightet Test Precision Weighted Test Recall Weighted  \n",
       "0              NaN                     NaN                  NaN  \n",
       "1              NaN                     NaN                  NaN  \n",
       "2              NaN                     NaN                  NaN  \n",
       "3              NaN                     NaN                  NaN  \n",
       "4              NaN                     NaN                  NaN  \n",
       "5              NaN                     NaN                  NaN  "
      ]
     },
     "execution_count": 10,
     "metadata": {},
     "output_type": "execute_result"
    }
   ],
   "source": [
    "df_extended_validation = pd.DataFrame(columns=columns, index=index)\n",
    "df_extended_validation[\"Datasets\"] = datasets*2\n",
    "df_extended_validation[\"Samples\"] = [2209, 542, 1560]*2\n",
    "df_extended_validation = df_extended_validation.sort_values(\"Datasets\", ignore_index=True)\n",
    "df_extended_validation"
   ]
  },
  {
   "cell_type": "code",
   "execution_count": 11,
   "id": "0e2f9ce9-b1f7-47d1-b396-9fe46d0b02b3",
   "metadata": {
    "tags": []
   },
   "outputs": [],
   "source": [
    "for dataset in datasets:\n",
    "    for column in columns[2:]:\n",
    "        if dataset == \"BRACOL\":\n",
    "            df_extended_validation[column].loc[df_extended_validation[\"Datasets\"] == dataset] = df_bracol[column].values\n",
    "        elif \"Plant\" in dataset:\n",
    "            df_extended_validation[column].loc[df_extended_validation[\"Datasets\"] == dataset] = df_plant_patologies[column].values\n",
    "        else:\n",
    "            df_extended_validation[column].loc[df_extended_validation[\"Datasets\"] == dataset] = df_rocole[column].values"
   ]
  },
  {
   "cell_type": "code",
   "execution_count": 12,
   "id": "0d7a0b38-a7e3-4605-9821-c481432e2a77",
   "metadata": {},
   "outputs": [],
   "source": [
    "df_extended_validation.to_csv(PATH_EVALUATIONS + \"/metrics_extended_validation.csv\", header=True, index=False)"
   ]
  },
  {
   "cell_type": "markdown",
   "id": "10b523cd-1204-42c9-b129-b30507e006b6",
   "metadata": {},
   "source": [
    "## 5. Showing the best results"
   ]
  },
  {
   "cell_type": "code",
   "execution_count": 13,
   "id": "2fb4a809-5c16-4f49-a57f-36ec5cea5c9a",
   "metadata": {},
   "outputs": [
    {
     "data": {
      "text/html": [
       "<div>\n",
       "<style scoped>\n",
       "    .dataframe tbody tr th:only-of-type {\n",
       "        vertical-align: middle;\n",
       "    }\n",
       "\n",
       "    .dataframe tbody tr th {\n",
       "        vertical-align: top;\n",
       "    }\n",
       "\n",
       "    .dataframe thead th {\n",
       "        text-align: right;\n",
       "    }\n",
       "</style>\n",
       "<table border=\"1\" class=\"dataframe\">\n",
       "  <thead>\n",
       "    <tr style=\"text-align: right;\">\n",
       "      <th></th>\n",
       "      <th>Datasets</th>\n",
       "      <th>Samples</th>\n",
       "      <th>Early Stopping</th>\n",
       "      <th>Epochs</th>\n",
       "      <th>Test Accuracy</th>\n",
       "      <th>Test F1 Weightet</th>\n",
       "      <th>Test Precision Weighted</th>\n",
       "      <th>Test Recall Weighted</th>\n",
       "    </tr>\n",
       "  </thead>\n",
       "  <tbody>\n",
       "    <tr>\n",
       "      <th>0</th>\n",
       "      <td>Plant Patologies</td>\n",
       "      <td>542</td>\n",
       "      <td>False</td>\n",
       "      <td>300</td>\n",
       "      <td>0.936937</td>\n",
       "      <td>0.936957</td>\n",
       "      <td>0.93713</td>\n",
       "      <td>0.936937</td>\n",
       "    </tr>\n",
       "    <tr>\n",
       "      <th>1</th>\n",
       "      <td>BRACOL</td>\n",
       "      <td>2209</td>\n",
       "      <td>False</td>\n",
       "      <td>300</td>\n",
       "      <td>0.862687</td>\n",
       "      <td>0.860581</td>\n",
       "      <td>0.863572</td>\n",
       "      <td>0.862687</td>\n",
       "    </tr>\n",
       "    <tr>\n",
       "      <th>2</th>\n",
       "      <td>BRACOL</td>\n",
       "      <td>2209</td>\n",
       "      <td>True</td>\n",
       "      <td>96</td>\n",
       "      <td>0.826866</td>\n",
       "      <td>0.824443</td>\n",
       "      <td>0.830976</td>\n",
       "      <td>0.826866</td>\n",
       "    </tr>\n",
       "    <tr>\n",
       "      <th>3</th>\n",
       "      <td>RoCoLe</td>\n",
       "      <td>1560</td>\n",
       "      <td>False</td>\n",
       "      <td>300</td>\n",
       "      <td>0.587302</td>\n",
       "      <td>0.580185</td>\n",
       "      <td>0.577721</td>\n",
       "      <td>0.587302</td>\n",
       "    </tr>\n",
       "    <tr>\n",
       "      <th>4</th>\n",
       "      <td>RoCoLe</td>\n",
       "      <td>1560</td>\n",
       "      <td>True</td>\n",
       "      <td>59</td>\n",
       "      <td>0.584127</td>\n",
       "      <td>0.548807</td>\n",
       "      <td>0.546922</td>\n",
       "      <td>0.584127</td>\n",
       "    </tr>\n",
       "    <tr>\n",
       "      <th>5</th>\n",
       "      <td>Plant Patologies</td>\n",
       "      <td>542</td>\n",
       "      <td>True</td>\n",
       "      <td>31</td>\n",
       "      <td>0.522523</td>\n",
       "      <td>0.358655</td>\n",
       "      <td>0.27303</td>\n",
       "      <td>0.522523</td>\n",
       "    </tr>\n",
       "  </tbody>\n",
       "</table>\n",
       "</div>"
      ],
      "text/plain": [
       "           Datasets  Samples Early Stopping Epochs Test Accuracy  \\\n",
       "0  Plant Patologies      542          False    300      0.936937   \n",
       "1            BRACOL     2209          False    300      0.862687   \n",
       "2            BRACOL     2209           True     96      0.826866   \n",
       "3            RoCoLe     1560          False    300      0.587302   \n",
       "4            RoCoLe     1560           True     59      0.584127   \n",
       "5  Plant Patologies      542           True     31      0.522523   \n",
       "\n",
       "  Test F1 Weightet Test Precision Weighted Test Recall Weighted  \n",
       "0         0.936957                 0.93713             0.936937  \n",
       "1         0.860581                0.863572             0.862687  \n",
       "2         0.824443                0.830976             0.826866  \n",
       "3         0.580185                0.577721             0.587302  \n",
       "4         0.548807                0.546922             0.584127  \n",
       "5         0.358655                 0.27303             0.522523  "
      ]
     },
     "execution_count": 13,
     "metadata": {},
     "output_type": "execute_result"
    }
   ],
   "source": [
    "df_extended_validation = df_extended_validation.sort_values(\"Test F1 Weightet\", ascending=False, ignore_index=True)\n",
    "df_extended_validation.head(6)"
   ]
  }
 ],
 "metadata": {
  "kernelspec": {
   "display_name": "Python 3 (ipykernel)",
   "language": "python",
   "name": "python3"
  },
  "language_info": {
   "codemirror_mode": {
    "name": "ipython",
    "version": 3
   },
   "file_extension": ".py",
   "mimetype": "text/x-python",
   "name": "python",
   "nbconvert_exporter": "python",
   "pygments_lexer": "ipython3",
   "version": "3.10.6"
  }
 },
 "nbformat": 4,
 "nbformat_minor": 5
}
